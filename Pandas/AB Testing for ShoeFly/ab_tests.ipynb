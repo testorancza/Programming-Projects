{
 "cells": [
  {
   "cell_type": "code",
   "execution_count": 2,
   "outputs": [
    {
     "data": {
      "text/plain": "                                user_id utm_source           day  \\\n0  008b7c6c-7272-471e-b90e-930d548bd8d7     google  6 - Saturday   \n1  009abb94-5e14-4b6c-bb1c-4f4df7aa7557   facebook    7 - Sunday   \n2  00f5d532-ed58-4570-b6d2-768df5f41aed    twitter   2 - Tuesday   \n3  011adc64-0f44-4fd9-a0bb-f1506d2ad439     google   2 - Tuesday   \n4  012137e6-7ae7-4649-af68-205b4702169c   facebook    7 - Sunday   \n\n  ad_click_timestamp experimental_group  \n0               7:18                  A  \n1                NaN                  B  \n2                NaN                  A  \n3                NaN                  B  \n4                NaN                  B  ",
      "text/html": "<div>\n<style scoped>\n    .dataframe tbody tr th:only-of-type {\n        vertical-align: middle;\n    }\n\n    .dataframe tbody tr th {\n        vertical-align: top;\n    }\n\n    .dataframe thead th {\n        text-align: right;\n    }\n</style>\n<table border=\"1\" class=\"dataframe\">\n  <thead>\n    <tr style=\"text-align: right;\">\n      <th></th>\n      <th>user_id</th>\n      <th>utm_source</th>\n      <th>day</th>\n      <th>ad_click_timestamp</th>\n      <th>experimental_group</th>\n    </tr>\n  </thead>\n  <tbody>\n    <tr>\n      <th>0</th>\n      <td>008b7c6c-7272-471e-b90e-930d548bd8d7</td>\n      <td>google</td>\n      <td>6 - Saturday</td>\n      <td>7:18</td>\n      <td>A</td>\n    </tr>\n    <tr>\n      <th>1</th>\n      <td>009abb94-5e14-4b6c-bb1c-4f4df7aa7557</td>\n      <td>facebook</td>\n      <td>7 - Sunday</td>\n      <td>NaN</td>\n      <td>B</td>\n    </tr>\n    <tr>\n      <th>2</th>\n      <td>00f5d532-ed58-4570-b6d2-768df5f41aed</td>\n      <td>twitter</td>\n      <td>2 - Tuesday</td>\n      <td>NaN</td>\n      <td>A</td>\n    </tr>\n    <tr>\n      <th>3</th>\n      <td>011adc64-0f44-4fd9-a0bb-f1506d2ad439</td>\n      <td>google</td>\n      <td>2 - Tuesday</td>\n      <td>NaN</td>\n      <td>B</td>\n    </tr>\n    <tr>\n      <th>4</th>\n      <td>012137e6-7ae7-4649-af68-205b4702169c</td>\n      <td>facebook</td>\n      <td>7 - Sunday</td>\n      <td>NaN</td>\n      <td>B</td>\n    </tr>\n  </tbody>\n</table>\n</div>"
     },
     "execution_count": 2,
     "metadata": {},
     "output_type": "execute_result"
    }
   ],
   "source": [
    "import pandas as pd\n",
    "\n",
    "ad_clicks = pd.read_csv('ad_clicks.csv')\n",
    "ad_clicks.head(5)"
   ],
   "metadata": {
    "collapsed": false,
    "pycharm": {
     "name": "#%%\n"
    }
   }
  },
  {
   "cell_type": "code",
   "execution_count": 3,
   "outputs": [
    {
     "data": {
      "text/plain": "  utm_source  user_id\n0      email      255\n1   facebook      504\n2     google      680\n3    twitter      215",
      "text/html": "<div>\n<style scoped>\n    .dataframe tbody tr th:only-of-type {\n        vertical-align: middle;\n    }\n\n    .dataframe tbody tr th {\n        vertical-align: top;\n    }\n\n    .dataframe thead th {\n        text-align: right;\n    }\n</style>\n<table border=\"1\" class=\"dataframe\">\n  <thead>\n    <tr style=\"text-align: right;\">\n      <th></th>\n      <th>utm_source</th>\n      <th>user_id</th>\n    </tr>\n  </thead>\n  <tbody>\n    <tr>\n      <th>0</th>\n      <td>email</td>\n      <td>255</td>\n    </tr>\n    <tr>\n      <th>1</th>\n      <td>facebook</td>\n      <td>504</td>\n    </tr>\n    <tr>\n      <th>2</th>\n      <td>google</td>\n      <td>680</td>\n    </tr>\n    <tr>\n      <th>3</th>\n      <td>twitter</td>\n      <td>215</td>\n    </tr>\n  </tbody>\n</table>\n</div>"
     },
     "execution_count": 3,
     "metadata": {},
     "output_type": "execute_result"
    }
   ],
   "source": [
    "most_views = ad_clicks.groupby(\"utm_source\").user_id.count().reset_index()\n",
    "most_views"
   ],
   "metadata": {
    "collapsed": false,
    "pycharm": {
     "name": "#%%\n"
    }
   }
  },
  {
   "cell_type": "code",
   "execution_count": 4,
   "outputs": [
    {
     "data": {
      "text/plain": "                                user_id utm_source           day  \\\n0  008b7c6c-7272-471e-b90e-930d548bd8d7     google  6 - Saturday   \n1  009abb94-5e14-4b6c-bb1c-4f4df7aa7557   facebook    7 - Sunday   \n2  00f5d532-ed58-4570-b6d2-768df5f41aed    twitter   2 - Tuesday   \n3  011adc64-0f44-4fd9-a0bb-f1506d2ad439     google   2 - Tuesday   \n4  012137e6-7ae7-4649-af68-205b4702169c   facebook    7 - Sunday   \n\n  ad_click_timestamp experimental_group  is_click  \n0               7:18                  A      True  \n1                NaN                  B     False  \n2                NaN                  A     False  \n3                NaN                  B     False  \n4                NaN                  B     False  ",
      "text/html": "<div>\n<style scoped>\n    .dataframe tbody tr th:only-of-type {\n        vertical-align: middle;\n    }\n\n    .dataframe tbody tr th {\n        vertical-align: top;\n    }\n\n    .dataframe thead th {\n        text-align: right;\n    }\n</style>\n<table border=\"1\" class=\"dataframe\">\n  <thead>\n    <tr style=\"text-align: right;\">\n      <th></th>\n      <th>user_id</th>\n      <th>utm_source</th>\n      <th>day</th>\n      <th>ad_click_timestamp</th>\n      <th>experimental_group</th>\n      <th>is_click</th>\n    </tr>\n  </thead>\n  <tbody>\n    <tr>\n      <th>0</th>\n      <td>008b7c6c-7272-471e-b90e-930d548bd8d7</td>\n      <td>google</td>\n      <td>6 - Saturday</td>\n      <td>7:18</td>\n      <td>A</td>\n      <td>True</td>\n    </tr>\n    <tr>\n      <th>1</th>\n      <td>009abb94-5e14-4b6c-bb1c-4f4df7aa7557</td>\n      <td>facebook</td>\n      <td>7 - Sunday</td>\n      <td>NaN</td>\n      <td>B</td>\n      <td>False</td>\n    </tr>\n    <tr>\n      <th>2</th>\n      <td>00f5d532-ed58-4570-b6d2-768df5f41aed</td>\n      <td>twitter</td>\n      <td>2 - Tuesday</td>\n      <td>NaN</td>\n      <td>A</td>\n      <td>False</td>\n    </tr>\n    <tr>\n      <th>3</th>\n      <td>011adc64-0f44-4fd9-a0bb-f1506d2ad439</td>\n      <td>google</td>\n      <td>2 - Tuesday</td>\n      <td>NaN</td>\n      <td>B</td>\n      <td>False</td>\n    </tr>\n    <tr>\n      <th>4</th>\n      <td>012137e6-7ae7-4649-af68-205b4702169c</td>\n      <td>facebook</td>\n      <td>7 - Sunday</td>\n      <td>NaN</td>\n      <td>B</td>\n      <td>False</td>\n    </tr>\n  </tbody>\n</table>\n</div>"
     },
     "execution_count": 4,
     "metadata": {},
     "output_type": "execute_result"
    }
   ],
   "source": [
    "ad_clicks[\"is_click\"] = ~ad_clicks.ad_click_timestamp.isnull()\n",
    "ad_clicks.head(5)"
   ],
   "metadata": {
    "collapsed": false,
    "pycharm": {
     "name": "#%%\n"
    }
   }
  },
  {
   "cell_type": "code",
   "execution_count": 5,
   "outputs": [
    {
     "data": {
      "text/plain": "  utm_source  is_click  user_id\n0      email     False      175\n1      email      True       80\n2   facebook     False      324\n3   facebook      True      180\n4     google     False      441\n5     google      True      239\n6    twitter     False      149\n7    twitter      True       66",
      "text/html": "<div>\n<style scoped>\n    .dataframe tbody tr th:only-of-type {\n        vertical-align: middle;\n    }\n\n    .dataframe tbody tr th {\n        vertical-align: top;\n    }\n\n    .dataframe thead th {\n        text-align: right;\n    }\n</style>\n<table border=\"1\" class=\"dataframe\">\n  <thead>\n    <tr style=\"text-align: right;\">\n      <th></th>\n      <th>utm_source</th>\n      <th>is_click</th>\n      <th>user_id</th>\n    </tr>\n  </thead>\n  <tbody>\n    <tr>\n      <th>0</th>\n      <td>email</td>\n      <td>False</td>\n      <td>175</td>\n    </tr>\n    <tr>\n      <th>1</th>\n      <td>email</td>\n      <td>True</td>\n      <td>80</td>\n    </tr>\n    <tr>\n      <th>2</th>\n      <td>facebook</td>\n      <td>False</td>\n      <td>324</td>\n    </tr>\n    <tr>\n      <th>3</th>\n      <td>facebook</td>\n      <td>True</td>\n      <td>180</td>\n    </tr>\n    <tr>\n      <th>4</th>\n      <td>google</td>\n      <td>False</td>\n      <td>441</td>\n    </tr>\n    <tr>\n      <th>5</th>\n      <td>google</td>\n      <td>True</td>\n      <td>239</td>\n    </tr>\n    <tr>\n      <th>6</th>\n      <td>twitter</td>\n      <td>False</td>\n      <td>149</td>\n    </tr>\n    <tr>\n      <th>7</th>\n      <td>twitter</td>\n      <td>True</td>\n      <td>66</td>\n    </tr>\n  </tbody>\n</table>\n</div>"
     },
     "execution_count": 5,
     "metadata": {},
     "output_type": "execute_result"
    }
   ],
   "source": [
    "clicks_by_source = ad_clicks.groupby([\"utm_source\", \"is_click\"]).user_id.count().reset_index()\n",
    "clicks_by_source"
   ],
   "metadata": {
    "collapsed": false,
    "pycharm": {
     "name": "#%%\n"
    }
   }
  },
  {
   "cell_type": "code",
   "execution_count": 6,
   "outputs": [
    {
     "data": {
      "text/plain": "is_click utm_source  False  True  percent_clicked\n0             email    175    80         0.313725\n1          facebook    324   180         0.357143\n2            google    441   239         0.351471\n3           twitter    149    66         0.306977",
      "text/html": "<div>\n<style scoped>\n    .dataframe tbody tr th:only-of-type {\n        vertical-align: middle;\n    }\n\n    .dataframe tbody tr th {\n        vertical-align: top;\n    }\n\n    .dataframe thead th {\n        text-align: right;\n    }\n</style>\n<table border=\"1\" class=\"dataframe\">\n  <thead>\n    <tr style=\"text-align: right;\">\n      <th>is_click</th>\n      <th>utm_source</th>\n      <th>False</th>\n      <th>True</th>\n      <th>percent_clicked</th>\n    </tr>\n  </thead>\n  <tbody>\n    <tr>\n      <th>0</th>\n      <td>email</td>\n      <td>175</td>\n      <td>80</td>\n      <td>0.313725</td>\n    </tr>\n    <tr>\n      <th>1</th>\n      <td>facebook</td>\n      <td>324</td>\n      <td>180</td>\n      <td>0.357143</td>\n    </tr>\n    <tr>\n      <th>2</th>\n      <td>google</td>\n      <td>441</td>\n      <td>239</td>\n      <td>0.351471</td>\n    </tr>\n    <tr>\n      <th>3</th>\n      <td>twitter</td>\n      <td>149</td>\n      <td>66</td>\n      <td>0.306977</td>\n    </tr>\n  </tbody>\n</table>\n</div>"
     },
     "execution_count": 6,
     "metadata": {},
     "output_type": "execute_result"
    }
   ],
   "source": [
    "clicks_pivot = clicks_by_source.pivot(columns = \"is_click\", index = \"utm_source\", values = \"user_id\").reset_index()\n",
    "clicks_pivot[\"percent_clicked\"] = clicks_pivot.apply(lambda row: row[True]/(row[True] + row[False]),axis = 1)\n",
    "clicks_pivot"
   ],
   "metadata": {
    "collapsed": false,
    "pycharm": {
     "name": "#%%\n"
    }
   }
  },
  {
   "cell_type": "code",
   "execution_count": 7,
   "outputs": [
    {
     "data": {
      "text/plain": "  experimental_group  is_click  user_id\n0                  A     False      517\n1                  A      True      310\n2                  B     False      572\n3                  B      True      255",
      "text/html": "<div>\n<style scoped>\n    .dataframe tbody tr th:only-of-type {\n        vertical-align: middle;\n    }\n\n    .dataframe tbody tr th {\n        vertical-align: top;\n    }\n\n    .dataframe thead th {\n        text-align: right;\n    }\n</style>\n<table border=\"1\" class=\"dataframe\">\n  <thead>\n    <tr style=\"text-align: right;\">\n      <th></th>\n      <th>experimental_group</th>\n      <th>is_click</th>\n      <th>user_id</th>\n    </tr>\n  </thead>\n  <tbody>\n    <tr>\n      <th>0</th>\n      <td>A</td>\n      <td>False</td>\n      <td>517</td>\n    </tr>\n    <tr>\n      <th>1</th>\n      <td>A</td>\n      <td>True</td>\n      <td>310</td>\n    </tr>\n    <tr>\n      <th>2</th>\n      <td>B</td>\n      <td>False</td>\n      <td>572</td>\n    </tr>\n    <tr>\n      <th>3</th>\n      <td>B</td>\n      <td>True</td>\n      <td>255</td>\n    </tr>\n  </tbody>\n</table>\n</div>"
     },
     "execution_count": 7,
     "metadata": {},
     "output_type": "execute_result"
    }
   ],
   "source": [
    "abtest = ad_clicks.groupby([\"experimental_group\", \"is_click\"]).user_id.count().reset_index()\n",
    "abtest"
   ],
   "metadata": {
    "collapsed": false,
    "pycharm": {
     "name": "#%%\n"
    }
   }
  },
  {
   "cell_type": "code",
   "execution_count": 8,
   "outputs": [
    {
     "data": {
      "text/plain": "is_click experimental_group  False  True\n0                         A    517   310\n1                         B    572   255",
      "text/html": "<div>\n<style scoped>\n    .dataframe tbody tr th:only-of-type {\n        vertical-align: middle;\n    }\n\n    .dataframe tbody tr th {\n        vertical-align: top;\n    }\n\n    .dataframe thead th {\n        text-align: right;\n    }\n</style>\n<table border=\"1\" class=\"dataframe\">\n  <thead>\n    <tr style=\"text-align: right;\">\n      <th>is_click</th>\n      <th>experimental_group</th>\n      <th>False</th>\n      <th>True</th>\n    </tr>\n  </thead>\n  <tbody>\n    <tr>\n      <th>0</th>\n      <td>A</td>\n      <td>517</td>\n      <td>310</td>\n    </tr>\n    <tr>\n      <th>1</th>\n      <td>B</td>\n      <td>572</td>\n      <td>255</td>\n    </tr>\n  </tbody>\n</table>\n</div>"
     },
     "execution_count": 8,
     "metadata": {},
     "output_type": "execute_result"
    }
   ],
   "source": [
    "abtest_pivot = abtest.pivot(columns = \"is_click\", index = \"experimental_group\", values = \"user_id\").reset_index()\n",
    "abtest_pivot"
   ],
   "metadata": {
    "collapsed": false,
    "pycharm": {
     "name": "#%%\n"
    }
   }
  },
  {
   "cell_type": "code",
   "execution_count": 9,
   "outputs": [
    {
     "data": {
      "text/plain": "is_click experimental_group  False  True  percent_clicked\n0                         A    517   310         0.374849\n1                         B    572   255         0.308343",
      "text/html": "<div>\n<style scoped>\n    .dataframe tbody tr th:only-of-type {\n        vertical-align: middle;\n    }\n\n    .dataframe tbody tr th {\n        vertical-align: top;\n    }\n\n    .dataframe thead th {\n        text-align: right;\n    }\n</style>\n<table border=\"1\" class=\"dataframe\">\n  <thead>\n    <tr style=\"text-align: right;\">\n      <th>is_click</th>\n      <th>experimental_group</th>\n      <th>False</th>\n      <th>True</th>\n      <th>percent_clicked</th>\n    </tr>\n  </thead>\n  <tbody>\n    <tr>\n      <th>0</th>\n      <td>A</td>\n      <td>517</td>\n      <td>310</td>\n      <td>0.374849</td>\n    </tr>\n    <tr>\n      <th>1</th>\n      <td>B</td>\n      <td>572</td>\n      <td>255</td>\n      <td>0.308343</td>\n    </tr>\n  </tbody>\n</table>\n</div>"
     },
     "execution_count": 9,
     "metadata": {},
     "output_type": "execute_result"
    }
   ],
   "source": [
    "abtest_pivot[\"percent_clicked\"] = abtest_pivot.apply(lambda row: row[True]/(row[True] + row[False]),axis = 1)\n",
    "abtest_pivot"
   ],
   "metadata": {
    "collapsed": false,
    "pycharm": {
     "name": "#%%\n"
    }
   }
  },
  {
   "cell_type": "code",
   "execution_count": 10,
   "outputs": [],
   "source": [
    "a_clicks = ad_clicks[ad_clicks.experimental_group == 'A']\n",
    "b_clicks = ad_clicks[ad_clicks.experimental_group == 'B']"
   ],
   "metadata": {
    "collapsed": false,
    "pycharm": {
     "name": "#%%\n"
    }
   }
  },
  {
   "cell_type": "code",
   "execution_count": 19,
   "outputs": [
    {
     "data": {
      "text/plain": "                                user_id utm_source            day  \\\n0  008b7c6c-7272-471e-b90e-930d548bd8d7     google   6 - Saturday   \n2  00f5d532-ed58-4570-b6d2-768df5f41aed    twitter    2 - Tuesday   \n5  013b0072-7b72-40e7-b698-98b4d0c9967f   facebook     1 - Monday   \n6  0153d85b-7660-4c39-92eb-1e1acd023280     google   4 - Thursday   \n7  01555297-d6e6-49ae-aeba-1b196fdbb09f     google  3 - Wednesday   \n\n  ad_click_timestamp experimental_group  is_click  \n0               7:18                  A      True  \n2                NaN                  A     False  \n5                NaN                  A     False  \n6                NaN                  A     False  \n7                NaN                  A     False  ",
      "text/html": "<div>\n<style scoped>\n    .dataframe tbody tr th:only-of-type {\n        vertical-align: middle;\n    }\n\n    .dataframe tbody tr th {\n        vertical-align: top;\n    }\n\n    .dataframe thead th {\n        text-align: right;\n    }\n</style>\n<table border=\"1\" class=\"dataframe\">\n  <thead>\n    <tr style=\"text-align: right;\">\n      <th></th>\n      <th>user_id</th>\n      <th>utm_source</th>\n      <th>day</th>\n      <th>ad_click_timestamp</th>\n      <th>experimental_group</th>\n      <th>is_click</th>\n    </tr>\n  </thead>\n  <tbody>\n    <tr>\n      <th>0</th>\n      <td>008b7c6c-7272-471e-b90e-930d548bd8d7</td>\n      <td>google</td>\n      <td>6 - Saturday</td>\n      <td>7:18</td>\n      <td>A</td>\n      <td>True</td>\n    </tr>\n    <tr>\n      <th>2</th>\n      <td>00f5d532-ed58-4570-b6d2-768df5f41aed</td>\n      <td>twitter</td>\n      <td>2 - Tuesday</td>\n      <td>NaN</td>\n      <td>A</td>\n      <td>False</td>\n    </tr>\n    <tr>\n      <th>5</th>\n      <td>013b0072-7b72-40e7-b698-98b4d0c9967f</td>\n      <td>facebook</td>\n      <td>1 - Monday</td>\n      <td>NaN</td>\n      <td>A</td>\n      <td>False</td>\n    </tr>\n    <tr>\n      <th>6</th>\n      <td>0153d85b-7660-4c39-92eb-1e1acd023280</td>\n      <td>google</td>\n      <td>4 - Thursday</td>\n      <td>NaN</td>\n      <td>A</td>\n      <td>False</td>\n    </tr>\n    <tr>\n      <th>7</th>\n      <td>01555297-d6e6-49ae-aeba-1b196fdbb09f</td>\n      <td>google</td>\n      <td>3 - Wednesday</td>\n      <td>NaN</td>\n      <td>A</td>\n      <td>False</td>\n    </tr>\n  </tbody>\n</table>\n</div>"
     },
     "execution_count": 19,
     "metadata": {},
     "output_type": "execute_result"
    }
   ],
   "source": [
    "a_clicks.head(5)"
   ],
   "metadata": {
    "collapsed": false,
    "pycharm": {
     "name": "#%%\n"
    }
   }
  },
  {
   "cell_type": "code",
   "execution_count": 12,
   "outputs": [
    {
     "data": {
      "text/plain": "              day  is_click  user_id\n0      1 - Monday     False       70\n1      1 - Monday      True       43\n2     2 - Tuesday     False       76\n3     2 - Tuesday      True       43\n4   3 - Wednesday     False       86\n5   3 - Wednesday      True       38\n6    4 - Thursday     False       69\n7    4 - Thursday      True       47\n8      5 - Friday     False       77\n9      5 - Friday      True       51\n10   6 - Saturday     False       73\n11   6 - Saturday      True       45\n12     7 - Sunday     False       66\n13     7 - Sunday      True       43",
      "text/html": "<div>\n<style scoped>\n    .dataframe tbody tr th:only-of-type {\n        vertical-align: middle;\n    }\n\n    .dataframe tbody tr th {\n        vertical-align: top;\n    }\n\n    .dataframe thead th {\n        text-align: right;\n    }\n</style>\n<table border=\"1\" class=\"dataframe\">\n  <thead>\n    <tr style=\"text-align: right;\">\n      <th></th>\n      <th>day</th>\n      <th>is_click</th>\n      <th>user_id</th>\n    </tr>\n  </thead>\n  <tbody>\n    <tr>\n      <th>0</th>\n      <td>1 - Monday</td>\n      <td>False</td>\n      <td>70</td>\n    </tr>\n    <tr>\n      <th>1</th>\n      <td>1 - Monday</td>\n      <td>True</td>\n      <td>43</td>\n    </tr>\n    <tr>\n      <th>2</th>\n      <td>2 - Tuesday</td>\n      <td>False</td>\n      <td>76</td>\n    </tr>\n    <tr>\n      <th>3</th>\n      <td>2 - Tuesday</td>\n      <td>True</td>\n      <td>43</td>\n    </tr>\n    <tr>\n      <th>4</th>\n      <td>3 - Wednesday</td>\n      <td>False</td>\n      <td>86</td>\n    </tr>\n    <tr>\n      <th>5</th>\n      <td>3 - Wednesday</td>\n      <td>True</td>\n      <td>38</td>\n    </tr>\n    <tr>\n      <th>6</th>\n      <td>4 - Thursday</td>\n      <td>False</td>\n      <td>69</td>\n    </tr>\n    <tr>\n      <th>7</th>\n      <td>4 - Thursday</td>\n      <td>True</td>\n      <td>47</td>\n    </tr>\n    <tr>\n      <th>8</th>\n      <td>5 - Friday</td>\n      <td>False</td>\n      <td>77</td>\n    </tr>\n    <tr>\n      <th>9</th>\n      <td>5 - Friday</td>\n      <td>True</td>\n      <td>51</td>\n    </tr>\n    <tr>\n      <th>10</th>\n      <td>6 - Saturday</td>\n      <td>False</td>\n      <td>73</td>\n    </tr>\n    <tr>\n      <th>11</th>\n      <td>6 - Saturday</td>\n      <td>True</td>\n      <td>45</td>\n    </tr>\n    <tr>\n      <th>12</th>\n      <td>7 - Sunday</td>\n      <td>False</td>\n      <td>66</td>\n    </tr>\n    <tr>\n      <th>13</th>\n      <td>7 - Sunday</td>\n      <td>True</td>\n      <td>43</td>\n    </tr>\n  </tbody>\n</table>\n</div>"
     },
     "execution_count": 12,
     "metadata": {},
     "output_type": "execute_result"
    }
   ],
   "source": [
    "a_clicks2 = a_clicks.groupby([\"day\", \"is_click\"]).user_id.count().reset_index()\n",
    "a_clicks2"
   ],
   "metadata": {
    "collapsed": false,
    "pycharm": {
     "name": "#%%\n"
    }
   }
  },
  {
   "cell_type": "code",
   "execution_count": 13,
   "outputs": [
    {
     "data": {
      "text/plain": "is_click            day  False  True\n0            1 - Monday     70    43\n1           2 - Tuesday     76    43\n2         3 - Wednesday     86    38\n3          4 - Thursday     69    47\n4            5 - Friday     77    51\n5          6 - Saturday     73    45\n6            7 - Sunday     66    43",
      "text/html": "<div>\n<style scoped>\n    .dataframe tbody tr th:only-of-type {\n        vertical-align: middle;\n    }\n\n    .dataframe tbody tr th {\n        vertical-align: top;\n    }\n\n    .dataframe thead th {\n        text-align: right;\n    }\n</style>\n<table border=\"1\" class=\"dataframe\">\n  <thead>\n    <tr style=\"text-align: right;\">\n      <th>is_click</th>\n      <th>day</th>\n      <th>False</th>\n      <th>True</th>\n    </tr>\n  </thead>\n  <tbody>\n    <tr>\n      <th>0</th>\n      <td>1 - Monday</td>\n      <td>70</td>\n      <td>43</td>\n    </tr>\n    <tr>\n      <th>1</th>\n      <td>2 - Tuesday</td>\n      <td>76</td>\n      <td>43</td>\n    </tr>\n    <tr>\n      <th>2</th>\n      <td>3 - Wednesday</td>\n      <td>86</td>\n      <td>38</td>\n    </tr>\n    <tr>\n      <th>3</th>\n      <td>4 - Thursday</td>\n      <td>69</td>\n      <td>47</td>\n    </tr>\n    <tr>\n      <th>4</th>\n      <td>5 - Friday</td>\n      <td>77</td>\n      <td>51</td>\n    </tr>\n    <tr>\n      <th>5</th>\n      <td>6 - Saturday</td>\n      <td>73</td>\n      <td>45</td>\n    </tr>\n    <tr>\n      <th>6</th>\n      <td>7 - Sunday</td>\n      <td>66</td>\n      <td>43</td>\n    </tr>\n  </tbody>\n</table>\n</div>"
     },
     "execution_count": 13,
     "metadata": {},
     "output_type": "execute_result"
    }
   ],
   "source": [
    "a_clicks2_pivot = a_clicks2.pivot(columns = \"is_click\", index = \"day\", values = \"user_id\").reset_index()\n",
    "a_clicks2_pivot"
   ],
   "metadata": {
    "collapsed": false,
    "pycharm": {
     "name": "#%%\n"
    }
   }
  },
  {
   "cell_type": "code",
   "execution_count": 14,
   "outputs": [
    {
     "data": {
      "text/plain": "is_click            day  False  True  percent_clicked\n0            1 - Monday     70    43         0.380531\n1           2 - Tuesday     76    43         0.361345\n2         3 - Wednesday     86    38         0.306452\n3          4 - Thursday     69    47         0.405172\n4            5 - Friday     77    51         0.398438\n5          6 - Saturday     73    45         0.381356\n6            7 - Sunday     66    43         0.394495",
      "text/html": "<div>\n<style scoped>\n    .dataframe tbody tr th:only-of-type {\n        vertical-align: middle;\n    }\n\n    .dataframe tbody tr th {\n        vertical-align: top;\n    }\n\n    .dataframe thead th {\n        text-align: right;\n    }\n</style>\n<table border=\"1\" class=\"dataframe\">\n  <thead>\n    <tr style=\"text-align: right;\">\n      <th>is_click</th>\n      <th>day</th>\n      <th>False</th>\n      <th>True</th>\n      <th>percent_clicked</th>\n    </tr>\n  </thead>\n  <tbody>\n    <tr>\n      <th>0</th>\n      <td>1 - Monday</td>\n      <td>70</td>\n      <td>43</td>\n      <td>0.380531</td>\n    </tr>\n    <tr>\n      <th>1</th>\n      <td>2 - Tuesday</td>\n      <td>76</td>\n      <td>43</td>\n      <td>0.361345</td>\n    </tr>\n    <tr>\n      <th>2</th>\n      <td>3 - Wednesday</td>\n      <td>86</td>\n      <td>38</td>\n      <td>0.306452</td>\n    </tr>\n    <tr>\n      <th>3</th>\n      <td>4 - Thursday</td>\n      <td>69</td>\n      <td>47</td>\n      <td>0.405172</td>\n    </tr>\n    <tr>\n      <th>4</th>\n      <td>5 - Friday</td>\n      <td>77</td>\n      <td>51</td>\n      <td>0.398438</td>\n    </tr>\n    <tr>\n      <th>5</th>\n      <td>6 - Saturday</td>\n      <td>73</td>\n      <td>45</td>\n      <td>0.381356</td>\n    </tr>\n    <tr>\n      <th>6</th>\n      <td>7 - Sunday</td>\n      <td>66</td>\n      <td>43</td>\n      <td>0.394495</td>\n    </tr>\n  </tbody>\n</table>\n</div>"
     },
     "execution_count": 14,
     "metadata": {},
     "output_type": "execute_result"
    }
   ],
   "source": [
    "a_clicks2_pivot[\"percent_clicked\"] = a_clicks2_pivot.apply(lambda row: row[True]/(row[True] + row[False]),axis = 1)\n",
    "a_clicks2_pivot"
   ],
   "metadata": {
    "collapsed": false,
    "pycharm": {
     "name": "#%%\n"
    }
   }
  },
  {
   "cell_type": "code",
   "execution_count": 20,
   "outputs": [
    {
     "data": {
      "text/plain": "                                 user_id utm_source            day  \\\n1   009abb94-5e14-4b6c-bb1c-4f4df7aa7557   facebook     7 - Sunday   \n3   011adc64-0f44-4fd9-a0bb-f1506d2ad439     google    2 - Tuesday   \n4   012137e6-7ae7-4649-af68-205b4702169c   facebook     7 - Sunday   \n9   01a210c3-fde0-4e6f-8efd-4f0e38730ae6      email    2 - Tuesday   \n10  01adb2e7-f711-4ae4-a7c6-29f48457eea1     google  3 - Wednesday   \n\n   ad_click_timestamp experimental_group  is_click  \n1                 NaN                  B     False  \n3                 NaN                  B     False  \n4                 NaN                  B     False  \n9               15:21                  B      True  \n10                NaN                  B     False  ",
      "text/html": "<div>\n<style scoped>\n    .dataframe tbody tr th:only-of-type {\n        vertical-align: middle;\n    }\n\n    .dataframe tbody tr th {\n        vertical-align: top;\n    }\n\n    .dataframe thead th {\n        text-align: right;\n    }\n</style>\n<table border=\"1\" class=\"dataframe\">\n  <thead>\n    <tr style=\"text-align: right;\">\n      <th></th>\n      <th>user_id</th>\n      <th>utm_source</th>\n      <th>day</th>\n      <th>ad_click_timestamp</th>\n      <th>experimental_group</th>\n      <th>is_click</th>\n    </tr>\n  </thead>\n  <tbody>\n    <tr>\n      <th>1</th>\n      <td>009abb94-5e14-4b6c-bb1c-4f4df7aa7557</td>\n      <td>facebook</td>\n      <td>7 - Sunday</td>\n      <td>NaN</td>\n      <td>B</td>\n      <td>False</td>\n    </tr>\n    <tr>\n      <th>3</th>\n      <td>011adc64-0f44-4fd9-a0bb-f1506d2ad439</td>\n      <td>google</td>\n      <td>2 - Tuesday</td>\n      <td>NaN</td>\n      <td>B</td>\n      <td>False</td>\n    </tr>\n    <tr>\n      <th>4</th>\n      <td>012137e6-7ae7-4649-af68-205b4702169c</td>\n      <td>facebook</td>\n      <td>7 - Sunday</td>\n      <td>NaN</td>\n      <td>B</td>\n      <td>False</td>\n    </tr>\n    <tr>\n      <th>9</th>\n      <td>01a210c3-fde0-4e6f-8efd-4f0e38730ae6</td>\n      <td>email</td>\n      <td>2 - Tuesday</td>\n      <td>15:21</td>\n      <td>B</td>\n      <td>True</td>\n    </tr>\n    <tr>\n      <th>10</th>\n      <td>01adb2e7-f711-4ae4-a7c6-29f48457eea1</td>\n      <td>google</td>\n      <td>3 - Wednesday</td>\n      <td>NaN</td>\n      <td>B</td>\n      <td>False</td>\n    </tr>\n  </tbody>\n</table>\n</div>"
     },
     "execution_count": 20,
     "metadata": {},
     "output_type": "execute_result"
    }
   ],
   "source": [
    "b_clicks.head(5)"
   ],
   "metadata": {
    "collapsed": false,
    "pycharm": {
     "name": "#%%\n"
    }
   }
  },
  {
   "cell_type": "code",
   "execution_count": 16,
   "outputs": [
    {
     "data": {
      "text/plain": "              day  is_click  user_id\n0      1 - Monday     False       81\n1      1 - Monday      True       32\n2     2 - Tuesday     False       74\n3     2 - Tuesday      True       45\n4   3 - Wednesday     False       89\n5   3 - Wednesday      True       35\n6    4 - Thursday     False       87\n7    4 - Thursday      True       29\n8      5 - Friday     False       90\n9      5 - Friday      True       38\n10   6 - Saturday     False       76\n11   6 - Saturday      True       42\n12     7 - Sunday     False       75\n13     7 - Sunday      True       34",
      "text/html": "<div>\n<style scoped>\n    .dataframe tbody tr th:only-of-type {\n        vertical-align: middle;\n    }\n\n    .dataframe tbody tr th {\n        vertical-align: top;\n    }\n\n    .dataframe thead th {\n        text-align: right;\n    }\n</style>\n<table border=\"1\" class=\"dataframe\">\n  <thead>\n    <tr style=\"text-align: right;\">\n      <th></th>\n      <th>day</th>\n      <th>is_click</th>\n      <th>user_id</th>\n    </tr>\n  </thead>\n  <tbody>\n    <tr>\n      <th>0</th>\n      <td>1 - Monday</td>\n      <td>False</td>\n      <td>81</td>\n    </tr>\n    <tr>\n      <th>1</th>\n      <td>1 - Monday</td>\n      <td>True</td>\n      <td>32</td>\n    </tr>\n    <tr>\n      <th>2</th>\n      <td>2 - Tuesday</td>\n      <td>False</td>\n      <td>74</td>\n    </tr>\n    <tr>\n      <th>3</th>\n      <td>2 - Tuesday</td>\n      <td>True</td>\n      <td>45</td>\n    </tr>\n    <tr>\n      <th>4</th>\n      <td>3 - Wednesday</td>\n      <td>False</td>\n      <td>89</td>\n    </tr>\n    <tr>\n      <th>5</th>\n      <td>3 - Wednesday</td>\n      <td>True</td>\n      <td>35</td>\n    </tr>\n    <tr>\n      <th>6</th>\n      <td>4 - Thursday</td>\n      <td>False</td>\n      <td>87</td>\n    </tr>\n    <tr>\n      <th>7</th>\n      <td>4 - Thursday</td>\n      <td>True</td>\n      <td>29</td>\n    </tr>\n    <tr>\n      <th>8</th>\n      <td>5 - Friday</td>\n      <td>False</td>\n      <td>90</td>\n    </tr>\n    <tr>\n      <th>9</th>\n      <td>5 - Friday</td>\n      <td>True</td>\n      <td>38</td>\n    </tr>\n    <tr>\n      <th>10</th>\n      <td>6 - Saturday</td>\n      <td>False</td>\n      <td>76</td>\n    </tr>\n    <tr>\n      <th>11</th>\n      <td>6 - Saturday</td>\n      <td>True</td>\n      <td>42</td>\n    </tr>\n    <tr>\n      <th>12</th>\n      <td>7 - Sunday</td>\n      <td>False</td>\n      <td>75</td>\n    </tr>\n    <tr>\n      <th>13</th>\n      <td>7 - Sunday</td>\n      <td>True</td>\n      <td>34</td>\n    </tr>\n  </tbody>\n</table>\n</div>"
     },
     "execution_count": 16,
     "metadata": {},
     "output_type": "execute_result"
    }
   ],
   "source": [
    "b_clicks2 = b_clicks.groupby([\"day\", \"is_click\"]).user_id.count().reset_index()\n",
    "b_clicks2"
   ],
   "metadata": {
    "collapsed": false,
    "pycharm": {
     "name": "#%%\n"
    }
   }
  },
  {
   "cell_type": "code",
   "execution_count": 17,
   "outputs": [
    {
     "data": {
      "text/plain": "is_click            day  False  True\n0            1 - Monday     81    32\n1           2 - Tuesday     74    45\n2         3 - Wednesday     89    35\n3          4 - Thursday     87    29\n4            5 - Friday     90    38\n5          6 - Saturday     76    42\n6            7 - Sunday     75    34",
      "text/html": "<div>\n<style scoped>\n    .dataframe tbody tr th:only-of-type {\n        vertical-align: middle;\n    }\n\n    .dataframe tbody tr th {\n        vertical-align: top;\n    }\n\n    .dataframe thead th {\n        text-align: right;\n    }\n</style>\n<table border=\"1\" class=\"dataframe\">\n  <thead>\n    <tr style=\"text-align: right;\">\n      <th>is_click</th>\n      <th>day</th>\n      <th>False</th>\n      <th>True</th>\n    </tr>\n  </thead>\n  <tbody>\n    <tr>\n      <th>0</th>\n      <td>1 - Monday</td>\n      <td>81</td>\n      <td>32</td>\n    </tr>\n    <tr>\n      <th>1</th>\n      <td>2 - Tuesday</td>\n      <td>74</td>\n      <td>45</td>\n    </tr>\n    <tr>\n      <th>2</th>\n      <td>3 - Wednesday</td>\n      <td>89</td>\n      <td>35</td>\n    </tr>\n    <tr>\n      <th>3</th>\n      <td>4 - Thursday</td>\n      <td>87</td>\n      <td>29</td>\n    </tr>\n    <tr>\n      <th>4</th>\n      <td>5 - Friday</td>\n      <td>90</td>\n      <td>38</td>\n    </tr>\n    <tr>\n      <th>5</th>\n      <td>6 - Saturday</td>\n      <td>76</td>\n      <td>42</td>\n    </tr>\n    <tr>\n      <th>6</th>\n      <td>7 - Sunday</td>\n      <td>75</td>\n      <td>34</td>\n    </tr>\n  </tbody>\n</table>\n</div>"
     },
     "execution_count": 17,
     "metadata": {},
     "output_type": "execute_result"
    }
   ],
   "source": [
    "b_clicks2_pivot = b_clicks2.pivot(columns = \"is_click\", index = \"day\", values = \"user_id\").reset_index()\n",
    "b_clicks2_pivot"
   ],
   "metadata": {
    "collapsed": false,
    "pycharm": {
     "name": "#%%\n"
    }
   }
  },
  {
   "cell_type": "code",
   "execution_count": 18,
   "outputs": [
    {
     "data": {
      "text/plain": "is_click            day  False  True  percent_clicked\n0            1 - Monday     81    32         0.283186\n1           2 - Tuesday     74    45         0.378151\n2         3 - Wednesday     89    35         0.282258\n3          4 - Thursday     87    29         0.250000\n4            5 - Friday     90    38         0.296875\n5          6 - Saturday     76    42         0.355932\n6            7 - Sunday     75    34         0.311927",
      "text/html": "<div>\n<style scoped>\n    .dataframe tbody tr th:only-of-type {\n        vertical-align: middle;\n    }\n\n    .dataframe tbody tr th {\n        vertical-align: top;\n    }\n\n    .dataframe thead th {\n        text-align: right;\n    }\n</style>\n<table border=\"1\" class=\"dataframe\">\n  <thead>\n    <tr style=\"text-align: right;\">\n      <th>is_click</th>\n      <th>day</th>\n      <th>False</th>\n      <th>True</th>\n      <th>percent_clicked</th>\n    </tr>\n  </thead>\n  <tbody>\n    <tr>\n      <th>0</th>\n      <td>1 - Monday</td>\n      <td>81</td>\n      <td>32</td>\n      <td>0.283186</td>\n    </tr>\n    <tr>\n      <th>1</th>\n      <td>2 - Tuesday</td>\n      <td>74</td>\n      <td>45</td>\n      <td>0.378151</td>\n    </tr>\n    <tr>\n      <th>2</th>\n      <td>3 - Wednesday</td>\n      <td>89</td>\n      <td>35</td>\n      <td>0.282258</td>\n    </tr>\n    <tr>\n      <th>3</th>\n      <td>4 - Thursday</td>\n      <td>87</td>\n      <td>29</td>\n      <td>0.250000</td>\n    </tr>\n    <tr>\n      <th>4</th>\n      <td>5 - Friday</td>\n      <td>90</td>\n      <td>38</td>\n      <td>0.296875</td>\n    </tr>\n    <tr>\n      <th>5</th>\n      <td>6 - Saturday</td>\n      <td>76</td>\n      <td>42</td>\n      <td>0.355932</td>\n    </tr>\n    <tr>\n      <th>6</th>\n      <td>7 - Sunday</td>\n      <td>75</td>\n      <td>34</td>\n      <td>0.311927</td>\n    </tr>\n  </tbody>\n</table>\n</div>"
     },
     "execution_count": 18,
     "metadata": {},
     "output_type": "execute_result"
    }
   ],
   "source": [
    "b_clicks2_pivot[\"percent_clicked\"] = b_clicks2_pivot.apply(lambda row: row[True]/(row[True] + row[False]),axis = 1)\n",
    "b_clicks2_pivot"
   ],
   "metadata": {
    "collapsed": false,
    "pycharm": {
     "name": "#%%\n"
    }
   }
  },
  {
   "cell_type": "code",
   "execution_count": 18,
   "outputs": [],
   "source": [],
   "metadata": {
    "collapsed": false,
    "pycharm": {
     "name": "#%%\n"
    }
   }
  }
 ],
 "metadata": {
  "kernelspec": {
   "display_name": "Python 3",
   "language": "python",
   "name": "python3"
  },
  "language_info": {
   "codemirror_mode": {
    "name": "ipython",
    "version": 2
   },
   "file_extension": ".py",
   "mimetype": "text/x-python",
   "name": "python",
   "nbconvert_exporter": "python",
   "pygments_lexer": "ipython2",
   "version": "2.7.6"
  }
 },
 "nbformat": 4,
 "nbformat_minor": 0
}