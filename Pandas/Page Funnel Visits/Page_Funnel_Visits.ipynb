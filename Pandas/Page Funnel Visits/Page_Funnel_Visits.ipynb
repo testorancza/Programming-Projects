{
 "cells": [
  {
   "cell_type": "code",
   "execution_count": 61,
   "metadata": {
    "pycharm": {
     "name": "#%%\n"
    }
   },
   "outputs": [],
   "source": [
    "import pandas as pd"
   ]
  },
  {
   "cell_type": "markdown",
   "metadata": {
    "pycharm": {
     "name": "#%% md\n"
    }
   },
   "source": [
    "Import all the files"
   ]
  },
  {
   "cell_type": "code",
   "execution_count": 62,
   "metadata": {
    "pycharm": {
     "name": "#%%\n"
    }
   },
   "outputs": [],
   "source": [
    "visits = pd.read_csv('visits.csv',\n",
    "                     parse_dates=[1])\n",
    "cart = pd.read_csv('cart.csv',\n",
    "                   parse_dates=[1])\n",
    "                   \n",
    "checkout = pd.read_csv('checkout.csv',\n",
    "                       parse_dates=[1])\n",
    "purchase = pd.read_csv('purchase.csv',\n",
    "                       parse_dates=[1])"
   ]
  },
  {
   "cell_type": "markdown",
   "metadata": {
    "pycharm": {
     "name": "#%% md\n"
    }
   },
   "source": [
    "Step 1: Inspect the DataFrames using `print` and `head`"
   ]
  },
  {
   "cell_type": "code",
   "execution_count": 75,
   "metadata": {
    "pycharm": {
     "name": "#%%\n"
    }
   },
   "outputs": [
    {
     "name": "stdout",
     "output_type": "stream",
     "text": [
      "                                user_id          visit_time\n",
      "0  943647ef-3682-4750-a2e1-918ba6f16188 2017-04-07 15:14:00\n",
      "1  0c3a3dd0-fb64-4eac-bf84-ba069ce409f2 2017-01-26 14:24:00\n",
      "2  6e0b2d60-4027-4d9a-babd-0e7d40859fb1 2017-08-20 08:23:00\n",
      "3  6879527e-c5a6-4d14-b2da-50b85212b0ab 2017-11-04 18:15:00\n",
      "4  a84327ff-5daa-4ba1-b789-d5b4caf81e96 2017-02-27 11:25:00\n",
      "                                user_id           cart_time\n",
      "0  2be90e7c-9cca-44e0-bcc5-124b945ff168 2017-11-07 20:45:00\n",
      "1  4397f73f-1da3-4ab3-91af-762792e25973 2017-05-27 01:35:00\n",
      "2  a9db3d4b-0a0a-4398-a55a-ebb2c7adf663 2017-03-04 10:38:00\n",
      "3  b594862a-36c5-47d5-b818-6e9512b939b3 2017-09-27 08:22:00\n",
      "4  a68a16e2-94f0-4ce8-8ce3-784af0bbb974 2017-07-26 15:48:00\n",
      "                                user_id       checkout_time\n",
      "0  d33bdc47-4afa-45bc-b4e4-dbe948e34c0d 2017-06-25 09:29:00\n",
      "1  4ac186f0-9954-4fea-8a27-c081e428e34e 2017-04-07 20:11:00\n",
      "2  3c9c78a7-124a-4b77-8d2e-e1926e011e7d 2017-07-13 11:38:00\n",
      "3  89fe330a-8966-4756-8f7c-3bdbcd47279a 2017-04-20 16:15:00\n",
      "4  3ccdaf69-2d30-40de-b083-51372881aedd 2017-01-08 20:52:00\n",
      "                                user_id       purchase_time\n",
      "0  4b44ace4-2721-47a0-b24b-15fbfa2abf85 2017-05-11 04:25:00\n",
      "1  02e684ae-a448-408f-a9ff-dcb4a5c99aac 2017-09-05 08:45:00\n",
      "2  4b4bc391-749e-4b90-ab8f-4f6e3c84d6dc 2017-11-20 20:49:00\n",
      "3  a5dbb25f-3c36-4103-9030-9f7c6241cd8d 2017-01-22 15:18:00\n",
      "4  46a3186d-7f5a-4ab9-87af-84d05bfd4867 2017-06-11 11:32:00\n"
     ]
    }
   ],
   "source": [
    "print(visits.head())\n",
    "print(cart.head())\n",
    "print(checkout.head())\n",
    "print(purchase.head())"
   ]
  },
  {
   "cell_type": "markdown",
   "metadata": {
    "pycharm": {
     "name": "#%% md\n"
    }
   },
   "source": [
    "Step 2: Left merging visits and cart"
   ]
  },
  {
   "cell_type": "code",
   "execution_count": 64,
   "metadata": {
    "pycharm": {
     "name": "#%%\n"
    }
   },
   "outputs": [
    {
     "data": {
      "text/plain": "                                   user_id          visit_time  \\\n0     943647ef-3682-4750-a2e1-918ba6f16188 2017-04-07 15:14:00   \n1     0c3a3dd0-fb64-4eac-bf84-ba069ce409f2 2017-01-26 14:24:00   \n2     6e0b2d60-4027-4d9a-babd-0e7d40859fb1 2017-08-20 08:23:00   \n3     6879527e-c5a6-4d14-b2da-50b85212b0ab 2017-11-04 18:15:00   \n4     a84327ff-5daa-4ba1-b789-d5b4caf81e96 2017-02-27 11:25:00   \n...                                    ...                 ...   \n1995  33913ac2-03da-45ae-8fc3-fea39df827c6 2017-03-25 03:29:00   \n1996  4f850132-b99d-4623-80e6-6e61d003577e 2017-01-08 09:57:00   \n1997  f0830b9b-1f5c-4e74-b63d-3f847cc6ce70 2017-09-07 12:56:00   \n1998  b01bffa7-63ba-4cd3-9d93-eb1477c23831 2017-07-20 04:37:00   \n1999  0336ca81-8d68-443f-9248-ac0b8ad147d5 2017-11-15 10:11:00   \n\n               cart_time  \n0                    NaT  \n1    2017-01-26 14:44:00  \n2    2017-08-20 08:31:00  \n3                    NaT  \n4                    NaT  \n...                  ...  \n1995                 NaT  \n1996                 NaT  \n1997                 NaT  \n1998                 NaT  \n1999                 NaT  \n\n[2000 rows x 3 columns]",
      "text/html": "<div>\n<style scoped>\n    .dataframe tbody tr th:only-of-type {\n        vertical-align: middle;\n    }\n\n    .dataframe tbody tr th {\n        vertical-align: top;\n    }\n\n    .dataframe thead th {\n        text-align: right;\n    }\n</style>\n<table border=\"1\" class=\"dataframe\">\n  <thead>\n    <tr style=\"text-align: right;\">\n      <th></th>\n      <th>user_id</th>\n      <th>visit_time</th>\n      <th>cart_time</th>\n    </tr>\n  </thead>\n  <tbody>\n    <tr>\n      <th>0</th>\n      <td>943647ef-3682-4750-a2e1-918ba6f16188</td>\n      <td>2017-04-07 15:14:00</td>\n      <td>NaT</td>\n    </tr>\n    <tr>\n      <th>1</th>\n      <td>0c3a3dd0-fb64-4eac-bf84-ba069ce409f2</td>\n      <td>2017-01-26 14:24:00</td>\n      <td>2017-01-26 14:44:00</td>\n    </tr>\n    <tr>\n      <th>2</th>\n      <td>6e0b2d60-4027-4d9a-babd-0e7d40859fb1</td>\n      <td>2017-08-20 08:23:00</td>\n      <td>2017-08-20 08:31:00</td>\n    </tr>\n    <tr>\n      <th>3</th>\n      <td>6879527e-c5a6-4d14-b2da-50b85212b0ab</td>\n      <td>2017-11-04 18:15:00</td>\n      <td>NaT</td>\n    </tr>\n    <tr>\n      <th>4</th>\n      <td>a84327ff-5daa-4ba1-b789-d5b4caf81e96</td>\n      <td>2017-02-27 11:25:00</td>\n      <td>NaT</td>\n    </tr>\n    <tr>\n      <th>...</th>\n      <td>...</td>\n      <td>...</td>\n      <td>...</td>\n    </tr>\n    <tr>\n      <th>1995</th>\n      <td>33913ac2-03da-45ae-8fc3-fea39df827c6</td>\n      <td>2017-03-25 03:29:00</td>\n      <td>NaT</td>\n    </tr>\n    <tr>\n      <th>1996</th>\n      <td>4f850132-b99d-4623-80e6-6e61d003577e</td>\n      <td>2017-01-08 09:57:00</td>\n      <td>NaT</td>\n    </tr>\n    <tr>\n      <th>1997</th>\n      <td>f0830b9b-1f5c-4e74-b63d-3f847cc6ce70</td>\n      <td>2017-09-07 12:56:00</td>\n      <td>NaT</td>\n    </tr>\n    <tr>\n      <th>1998</th>\n      <td>b01bffa7-63ba-4cd3-9d93-eb1477c23831</td>\n      <td>2017-07-20 04:37:00</td>\n      <td>NaT</td>\n    </tr>\n    <tr>\n      <th>1999</th>\n      <td>0336ca81-8d68-443f-9248-ac0b8ad147d5</td>\n      <td>2017-11-15 10:11:00</td>\n      <td>NaT</td>\n    </tr>\n  </tbody>\n</table>\n<p>2000 rows × 3 columns</p>\n</div>"
     },
     "execution_count": 64,
     "metadata": {},
     "output_type": "execute_result"
    }
   ],
   "source": [
    "l_m_visits_cart = pd.merge(visits, cart, how=\"left\")\n",
    "l_m_visits_cart"
   ]
  },
  {
   "cell_type": "markdown",
   "metadata": {
    "pycharm": {
     "name": "#%% md\n"
    }
   },
   "source": [
    "Step 3: How long is \"l_m_visits_card?"
   ]
  },
  {
   "cell_type": "code",
   "execution_count": 65,
   "metadata": {
    "pycharm": {
     "name": "#%%\n"
    }
   },
   "outputs": [
    {
     "data": {
      "text/plain": "2000"
     },
     "execution_count": 65,
     "metadata": {},
     "output_type": "execute_result"
    }
   ],
   "source": [
    "len(l_m_visits_cart)"
   ]
  },
  {
   "cell_type": "markdown",
   "metadata": {
    "pycharm": {
     "name": "#%% md\n"
    }
   },
   "source": [
    "Step 4: How many timestamps are null for `cart_time`?"
   ]
  },
  {
   "cell_type": "code",
   "execution_count": 66,
   "metadata": {
    "pycharm": {
     "name": "#%%\n"
    }
   },
   "outputs": [
    {
     "data": {
      "text/plain": "1652"
     },
     "execution_count": 66,
     "metadata": {},
     "output_type": "execute_result"
    }
   ],
   "source": [
    "no_null = l_m_visits_cart.cart_time.count()\n",
    "n_null = 2000 - no_null\n",
    "n_null"
   ]
  },
  {
   "cell_type": "markdown",
   "metadata": {
    "pycharm": {
     "name": "#%% md\n"
    }
   },
   "source": [
    "Step 5: What percentage only visited?"
   ]
  },
  {
   "cell_type": "code",
   "execution_count": 67,
   "metadata": {
    "pycharm": {
     "name": "#%%\n"
    }
   },
   "outputs": [
    {
     "data": {
      "text/plain": "82.6"
     },
     "execution_count": 67,
     "metadata": {},
     "output_type": "execute_result"
    }
   ],
   "source": [
    "only_visited = 1652/2000*100\n",
    "only_visited"
   ]
  },
  {
   "cell_type": "markdown",
   "metadata": {
    "pycharm": {
     "name": "#%% md\n"
    }
   },
   "source": [
    "Step 6: What percentage placed a t-shirt in their cart but did not checkout?"
   ]
  },
  {
   "cell_type": "code",
   "execution_count": 68,
   "metadata": {
    "pycharm": {
     "name": "#%%\n"
    }
   },
   "outputs": [
    {
     "data": {
      "text/plain": "35.05747126436782"
     },
     "execution_count": 68,
     "metadata": {},
     "output_type": "execute_result"
    }
   ],
   "source": [
    "l_m_cart_checkout = pd.merge(cart, checkout, how=\"left\")\n",
    "no_null = l_m_cart_checkout.checkout_time.count()\n",
    "n_null = 348 - no_null\n",
    "placed_no_checkout = n_null/348*100\n",
    "placed_no_checkout"
   ]
  },
  {
   "cell_type": "markdown",
   "metadata": {
    "pycharm": {
     "name": "#%% md\n"
    }
   },
   "source": [
    "Step 7: Merge it all together"
   ]
  },
  {
   "cell_type": "code",
   "execution_count": 69,
   "metadata": {
    "pycharm": {
     "name": "#%%\n"
    }
   },
   "outputs": [
    {
     "data": {
      "text/plain": "                                  user_id          visit_time  \\\n0    0c3a3dd0-fb64-4eac-bf84-ba069ce409f2 2017-01-26 14:24:00   \n1    486480e2-98c3-4d51-8f4b-b1c07228ce84 2017-01-27 16:34:00   \n2    3ccdaf69-2d30-40de-b083-51372881aedd 2017-01-08 20:21:00   \n3    3ccdaf69-2d30-40de-b083-51372881aedd 2017-01-08 20:21:00   \n4    ab0125fc-9493-4f59-ad70-24ad264a3a0c 2017-11-18 03:21:00   \n..                                    ...                 ...   \n247  d2cb350b-2201-4290-b2e0-84a8bf0d6883 2017-08-08 16:05:00   \n248  f46c88d0-2441-40a8-97fe-6841ff6f050d 2017-09-06 08:42:00   \n249  f783c680-1d9a-437d-9f45-7827299b78fa 2017-06-25 08:07:00   \n250  f783c680-1d9a-437d-9f45-7827299b78fa 2017-06-25 08:07:00   \n251  f783c680-1d9a-437d-9f45-7827299b78fa 2017-06-25 08:07:00   \n\n              cart_time       checkout_time       purchase_time  \n0   2017-01-26 14:44:00 2017-01-26 14:54:00 2017-01-26 15:08:00  \n1   2017-01-27 16:44:00 2017-01-27 17:10:00 2017-01-27 17:12:00  \n2   2017-01-08 20:38:00 2017-01-08 20:52:00 2017-01-08 21:02:00  \n3   2017-01-08 20:38:00 2017-01-08 20:52:00 2017-01-08 21:21:00  \n4   2017-11-18 03:33:00 2017-11-18 03:57:00 2017-11-18 04:21:00  \n..                  ...                 ...                 ...  \n247 2017-08-08 16:07:00 2017-08-08 16:34:00 2017-08-08 16:34:00  \n248 2017-09-06 09:02:00 2017-09-06 09:22:00 2017-09-06 09:28:00  \n249 2017-06-25 08:08:00 2017-06-25 08:28:00 2017-06-25 08:39:00  \n250 2017-06-25 08:08:00 2017-06-25 08:28:00 2017-06-25 08:35:00  \n251 2017-06-25 08:08:00 2017-06-25 08:28:00 2017-06-25 08:18:00  \n\n[252 rows x 5 columns]",
      "text/html": "<div>\n<style scoped>\n    .dataframe tbody tr th:only-of-type {\n        vertical-align: middle;\n    }\n\n    .dataframe tbody tr th {\n        vertical-align: top;\n    }\n\n    .dataframe thead th {\n        text-align: right;\n    }\n</style>\n<table border=\"1\" class=\"dataframe\">\n  <thead>\n    <tr style=\"text-align: right;\">\n      <th></th>\n      <th>user_id</th>\n      <th>visit_time</th>\n      <th>cart_time</th>\n      <th>checkout_time</th>\n      <th>purchase_time</th>\n    </tr>\n  </thead>\n  <tbody>\n    <tr>\n      <th>0</th>\n      <td>0c3a3dd0-fb64-4eac-bf84-ba069ce409f2</td>\n      <td>2017-01-26 14:24:00</td>\n      <td>2017-01-26 14:44:00</td>\n      <td>2017-01-26 14:54:00</td>\n      <td>2017-01-26 15:08:00</td>\n    </tr>\n    <tr>\n      <th>1</th>\n      <td>486480e2-98c3-4d51-8f4b-b1c07228ce84</td>\n      <td>2017-01-27 16:34:00</td>\n      <td>2017-01-27 16:44:00</td>\n      <td>2017-01-27 17:10:00</td>\n      <td>2017-01-27 17:12:00</td>\n    </tr>\n    <tr>\n      <th>2</th>\n      <td>3ccdaf69-2d30-40de-b083-51372881aedd</td>\n      <td>2017-01-08 20:21:00</td>\n      <td>2017-01-08 20:38:00</td>\n      <td>2017-01-08 20:52:00</td>\n      <td>2017-01-08 21:02:00</td>\n    </tr>\n    <tr>\n      <th>3</th>\n      <td>3ccdaf69-2d30-40de-b083-51372881aedd</td>\n      <td>2017-01-08 20:21:00</td>\n      <td>2017-01-08 20:38:00</td>\n      <td>2017-01-08 20:52:00</td>\n      <td>2017-01-08 21:21:00</td>\n    </tr>\n    <tr>\n      <th>4</th>\n      <td>ab0125fc-9493-4f59-ad70-24ad264a3a0c</td>\n      <td>2017-11-18 03:21:00</td>\n      <td>2017-11-18 03:33:00</td>\n      <td>2017-11-18 03:57:00</td>\n      <td>2017-11-18 04:21:00</td>\n    </tr>\n    <tr>\n      <th>...</th>\n      <td>...</td>\n      <td>...</td>\n      <td>...</td>\n      <td>...</td>\n      <td>...</td>\n    </tr>\n    <tr>\n      <th>247</th>\n      <td>d2cb350b-2201-4290-b2e0-84a8bf0d6883</td>\n      <td>2017-08-08 16:05:00</td>\n      <td>2017-08-08 16:07:00</td>\n      <td>2017-08-08 16:34:00</td>\n      <td>2017-08-08 16:34:00</td>\n    </tr>\n    <tr>\n      <th>248</th>\n      <td>f46c88d0-2441-40a8-97fe-6841ff6f050d</td>\n      <td>2017-09-06 08:42:00</td>\n      <td>2017-09-06 09:02:00</td>\n      <td>2017-09-06 09:22:00</td>\n      <td>2017-09-06 09:28:00</td>\n    </tr>\n    <tr>\n      <th>249</th>\n      <td>f783c680-1d9a-437d-9f45-7827299b78fa</td>\n      <td>2017-06-25 08:07:00</td>\n      <td>2017-06-25 08:08:00</td>\n      <td>2017-06-25 08:28:00</td>\n      <td>2017-06-25 08:39:00</td>\n    </tr>\n    <tr>\n      <th>250</th>\n      <td>f783c680-1d9a-437d-9f45-7827299b78fa</td>\n      <td>2017-06-25 08:07:00</td>\n      <td>2017-06-25 08:08:00</td>\n      <td>2017-06-25 08:28:00</td>\n      <td>2017-06-25 08:35:00</td>\n    </tr>\n    <tr>\n      <th>251</th>\n      <td>f783c680-1d9a-437d-9f45-7827299b78fa</td>\n      <td>2017-06-25 08:07:00</td>\n      <td>2017-06-25 08:08:00</td>\n      <td>2017-06-25 08:28:00</td>\n      <td>2017-06-25 08:18:00</td>\n    </tr>\n  </tbody>\n</table>\n<p>252 rows × 5 columns</p>\n</div>"
     },
     "execution_count": 69,
     "metadata": {},
     "output_type": "execute_result"
    }
   ],
   "source": [
    "all_merged = visits.merge(cart).merge(checkout).merge(purchase)\n",
    "all_merged"
   ]
  },
  {
   "cell_type": "markdown",
   "metadata": {
    "pycharm": {
     "name": "#%% md\n"
    }
   },
   "source": [
    "Step 8: % of users who got to checkout but did not purchase"
   ]
  },
  {
   "cell_type": "code",
   "execution_count": 70,
   "metadata": {
    "pycharm": {
     "name": "#%%\n"
    }
   },
   "outputs": [
    {
     "data": {
      "text/plain": "24.550898203592812"
     },
     "execution_count": 70,
     "metadata": {},
     "output_type": "execute_result"
    }
   ],
   "source": [
    "l_m_checkout_purchase = pd.merge(checkout, purchase, how=\"left\")\n",
    "no_null = l_m_checkout_purchase.purchase_time.count()\n",
    "n_null = 334 - no_null\n",
    "checkout_no_purchase = n_null/334*100\n",
    "checkout_no_purchase"
   ]
  },
  {
   "cell_type": "markdown",
   "metadata": {
    "pycharm": {
     "name": "#%% md\n"
    }
   },
   "source": [
    "Step 9: check each part of the funnel, let's print all 3 of them again"
   ]
  },
  {
   "cell_type": "code",
   "execution_count": 71,
   "metadata": {
    "pycharm": {
     "name": "#%%\n"
    }
   },
   "outputs": [
    {
     "name": "stdout",
     "output_type": "stream",
     "text": [
      "83 % only visited\n",
      "35 % placed but not checkout\n",
      "25 % checkout but not purchased\n"
     ]
    }
   ],
   "source": [
    "print((\"{} % only visited\").format(round(only_visited)))\n",
    "print((\"{} % placed but not checkout\").format(round(placed_no_checkout)))\n",
    "print((\"{} % checkout but not purchased\").format(round(checkout_no_purchase)))"
   ]
  },
  {
   "cell_type": "markdown",
   "metadata": {
    "pycharm": {
     "name": "#%% md\n"
    }
   },
   "source": [
    "The weakest part of the funnel is clearly getting a person who visited the site to add a tshirt to their cart. Once they've added a t-shirt to their cart it is fairly likely they end up purchasing it. A suggestion could be to make the add-to-cart button more prominent on the front page.\n",
    "\n",
    "\n",
    "Step 10: adding new column"
   ]
  },
  {
   "cell_type": "code",
   "execution_count": 72,
   "metadata": {
    "pycharm": {
     "name": "#%%\n"
    }
   },
   "outputs": [
    {
     "data": {
      "text/plain": "                                  user_id          visit_time  \\\n0    0c3a3dd0-fb64-4eac-bf84-ba069ce409f2 2017-01-26 14:24:00   \n1    486480e2-98c3-4d51-8f4b-b1c07228ce84 2017-01-27 16:34:00   \n2    3ccdaf69-2d30-40de-b083-51372881aedd 2017-01-08 20:21:00   \n3    3ccdaf69-2d30-40de-b083-51372881aedd 2017-01-08 20:21:00   \n4    ab0125fc-9493-4f59-ad70-24ad264a3a0c 2017-11-18 03:21:00   \n..                                    ...                 ...   \n247  d2cb350b-2201-4290-b2e0-84a8bf0d6883 2017-08-08 16:05:00   \n248  f46c88d0-2441-40a8-97fe-6841ff6f050d 2017-09-06 08:42:00   \n249  f783c680-1d9a-437d-9f45-7827299b78fa 2017-06-25 08:07:00   \n250  f783c680-1d9a-437d-9f45-7827299b78fa 2017-06-25 08:07:00   \n251  f783c680-1d9a-437d-9f45-7827299b78fa 2017-06-25 08:07:00   \n\n              cart_time       checkout_time       purchase_time  \\\n0   2017-01-26 14:44:00 2017-01-26 14:54:00 2017-01-26 15:08:00   \n1   2017-01-27 16:44:00 2017-01-27 17:10:00 2017-01-27 17:12:00   \n2   2017-01-08 20:38:00 2017-01-08 20:52:00 2017-01-08 21:02:00   \n3   2017-01-08 20:38:00 2017-01-08 20:52:00 2017-01-08 21:21:00   \n4   2017-11-18 03:33:00 2017-11-18 03:57:00 2017-11-18 04:21:00   \n..                  ...                 ...                 ...   \n247 2017-08-08 16:07:00 2017-08-08 16:34:00 2017-08-08 16:34:00   \n248 2017-09-06 09:02:00 2017-09-06 09:22:00 2017-09-06 09:28:00   \n249 2017-06-25 08:08:00 2017-06-25 08:28:00 2017-06-25 08:39:00   \n250 2017-06-25 08:08:00 2017-06-25 08:28:00 2017-06-25 08:35:00   \n251 2017-06-25 08:08:00 2017-06-25 08:28:00 2017-06-25 08:18:00   \n\n          full_time  \n0   0 days 00:44:00  \n1   0 days 00:38:00  \n2   0 days 00:41:00  \n3   0 days 01:00:00  \n4   0 days 01:00:00  \n..              ...  \n247 0 days 00:29:00  \n248 0 days 00:46:00  \n249 0 days 00:32:00  \n250 0 days 00:28:00  \n251 0 days 00:11:00  \n\n[252 rows x 6 columns]",
      "text/html": "<div>\n<style scoped>\n    .dataframe tbody tr th:only-of-type {\n        vertical-align: middle;\n    }\n\n    .dataframe tbody tr th {\n        vertical-align: top;\n    }\n\n    .dataframe thead th {\n        text-align: right;\n    }\n</style>\n<table border=\"1\" class=\"dataframe\">\n  <thead>\n    <tr style=\"text-align: right;\">\n      <th></th>\n      <th>user_id</th>\n      <th>visit_time</th>\n      <th>cart_time</th>\n      <th>checkout_time</th>\n      <th>purchase_time</th>\n      <th>full_time</th>\n    </tr>\n  </thead>\n  <tbody>\n    <tr>\n      <th>0</th>\n      <td>0c3a3dd0-fb64-4eac-bf84-ba069ce409f2</td>\n      <td>2017-01-26 14:24:00</td>\n      <td>2017-01-26 14:44:00</td>\n      <td>2017-01-26 14:54:00</td>\n      <td>2017-01-26 15:08:00</td>\n      <td>0 days 00:44:00</td>\n    </tr>\n    <tr>\n      <th>1</th>\n      <td>486480e2-98c3-4d51-8f4b-b1c07228ce84</td>\n      <td>2017-01-27 16:34:00</td>\n      <td>2017-01-27 16:44:00</td>\n      <td>2017-01-27 17:10:00</td>\n      <td>2017-01-27 17:12:00</td>\n      <td>0 days 00:38:00</td>\n    </tr>\n    <tr>\n      <th>2</th>\n      <td>3ccdaf69-2d30-40de-b083-51372881aedd</td>\n      <td>2017-01-08 20:21:00</td>\n      <td>2017-01-08 20:38:00</td>\n      <td>2017-01-08 20:52:00</td>\n      <td>2017-01-08 21:02:00</td>\n      <td>0 days 00:41:00</td>\n    </tr>\n    <tr>\n      <th>3</th>\n      <td>3ccdaf69-2d30-40de-b083-51372881aedd</td>\n      <td>2017-01-08 20:21:00</td>\n      <td>2017-01-08 20:38:00</td>\n      <td>2017-01-08 20:52:00</td>\n      <td>2017-01-08 21:21:00</td>\n      <td>0 days 01:00:00</td>\n    </tr>\n    <tr>\n      <th>4</th>\n      <td>ab0125fc-9493-4f59-ad70-24ad264a3a0c</td>\n      <td>2017-11-18 03:21:00</td>\n      <td>2017-11-18 03:33:00</td>\n      <td>2017-11-18 03:57:00</td>\n      <td>2017-11-18 04:21:00</td>\n      <td>0 days 01:00:00</td>\n    </tr>\n    <tr>\n      <th>...</th>\n      <td>...</td>\n      <td>...</td>\n      <td>...</td>\n      <td>...</td>\n      <td>...</td>\n      <td>...</td>\n    </tr>\n    <tr>\n      <th>247</th>\n      <td>d2cb350b-2201-4290-b2e0-84a8bf0d6883</td>\n      <td>2017-08-08 16:05:00</td>\n      <td>2017-08-08 16:07:00</td>\n      <td>2017-08-08 16:34:00</td>\n      <td>2017-08-08 16:34:00</td>\n      <td>0 days 00:29:00</td>\n    </tr>\n    <tr>\n      <th>248</th>\n      <td>f46c88d0-2441-40a8-97fe-6841ff6f050d</td>\n      <td>2017-09-06 08:42:00</td>\n      <td>2017-09-06 09:02:00</td>\n      <td>2017-09-06 09:22:00</td>\n      <td>2017-09-06 09:28:00</td>\n      <td>0 days 00:46:00</td>\n    </tr>\n    <tr>\n      <th>249</th>\n      <td>f783c680-1d9a-437d-9f45-7827299b78fa</td>\n      <td>2017-06-25 08:07:00</td>\n      <td>2017-06-25 08:08:00</td>\n      <td>2017-06-25 08:28:00</td>\n      <td>2017-06-25 08:39:00</td>\n      <td>0 days 00:32:00</td>\n    </tr>\n    <tr>\n      <th>250</th>\n      <td>f783c680-1d9a-437d-9f45-7827299b78fa</td>\n      <td>2017-06-25 08:07:00</td>\n      <td>2017-06-25 08:08:00</td>\n      <td>2017-06-25 08:28:00</td>\n      <td>2017-06-25 08:35:00</td>\n      <td>0 days 00:28:00</td>\n    </tr>\n    <tr>\n      <th>251</th>\n      <td>f783c680-1d9a-437d-9f45-7827299b78fa</td>\n      <td>2017-06-25 08:07:00</td>\n      <td>2017-06-25 08:08:00</td>\n      <td>2017-06-25 08:28:00</td>\n      <td>2017-06-25 08:18:00</td>\n      <td>0 days 00:11:00</td>\n    </tr>\n  </tbody>\n</table>\n<p>252 rows × 6 columns</p>\n</div>"
     },
     "execution_count": 72,
     "metadata": {},
     "output_type": "execute_result"
    }
   ],
   "source": [
    "all_merged[\"full_time\"] = all_merged[\"purchase_time\"] -all_merged[\"visit_time\"]\n",
    "all_merged"
   ]
  },
  {
   "cell_type": "markdown",
   "metadata": {
    "pycharm": {
     "name": "#%% md\n"
    }
   },
   "source": [
    "Step 11: examine the results"
   ]
  },
  {
   "cell_type": "code",
   "execution_count": 73,
   "metadata": {
    "pycharm": {
     "name": "#%%\n"
    }
   },
   "outputs": [
    {
     "data": {
      "text/plain": "Timedelta('0 days 00:43:12.380952380')"
     },
     "execution_count": 73,
     "metadata": {},
     "output_type": "execute_result"
    }
   ],
   "source": [
    "all_merged.full_time.mean()"
   ]
  },
  {
   "cell_type": "markdown",
   "metadata": {
    "pycharm": {
     "name": "#%% md\n"
    }
   },
   "source": []
  }
 ],
 "metadata": {
  "kernelspec": {
   "display_name": "Python 3",
   "language": "python",
   "name": "python3"
  },
  "language_info": {
   "codemirror_mode": {
    "name": "ipython",
    "version": 3
   },
   "file_extension": ".py",
   "mimetype": "text/x-python",
   "name": "python",
   "nbconvert_exporter": "python",
   "pygments_lexer": "ipython3",
   "version": "3.8.5"
  }
 },
 "nbformat": 4,
 "nbformat_minor": 4
}