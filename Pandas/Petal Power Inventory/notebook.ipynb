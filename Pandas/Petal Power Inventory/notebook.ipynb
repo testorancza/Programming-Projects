{
 "cells": [
  {
   "cell_type": "code",
   "execution_count": 1,
   "metadata": {
    "collapsed": true,
    "pycharm": {
     "name": "#%%\n"
    }
   },
   "outputs": [
    {
     "data": {
      "text/plain": "        location  product_type         product_description  quantity  price\n0  Staten Island         seeds                       daisy         4   6.99\n1  Staten Island         seeds                  calla lily        46  19.99\n2  Staten Island         seeds                      tomato        85  13.99\n3  Staten Island  garden tools                        rake         4  13.99\n4  Staten Island  garden tools                 wheelbarrow         0  89.99\n5  Staten Island  garden tools                       spade        93  19.99\n6  Staten Island  pest_control               insect killer        74  12.99\n7  Staten Island  pest_control                 weed killer         8  23.99\n8  Staten Island       planter  20 inch terracotta planter         0  17.99\n9  Staten Island       planter      8 inch plastic planter        53   3.99",
      "text/html": "<div>\n<style scoped>\n    .dataframe tbody tr th:only-of-type {\n        vertical-align: middle;\n    }\n\n    .dataframe tbody tr th {\n        vertical-align: top;\n    }\n\n    .dataframe thead th {\n        text-align: right;\n    }\n</style>\n<table border=\"1\" class=\"dataframe\">\n  <thead>\n    <tr style=\"text-align: right;\">\n      <th></th>\n      <th>location</th>\n      <th>product_type</th>\n      <th>product_description</th>\n      <th>quantity</th>\n      <th>price</th>\n    </tr>\n  </thead>\n  <tbody>\n    <tr>\n      <th>0</th>\n      <td>Staten Island</td>\n      <td>seeds</td>\n      <td>daisy</td>\n      <td>4</td>\n      <td>6.99</td>\n    </tr>\n    <tr>\n      <th>1</th>\n      <td>Staten Island</td>\n      <td>seeds</td>\n      <td>calla lily</td>\n      <td>46</td>\n      <td>19.99</td>\n    </tr>\n    <tr>\n      <th>2</th>\n      <td>Staten Island</td>\n      <td>seeds</td>\n      <td>tomato</td>\n      <td>85</td>\n      <td>13.99</td>\n    </tr>\n    <tr>\n      <th>3</th>\n      <td>Staten Island</td>\n      <td>garden tools</td>\n      <td>rake</td>\n      <td>4</td>\n      <td>13.99</td>\n    </tr>\n    <tr>\n      <th>4</th>\n      <td>Staten Island</td>\n      <td>garden tools</td>\n      <td>wheelbarrow</td>\n      <td>0</td>\n      <td>89.99</td>\n    </tr>\n    <tr>\n      <th>5</th>\n      <td>Staten Island</td>\n      <td>garden tools</td>\n      <td>spade</td>\n      <td>93</td>\n      <td>19.99</td>\n    </tr>\n    <tr>\n      <th>6</th>\n      <td>Staten Island</td>\n      <td>pest_control</td>\n      <td>insect killer</td>\n      <td>74</td>\n      <td>12.99</td>\n    </tr>\n    <tr>\n      <th>7</th>\n      <td>Staten Island</td>\n      <td>pest_control</td>\n      <td>weed killer</td>\n      <td>8</td>\n      <td>23.99</td>\n    </tr>\n    <tr>\n      <th>8</th>\n      <td>Staten Island</td>\n      <td>planter</td>\n      <td>20 inch terracotta planter</td>\n      <td>0</td>\n      <td>17.99</td>\n    </tr>\n    <tr>\n      <th>9</th>\n      <td>Staten Island</td>\n      <td>planter</td>\n      <td>8 inch plastic planter</td>\n      <td>53</td>\n      <td>3.99</td>\n    </tr>\n  </tbody>\n</table>\n</div>"
     },
     "execution_count": 1,
     "metadata": {},
     "output_type": "execute_result"
    }
   ],
   "source": [
    "import pandas as pd\n",
    "inventory = pd.read_csv(\"inventory.csv\")\n",
    "inventory.head(10)"
   ]
  },
  {
   "cell_type": "code",
   "execution_count": 2,
   "outputs": [
    {
     "data": {
      "text/plain": "0                         daisy\n1                    calla lily\n2                        tomato\n3                          rake\n4                   wheelbarrow\n5                         spade\n6                 insect killer\n7                   weed killer\n8    20 inch terracotta planter\n9        8 inch plastic planter\nName: product_description, dtype: object"
     },
     "execution_count": 2,
     "metadata": {},
     "output_type": "execute_result"
    }
   ],
   "source": [
    "staten_island = inventory.iloc[:10]\n",
    "product_request = staten_island[\"product_description\"]\n",
    "product_request"
   ],
   "metadata": {
    "collapsed": false,
    "pycharm": {
     "name": "#%%\n"
    }
   }
  },
  {
   "cell_type": "code",
   "execution_count": 3,
   "outputs": [
    {
     "data": {
      "text/plain": "    location product_type product_description  quantity  price\n10  Brooklyn        seeds               daisy        50   6.99\n11  Brooklyn        seeds          calla lily         0  19.99\n12  Brooklyn        seeds              tomato         0  13.99",
      "text/html": "<div>\n<style scoped>\n    .dataframe tbody tr th:only-of-type {\n        vertical-align: middle;\n    }\n\n    .dataframe tbody tr th {\n        vertical-align: top;\n    }\n\n    .dataframe thead th {\n        text-align: right;\n    }\n</style>\n<table border=\"1\" class=\"dataframe\">\n  <thead>\n    <tr style=\"text-align: right;\">\n      <th></th>\n      <th>location</th>\n      <th>product_type</th>\n      <th>product_description</th>\n      <th>quantity</th>\n      <th>price</th>\n    </tr>\n  </thead>\n  <tbody>\n    <tr>\n      <th>10</th>\n      <td>Brooklyn</td>\n      <td>seeds</td>\n      <td>daisy</td>\n      <td>50</td>\n      <td>6.99</td>\n    </tr>\n    <tr>\n      <th>11</th>\n      <td>Brooklyn</td>\n      <td>seeds</td>\n      <td>calla lily</td>\n      <td>0</td>\n      <td>19.99</td>\n    </tr>\n    <tr>\n      <th>12</th>\n      <td>Brooklyn</td>\n      <td>seeds</td>\n      <td>tomato</td>\n      <td>0</td>\n      <td>13.99</td>\n    </tr>\n  </tbody>\n</table>\n</div>"
     },
     "execution_count": 3,
     "metadata": {},
     "output_type": "execute_result"
    }
   ],
   "source": [
    "seed_request = inventory[(inventory[\"location\"] == \"Brooklyn\") & (inventory[\"product_type\"] == \"seeds\")]\n",
    "seed_request\n"
   ],
   "metadata": {
    "collapsed": false,
    "pycharm": {
     "name": "#%%\n"
    }
   }
  },
  {
   "cell_type": "code",
   "execution_count": 4,
   "outputs": [
    {
     "data": {
      "text/plain": "         location  product_type         product_description  quantity  price  \\\n0   Staten Island         seeds                       daisy         4   6.99   \n1   Staten Island         seeds                  calla lily        46  19.99   \n2   Staten Island         seeds                      tomato        85  13.99   \n3   Staten Island  garden tools                        rake         4  13.99   \n4   Staten Island  garden tools                 wheelbarrow         0  89.99   \n5   Staten Island  garden tools                       spade        93  19.99   \n6   Staten Island  pest_control               insect killer        74  12.99   \n7   Staten Island  pest_control                 weed killer         8  23.99   \n8   Staten Island       planter  20 inch terracotta planter         0  17.99   \n9   Staten Island       planter      8 inch plastic planter        53   3.99   \n10       Brooklyn         seeds                       daisy        50   6.99   \n11       Brooklyn         seeds                  calla lily         0  19.99   \n12       Brooklyn         seeds                      tomato         0  13.99   \n13       Brooklyn  garden tools                        rake        15  13.99   \n14       Brooklyn  garden tools                 wheelbarrow        82  89.99   \n15       Brooklyn  garden tools                       spade        36  19.99   \n16       Brooklyn  pest_control               insect killer        80  12.99   \n17       Brooklyn  pest_control                 weed killer        76  23.99   \n18       Brooklyn       planter  20 inch terracotta planter         5  17.99   \n19       Brooklyn       planter      8 inch plastic planter        26   3.99   \n20         Queens         seeds                       daisy        57   6.99   \n21         Queens         seeds                  calla lily        95  19.99   \n22         Queens         seeds                      tomato        45  13.99   \n23         Queens  garden tools                        rake        21  13.99   \n24         Queens  garden tools                 wheelbarrow        98  89.99   \n25         Queens  garden tools                       spade        26  19.99   \n26         Queens  pest_control               insect killer         0  12.99   \n27         Queens  pest_control                 weed killer        16  23.99   \n28         Queens       planter  20 inch terracotta planter        87  17.99   \n\n    in_stock  total_value                      full_description  \n0       True        27.96                         seeds - daisy  \n1       True       919.54                    seeds - calla lily  \n2       True      1189.15                        seeds - tomato  \n3       True        55.96                   garden tools - rake  \n4      False         0.00            garden tools - wheelbarrow  \n5       True      1859.07                  garden tools - spade  \n6       True       961.26          pest_control - insect killer  \n7       True       191.92            pest_control - weed killer  \n8      False         0.00  planter - 20 inch terracotta planter  \n9       True       211.47      planter - 8 inch plastic planter  \n10      True       349.50                         seeds - daisy  \n11     False         0.00                    seeds - calla lily  \n12     False         0.00                        seeds - tomato  \n13      True       209.85                   garden tools - rake  \n14      True      7379.18            garden tools - wheelbarrow  \n15      True       719.64                  garden tools - spade  \n16      True      1039.20          pest_control - insect killer  \n17      True      1823.24            pest_control - weed killer  \n18      True        89.95  planter - 20 inch terracotta planter  \n19      True       103.74      planter - 8 inch plastic planter  \n20      True       398.43                         seeds - daisy  \n21      True      1899.05                    seeds - calla lily  \n22      True       629.55                        seeds - tomato  \n23      True       293.79                   garden tools - rake  \n24      True      8819.02            garden tools - wheelbarrow  \n25      True       519.74                  garden tools - spade  \n26     False         0.00          pest_control - insect killer  \n27      True       383.84            pest_control - weed killer  \n28      True      1565.13  planter - 20 inch terracotta planter  ",
      "text/html": "<div>\n<style scoped>\n    .dataframe tbody tr th:only-of-type {\n        vertical-align: middle;\n    }\n\n    .dataframe tbody tr th {\n        vertical-align: top;\n    }\n\n    .dataframe thead th {\n        text-align: right;\n    }\n</style>\n<table border=\"1\" class=\"dataframe\">\n  <thead>\n    <tr style=\"text-align: right;\">\n      <th></th>\n      <th>location</th>\n      <th>product_type</th>\n      <th>product_description</th>\n      <th>quantity</th>\n      <th>price</th>\n      <th>in_stock</th>\n      <th>total_value</th>\n      <th>full_description</th>\n    </tr>\n  </thead>\n  <tbody>\n    <tr>\n      <th>0</th>\n      <td>Staten Island</td>\n      <td>seeds</td>\n      <td>daisy</td>\n      <td>4</td>\n      <td>6.99</td>\n      <td>True</td>\n      <td>27.96</td>\n      <td>seeds - daisy</td>\n    </tr>\n    <tr>\n      <th>1</th>\n      <td>Staten Island</td>\n      <td>seeds</td>\n      <td>calla lily</td>\n      <td>46</td>\n      <td>19.99</td>\n      <td>True</td>\n      <td>919.54</td>\n      <td>seeds - calla lily</td>\n    </tr>\n    <tr>\n      <th>2</th>\n      <td>Staten Island</td>\n      <td>seeds</td>\n      <td>tomato</td>\n      <td>85</td>\n      <td>13.99</td>\n      <td>True</td>\n      <td>1189.15</td>\n      <td>seeds - tomato</td>\n    </tr>\n    <tr>\n      <th>3</th>\n      <td>Staten Island</td>\n      <td>garden tools</td>\n      <td>rake</td>\n      <td>4</td>\n      <td>13.99</td>\n      <td>True</td>\n      <td>55.96</td>\n      <td>garden tools - rake</td>\n    </tr>\n    <tr>\n      <th>4</th>\n      <td>Staten Island</td>\n      <td>garden tools</td>\n      <td>wheelbarrow</td>\n      <td>0</td>\n      <td>89.99</td>\n      <td>False</td>\n      <td>0.00</td>\n      <td>garden tools - wheelbarrow</td>\n    </tr>\n    <tr>\n      <th>5</th>\n      <td>Staten Island</td>\n      <td>garden tools</td>\n      <td>spade</td>\n      <td>93</td>\n      <td>19.99</td>\n      <td>True</td>\n      <td>1859.07</td>\n      <td>garden tools - spade</td>\n    </tr>\n    <tr>\n      <th>6</th>\n      <td>Staten Island</td>\n      <td>pest_control</td>\n      <td>insect killer</td>\n      <td>74</td>\n      <td>12.99</td>\n      <td>True</td>\n      <td>961.26</td>\n      <td>pest_control - insect killer</td>\n    </tr>\n    <tr>\n      <th>7</th>\n      <td>Staten Island</td>\n      <td>pest_control</td>\n      <td>weed killer</td>\n      <td>8</td>\n      <td>23.99</td>\n      <td>True</td>\n      <td>191.92</td>\n      <td>pest_control - weed killer</td>\n    </tr>\n    <tr>\n      <th>8</th>\n      <td>Staten Island</td>\n      <td>planter</td>\n      <td>20 inch terracotta planter</td>\n      <td>0</td>\n      <td>17.99</td>\n      <td>False</td>\n      <td>0.00</td>\n      <td>planter - 20 inch terracotta planter</td>\n    </tr>\n    <tr>\n      <th>9</th>\n      <td>Staten Island</td>\n      <td>planter</td>\n      <td>8 inch plastic planter</td>\n      <td>53</td>\n      <td>3.99</td>\n      <td>True</td>\n      <td>211.47</td>\n      <td>planter - 8 inch plastic planter</td>\n    </tr>\n    <tr>\n      <th>10</th>\n      <td>Brooklyn</td>\n      <td>seeds</td>\n      <td>daisy</td>\n      <td>50</td>\n      <td>6.99</td>\n      <td>True</td>\n      <td>349.50</td>\n      <td>seeds - daisy</td>\n    </tr>\n    <tr>\n      <th>11</th>\n      <td>Brooklyn</td>\n      <td>seeds</td>\n      <td>calla lily</td>\n      <td>0</td>\n      <td>19.99</td>\n      <td>False</td>\n      <td>0.00</td>\n      <td>seeds - calla lily</td>\n    </tr>\n    <tr>\n      <th>12</th>\n      <td>Brooklyn</td>\n      <td>seeds</td>\n      <td>tomato</td>\n      <td>0</td>\n      <td>13.99</td>\n      <td>False</td>\n      <td>0.00</td>\n      <td>seeds - tomato</td>\n    </tr>\n    <tr>\n      <th>13</th>\n      <td>Brooklyn</td>\n      <td>garden tools</td>\n      <td>rake</td>\n      <td>15</td>\n      <td>13.99</td>\n      <td>True</td>\n      <td>209.85</td>\n      <td>garden tools - rake</td>\n    </tr>\n    <tr>\n      <th>14</th>\n      <td>Brooklyn</td>\n      <td>garden tools</td>\n      <td>wheelbarrow</td>\n      <td>82</td>\n      <td>89.99</td>\n      <td>True</td>\n      <td>7379.18</td>\n      <td>garden tools - wheelbarrow</td>\n    </tr>\n    <tr>\n      <th>15</th>\n      <td>Brooklyn</td>\n      <td>garden tools</td>\n      <td>spade</td>\n      <td>36</td>\n      <td>19.99</td>\n      <td>True</td>\n      <td>719.64</td>\n      <td>garden tools - spade</td>\n    </tr>\n    <tr>\n      <th>16</th>\n      <td>Brooklyn</td>\n      <td>pest_control</td>\n      <td>insect killer</td>\n      <td>80</td>\n      <td>12.99</td>\n      <td>True</td>\n      <td>1039.20</td>\n      <td>pest_control - insect killer</td>\n    </tr>\n    <tr>\n      <th>17</th>\n      <td>Brooklyn</td>\n      <td>pest_control</td>\n      <td>weed killer</td>\n      <td>76</td>\n      <td>23.99</td>\n      <td>True</td>\n      <td>1823.24</td>\n      <td>pest_control - weed killer</td>\n    </tr>\n    <tr>\n      <th>18</th>\n      <td>Brooklyn</td>\n      <td>planter</td>\n      <td>20 inch terracotta planter</td>\n      <td>5</td>\n      <td>17.99</td>\n      <td>True</td>\n      <td>89.95</td>\n      <td>planter - 20 inch terracotta planter</td>\n    </tr>\n    <tr>\n      <th>19</th>\n      <td>Brooklyn</td>\n      <td>planter</td>\n      <td>8 inch plastic planter</td>\n      <td>26</td>\n      <td>3.99</td>\n      <td>True</td>\n      <td>103.74</td>\n      <td>planter - 8 inch plastic planter</td>\n    </tr>\n    <tr>\n      <th>20</th>\n      <td>Queens</td>\n      <td>seeds</td>\n      <td>daisy</td>\n      <td>57</td>\n      <td>6.99</td>\n      <td>True</td>\n      <td>398.43</td>\n      <td>seeds - daisy</td>\n    </tr>\n    <tr>\n      <th>21</th>\n      <td>Queens</td>\n      <td>seeds</td>\n      <td>calla lily</td>\n      <td>95</td>\n      <td>19.99</td>\n      <td>True</td>\n      <td>1899.05</td>\n      <td>seeds - calla lily</td>\n    </tr>\n    <tr>\n      <th>22</th>\n      <td>Queens</td>\n      <td>seeds</td>\n      <td>tomato</td>\n      <td>45</td>\n      <td>13.99</td>\n      <td>True</td>\n      <td>629.55</td>\n      <td>seeds - tomato</td>\n    </tr>\n    <tr>\n      <th>23</th>\n      <td>Queens</td>\n      <td>garden tools</td>\n      <td>rake</td>\n      <td>21</td>\n      <td>13.99</td>\n      <td>True</td>\n      <td>293.79</td>\n      <td>garden tools - rake</td>\n    </tr>\n    <tr>\n      <th>24</th>\n      <td>Queens</td>\n      <td>garden tools</td>\n      <td>wheelbarrow</td>\n      <td>98</td>\n      <td>89.99</td>\n      <td>True</td>\n      <td>8819.02</td>\n      <td>garden tools - wheelbarrow</td>\n    </tr>\n    <tr>\n      <th>25</th>\n      <td>Queens</td>\n      <td>garden tools</td>\n      <td>spade</td>\n      <td>26</td>\n      <td>19.99</td>\n      <td>True</td>\n      <td>519.74</td>\n      <td>garden tools - spade</td>\n    </tr>\n    <tr>\n      <th>26</th>\n      <td>Queens</td>\n      <td>pest_control</td>\n      <td>insect killer</td>\n      <td>0</td>\n      <td>12.99</td>\n      <td>False</td>\n      <td>0.00</td>\n      <td>pest_control - insect killer</td>\n    </tr>\n    <tr>\n      <th>27</th>\n      <td>Queens</td>\n      <td>pest_control</td>\n      <td>weed killer</td>\n      <td>16</td>\n      <td>23.99</td>\n      <td>True</td>\n      <td>383.84</td>\n      <td>pest_control - weed killer</td>\n    </tr>\n    <tr>\n      <th>28</th>\n      <td>Queens</td>\n      <td>planter</td>\n      <td>20 inch terracotta planter</td>\n      <td>87</td>\n      <td>17.99</td>\n      <td>True</td>\n      <td>1565.13</td>\n      <td>planter - 20 inch terracotta planter</td>\n    </tr>\n  </tbody>\n</table>\n</div>"
     },
     "execution_count": 4,
     "metadata": {},
     "output_type": "execute_result"
    }
   ],
   "source": [
    "inventory[\"in_stock\"] = inventory[\"quantity\"].apply(lambda x: True if x > 0 else False)\n",
    "inventory[\"total_value\"] = inventory.apply(lambda row: row[\"price\"]*row[\"quantity\"],axis=1 )\n",
    "combine_lambda = lambda row: '{} - {}'.format(row.product_type, row.product_description)\n",
    "inventory[\"full_description\"] = inventory.apply(combine_lambda,axis=1)\n",
    "inventory"
   ],
   "metadata": {
    "collapsed": false,
    "pycharm": {
     "name": "#%%\n"
    }
   }
  },
  {
   "cell_type": "code",
   "execution_count": null,
   "outputs": [],
   "source": [],
   "metadata": {
    "collapsed": false,
    "pycharm": {
     "name": "#%%\n"
    }
   }
  }
 ],
 "metadata": {
  "kernelspec": {
   "display_name": "Python 3",
   "language": "python",
   "name": "python3"
  },
  "language_info": {
   "codemirror_mode": {
    "name": "ipython",
    "version": 2
   },
   "file_extension": ".py",
   "mimetype": "text/x-python",
   "name": "python",
   "nbconvert_exporter": "python",
   "pygments_lexer": "ipython2",
   "version": "2.7.6"
  }
 },
 "nbformat": 4,
 "nbformat_minor": 0
}