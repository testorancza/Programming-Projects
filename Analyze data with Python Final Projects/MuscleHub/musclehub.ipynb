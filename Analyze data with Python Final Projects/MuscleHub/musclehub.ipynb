{
 "cells": [
  {
   "cell_type": "markdown",
   "metadata": {
    "pycharm": {
     "name": "#%% md\n"
    }
   },
   "source": [
    "# Capstone Project 1: MuscleHub AB Test"
   ]
  },
  {
   "cell_type": "markdown",
   "metadata": {
    "pycharm": {
     "name": "#%% md\n"
    }
   },
   "source": [
    "## Step 1: Get started with SQL"
   ]
  },
  {
   "cell_type": "markdown",
   "metadata": {
    "pycharm": {
     "name": "#%% md\n"
    }
   },
   "source": [
    "Like most businesses, Janet keeps her data in a SQL database.  Normally, you'd download the data from her database to a csv file, and then load it into a Jupyter Notebook using Pandas.\n",
    "\n",
    "For this project, you'll have to access SQL in a slightly different way.  You'll be using a special Codecademy library that lets you type SQL queries directly into this Jupyter notebook.  You'll have pass each SQL query as an argument to a function called `sql_query`.  Each query will return a Pandas DataFrame.  Here's an example:"
   ]
  },
  {
   "cell_type": "code",
   "execution_count": 2,
   "metadata": {
    "collapsed": true,
    "pycharm": {
     "name": "#%%\n"
    }
   },
   "outputs": [],
   "source": [
    "# This import only needs to happen once, at the beginning of the notebook\n",
    "from codecademySQL import sql_query"
   ]
  },
  {
   "cell_type": "code",
   "execution_count": 3,
   "metadata": {
    "pycharm": {
     "name": "#%%\n"
    }
   },
   "outputs": [
    {
     "data": {
      "text/plain": "   index first_name last_name                          email  gender  \\\n0      0      Karen   Manning        Karen.Manning@gmail.com  female   \n1      1    Annette     Boone               AB9982@gmail.com  female   \n2      2   Salvador   Merritt  SalvadorMerritt12@outlook.com    male   \n3      3     Martha   Maxwell       Martha.Maxwell@gmail.com  female   \n4      4      Andre     Mayer         AndreMayer90@gmail.com    male   \n\n  visit_date  \n0     5-1-17  \n1     5-1-17  \n2     5-1-17  \n3     5-1-17  \n4     5-1-17  ",
      "text/html": "<div>\n<style scoped>\n    .dataframe tbody tr th:only-of-type {\n        vertical-align: middle;\n    }\n\n    .dataframe tbody tr th {\n        vertical-align: top;\n    }\n\n    .dataframe thead th {\n        text-align: right;\n    }\n</style>\n<table border=\"1\" class=\"dataframe\">\n  <thead>\n    <tr style=\"text-align: right;\">\n      <th></th>\n      <th>index</th>\n      <th>first_name</th>\n      <th>last_name</th>\n      <th>email</th>\n      <th>gender</th>\n      <th>visit_date</th>\n    </tr>\n  </thead>\n  <tbody>\n    <tr>\n      <th>0</th>\n      <td>0</td>\n      <td>Karen</td>\n      <td>Manning</td>\n      <td>Karen.Manning@gmail.com</td>\n      <td>female</td>\n      <td>5-1-17</td>\n    </tr>\n    <tr>\n      <th>1</th>\n      <td>1</td>\n      <td>Annette</td>\n      <td>Boone</td>\n      <td>AB9982@gmail.com</td>\n      <td>female</td>\n      <td>5-1-17</td>\n    </tr>\n    <tr>\n      <th>2</th>\n      <td>2</td>\n      <td>Salvador</td>\n      <td>Merritt</td>\n      <td>SalvadorMerritt12@outlook.com</td>\n      <td>male</td>\n      <td>5-1-17</td>\n    </tr>\n    <tr>\n      <th>3</th>\n      <td>3</td>\n      <td>Martha</td>\n      <td>Maxwell</td>\n      <td>Martha.Maxwell@gmail.com</td>\n      <td>female</td>\n      <td>5-1-17</td>\n    </tr>\n    <tr>\n      <th>4</th>\n      <td>4</td>\n      <td>Andre</td>\n      <td>Mayer</td>\n      <td>AndreMayer90@gmail.com</td>\n      <td>male</td>\n      <td>5-1-17</td>\n    </tr>\n  </tbody>\n</table>\n</div>"
     },
     "execution_count": 3,
     "metadata": {},
     "output_type": "execute_result"
    }
   ],
   "source": [
    "# Here's an example of a query that just displays some data\n",
    "sql_query('''\n",
    "SELECT *\n",
    "FROM visits\n",
    "LIMIT 5\n",
    "''')"
   ]
  },
  {
   "cell_type": "code",
   "execution_count": 6,
   "metadata": {
    "pycharm": {
     "name": "#%%\n"
    }
   },
   "outputs": [
    {
     "data": {
      "text/plain": "   index first_name last_name                    email  gender  \\\n0      0        Roy    Abbott    RoyAbbott32@gmail.com    male   \n1      1      Agnes   Acevedo  AgnesAcevedo1@gmail.com  female   \n2      2    Roberta   Acevedo         RA8063@gmail.com  female   \n3      3     Darren    Acosta  DAcosta1996@hotmail.com    male   \n4      4     Vernon    Acosta    VAcosta1975@gmail.com    male   \n\n  application_date  \n0       2017-08-12  \n1       2017-09-29  \n2       2017-09-15  \n3       2017-07-26  \n4       2017-07-14  ",
      "text/html": "<div>\n<style scoped>\n    .dataframe tbody tr th:only-of-type {\n        vertical-align: middle;\n    }\n\n    .dataframe tbody tr th {\n        vertical-align: top;\n    }\n\n    .dataframe thead th {\n        text-align: right;\n    }\n</style>\n<table border=\"1\" class=\"dataframe\">\n  <thead>\n    <tr style=\"text-align: right;\">\n      <th></th>\n      <th>index</th>\n      <th>first_name</th>\n      <th>last_name</th>\n      <th>email</th>\n      <th>gender</th>\n      <th>application_date</th>\n    </tr>\n  </thead>\n  <tbody>\n    <tr>\n      <th>0</th>\n      <td>0</td>\n      <td>Roy</td>\n      <td>Abbott</td>\n      <td>RoyAbbott32@gmail.com</td>\n      <td>male</td>\n      <td>2017-08-12</td>\n    </tr>\n    <tr>\n      <th>1</th>\n      <td>1</td>\n      <td>Agnes</td>\n      <td>Acevedo</td>\n      <td>AgnesAcevedo1@gmail.com</td>\n      <td>female</td>\n      <td>2017-09-29</td>\n    </tr>\n    <tr>\n      <th>2</th>\n      <td>2</td>\n      <td>Roberta</td>\n      <td>Acevedo</td>\n      <td>RA8063@gmail.com</td>\n      <td>female</td>\n      <td>2017-09-15</td>\n    </tr>\n    <tr>\n      <th>3</th>\n      <td>3</td>\n      <td>Darren</td>\n      <td>Acosta</td>\n      <td>DAcosta1996@hotmail.com</td>\n      <td>male</td>\n      <td>2017-07-26</td>\n    </tr>\n    <tr>\n      <th>4</th>\n      <td>4</td>\n      <td>Vernon</td>\n      <td>Acosta</td>\n      <td>VAcosta1975@gmail.com</td>\n      <td>male</td>\n      <td>2017-07-14</td>\n    </tr>\n  </tbody>\n</table>\n</div>"
     },
     "execution_count": 6,
     "metadata": {},
     "output_type": "execute_result"
    }
   ],
   "source": [
    "# Here's an example where we save the data to a DataFrame\n",
    "df = sql_query('''\n",
    "SELECT *\n",
    "FROM applications\n",
    "LIMIT 5\n",
    "''')\n",
    "df"
   ]
  },
  {
   "cell_type": "markdown",
   "metadata": {
    "pycharm": {
     "name": "#%% md\n"
    }
   },
   "source": [
    "## Step 2: Get your dataset"
   ]
  },
  {
   "cell_type": "markdown",
   "metadata": {
    "pycharm": {
     "name": "#%% md\n"
    }
   },
   "source": [
    "Let's get started!\n",
    "\n",
    "Janet of MuscleHub has a SQLite database, which contains several tables that will be helpful to you in this investigation:\n",
    "- `visits` contains information about potential gym customers who have visited MuscleHub\n",
    "- `fitness_tests` contains information about potential customers in \"Group A\", who were given a fitness test\n",
    "- `applications` contains information about any potential customers (both \"Group A\" and \"Group B\") who filled out an application.  Not everyone in `visits` will have filled out an application.\n",
    "- `purchases` contains information about customers who purchased a membership to MuscleHub.\n",
    "\n",
    "Use the space below to examine each table."
   ]
  },
  {
   "cell_type": "code",
   "execution_count": 7,
   "metadata": {
    "collapsed": true,
    "pycharm": {
     "name": "#%%\n"
    }
   },
   "outputs": [
    {
     "data": {
      "text/plain": "   index first_name last_name                          email  gender  \\\n0      0      Karen   Manning        Karen.Manning@gmail.com  female   \n1      1    Annette     Boone               AB9982@gmail.com  female   \n2      2   Salvador   Merritt  SalvadorMerritt12@outlook.com    male   \n3      3     Martha   Maxwell       Martha.Maxwell@gmail.com  female   \n4      4      Andre     Mayer         AndreMayer90@gmail.com    male   \n\n  visit_date  \n0     5-1-17  \n1     5-1-17  \n2     5-1-17  \n3     5-1-17  \n4     5-1-17  ",
      "text/html": "<div>\n<style scoped>\n    .dataframe tbody tr th:only-of-type {\n        vertical-align: middle;\n    }\n\n    .dataframe tbody tr th {\n        vertical-align: top;\n    }\n\n    .dataframe thead th {\n        text-align: right;\n    }\n</style>\n<table border=\"1\" class=\"dataframe\">\n  <thead>\n    <tr style=\"text-align: right;\">\n      <th></th>\n      <th>index</th>\n      <th>first_name</th>\n      <th>last_name</th>\n      <th>email</th>\n      <th>gender</th>\n      <th>visit_date</th>\n    </tr>\n  </thead>\n  <tbody>\n    <tr>\n      <th>0</th>\n      <td>0</td>\n      <td>Karen</td>\n      <td>Manning</td>\n      <td>Karen.Manning@gmail.com</td>\n      <td>female</td>\n      <td>5-1-17</td>\n    </tr>\n    <tr>\n      <th>1</th>\n      <td>1</td>\n      <td>Annette</td>\n      <td>Boone</td>\n      <td>AB9982@gmail.com</td>\n      <td>female</td>\n      <td>5-1-17</td>\n    </tr>\n    <tr>\n      <th>2</th>\n      <td>2</td>\n      <td>Salvador</td>\n      <td>Merritt</td>\n      <td>SalvadorMerritt12@outlook.com</td>\n      <td>male</td>\n      <td>5-1-17</td>\n    </tr>\n    <tr>\n      <th>3</th>\n      <td>3</td>\n      <td>Martha</td>\n      <td>Maxwell</td>\n      <td>Martha.Maxwell@gmail.com</td>\n      <td>female</td>\n      <td>5-1-17</td>\n    </tr>\n    <tr>\n      <th>4</th>\n      <td>4</td>\n      <td>Andre</td>\n      <td>Mayer</td>\n      <td>AndreMayer90@gmail.com</td>\n      <td>male</td>\n      <td>5-1-17</td>\n    </tr>\n  </tbody>\n</table>\n</div>"
     },
     "execution_count": 7,
     "metadata": {},
     "output_type": "execute_result"
    }
   ],
   "source": [
    "sql_query(\"\"\" SELECT * FROM visits LIMIT 5\"\"\")"
   ]
  },
  {
   "cell_type": "code",
   "execution_count": 8,
   "metadata": {
    "collapsed": true,
    "pycharm": {
     "name": "#%%\n"
    }
   },
   "outputs": [
    {
     "data": {
      "text/plain": "   index first_name last_name                   email  gender  \\\n0      0        Kim    Walter   KimWalter58@gmail.com  female   \n1      1        Tom   Webster        TW3857@gmail.com    male   \n2      2     Marcus     Bauer  Marcus.Bauer@gmail.com    male   \n3      3    Roberta      Best      RB6305@hotmail.com  female   \n4      4     Carrie   Francis      CF1896@hotmail.com  female   \n\n  fitness_test_date  \n0        2017-07-03  \n1        2017-07-02  \n2        2017-07-01  \n3        2017-07-02  \n4        2017-07-05  ",
      "text/html": "<div>\n<style scoped>\n    .dataframe tbody tr th:only-of-type {\n        vertical-align: middle;\n    }\n\n    .dataframe tbody tr th {\n        vertical-align: top;\n    }\n\n    .dataframe thead th {\n        text-align: right;\n    }\n</style>\n<table border=\"1\" class=\"dataframe\">\n  <thead>\n    <tr style=\"text-align: right;\">\n      <th></th>\n      <th>index</th>\n      <th>first_name</th>\n      <th>last_name</th>\n      <th>email</th>\n      <th>gender</th>\n      <th>fitness_test_date</th>\n    </tr>\n  </thead>\n  <tbody>\n    <tr>\n      <th>0</th>\n      <td>0</td>\n      <td>Kim</td>\n      <td>Walter</td>\n      <td>KimWalter58@gmail.com</td>\n      <td>female</td>\n      <td>2017-07-03</td>\n    </tr>\n    <tr>\n      <th>1</th>\n      <td>1</td>\n      <td>Tom</td>\n      <td>Webster</td>\n      <td>TW3857@gmail.com</td>\n      <td>male</td>\n      <td>2017-07-02</td>\n    </tr>\n    <tr>\n      <th>2</th>\n      <td>2</td>\n      <td>Marcus</td>\n      <td>Bauer</td>\n      <td>Marcus.Bauer@gmail.com</td>\n      <td>male</td>\n      <td>2017-07-01</td>\n    </tr>\n    <tr>\n      <th>3</th>\n      <td>3</td>\n      <td>Roberta</td>\n      <td>Best</td>\n      <td>RB6305@hotmail.com</td>\n      <td>female</td>\n      <td>2017-07-02</td>\n    </tr>\n    <tr>\n      <th>4</th>\n      <td>4</td>\n      <td>Carrie</td>\n      <td>Francis</td>\n      <td>CF1896@hotmail.com</td>\n      <td>female</td>\n      <td>2017-07-05</td>\n    </tr>\n  </tbody>\n</table>\n</div>"
     },
     "execution_count": 8,
     "metadata": {},
     "output_type": "execute_result"
    }
   ],
   "source": [
    "sql_query(\"\"\" SELECT *  FROM fitness_tests LIMIT 5\"\"\")"
   ]
  },
  {
   "cell_type": "code",
   "execution_count": 9,
   "metadata": {
    "collapsed": true,
    "pycharm": {
     "name": "#%%\n"
    }
   },
   "outputs": [
    {
     "data": {
      "text/plain": "   index first_name last_name                    email  gender  \\\n0      0        Roy    Abbott    RoyAbbott32@gmail.com    male   \n1      1      Agnes   Acevedo  AgnesAcevedo1@gmail.com  female   \n2      2    Roberta   Acevedo         RA8063@gmail.com  female   \n3      3     Darren    Acosta  DAcosta1996@hotmail.com    male   \n4      4     Vernon    Acosta    VAcosta1975@gmail.com    male   \n\n  application_date  \n0       2017-08-12  \n1       2017-09-29  \n2       2017-09-15  \n3       2017-07-26  \n4       2017-07-14  ",
      "text/html": "<div>\n<style scoped>\n    .dataframe tbody tr th:only-of-type {\n        vertical-align: middle;\n    }\n\n    .dataframe tbody tr th {\n        vertical-align: top;\n    }\n\n    .dataframe thead th {\n        text-align: right;\n    }\n</style>\n<table border=\"1\" class=\"dataframe\">\n  <thead>\n    <tr style=\"text-align: right;\">\n      <th></th>\n      <th>index</th>\n      <th>first_name</th>\n      <th>last_name</th>\n      <th>email</th>\n      <th>gender</th>\n      <th>application_date</th>\n    </tr>\n  </thead>\n  <tbody>\n    <tr>\n      <th>0</th>\n      <td>0</td>\n      <td>Roy</td>\n      <td>Abbott</td>\n      <td>RoyAbbott32@gmail.com</td>\n      <td>male</td>\n      <td>2017-08-12</td>\n    </tr>\n    <tr>\n      <th>1</th>\n      <td>1</td>\n      <td>Agnes</td>\n      <td>Acevedo</td>\n      <td>AgnesAcevedo1@gmail.com</td>\n      <td>female</td>\n      <td>2017-09-29</td>\n    </tr>\n    <tr>\n      <th>2</th>\n      <td>2</td>\n      <td>Roberta</td>\n      <td>Acevedo</td>\n      <td>RA8063@gmail.com</td>\n      <td>female</td>\n      <td>2017-09-15</td>\n    </tr>\n    <tr>\n      <th>3</th>\n      <td>3</td>\n      <td>Darren</td>\n      <td>Acosta</td>\n      <td>DAcosta1996@hotmail.com</td>\n      <td>male</td>\n      <td>2017-07-26</td>\n    </tr>\n    <tr>\n      <th>4</th>\n      <td>4</td>\n      <td>Vernon</td>\n      <td>Acosta</td>\n      <td>VAcosta1975@gmail.com</td>\n      <td>male</td>\n      <td>2017-07-14</td>\n    </tr>\n  </tbody>\n</table>\n</div>"
     },
     "execution_count": 9,
     "metadata": {},
     "output_type": "execute_result"
    }
   ],
   "source": [
    "sql_query(\"\"\" SELECT * FROM applications LIMIT 5\"\"\")"
   ]
  },
  {
   "cell_type": "code",
   "execution_count": 11,
   "metadata": {
    "collapsed": true,
    "pycharm": {
     "name": "#%%\n"
    }
   },
   "outputs": [
    {
     "data": {
      "text/plain": "   index first_name last_name                    email  gender purchase_date\n0      0        Roy    Abbott    RoyAbbott32@gmail.com    male    2017-08-18\n1      1    Roberta   Acevedo         RA8063@gmail.com  female    2017-09-16\n2      2     Vernon    Acosta    VAcosta1975@gmail.com    male    2017-07-20\n3      3     Darren    Acosta  DAcosta1996@hotmail.com    male    2017-07-27\n4      4       Dawn    Adkins    Dawn.Adkins@gmail.com  female    2017-08-24",
      "text/html": "<div>\n<style scoped>\n    .dataframe tbody tr th:only-of-type {\n        vertical-align: middle;\n    }\n\n    .dataframe tbody tr th {\n        vertical-align: top;\n    }\n\n    .dataframe thead th {\n        text-align: right;\n    }\n</style>\n<table border=\"1\" class=\"dataframe\">\n  <thead>\n    <tr style=\"text-align: right;\">\n      <th></th>\n      <th>index</th>\n      <th>first_name</th>\n      <th>last_name</th>\n      <th>email</th>\n      <th>gender</th>\n      <th>purchase_date</th>\n    </tr>\n  </thead>\n  <tbody>\n    <tr>\n      <th>0</th>\n      <td>0</td>\n      <td>Roy</td>\n      <td>Abbott</td>\n      <td>RoyAbbott32@gmail.com</td>\n      <td>male</td>\n      <td>2017-08-18</td>\n    </tr>\n    <tr>\n      <th>1</th>\n      <td>1</td>\n      <td>Roberta</td>\n      <td>Acevedo</td>\n      <td>RA8063@gmail.com</td>\n      <td>female</td>\n      <td>2017-09-16</td>\n    </tr>\n    <tr>\n      <th>2</th>\n      <td>2</td>\n      <td>Vernon</td>\n      <td>Acosta</td>\n      <td>VAcosta1975@gmail.com</td>\n      <td>male</td>\n      <td>2017-07-20</td>\n    </tr>\n    <tr>\n      <th>3</th>\n      <td>3</td>\n      <td>Darren</td>\n      <td>Acosta</td>\n      <td>DAcosta1996@hotmail.com</td>\n      <td>male</td>\n      <td>2017-07-27</td>\n    </tr>\n    <tr>\n      <th>4</th>\n      <td>4</td>\n      <td>Dawn</td>\n      <td>Adkins</td>\n      <td>Dawn.Adkins@gmail.com</td>\n      <td>female</td>\n      <td>2017-08-24</td>\n    </tr>\n  </tbody>\n</table>\n</div>"
     },
     "execution_count": 11,
     "metadata": {},
     "output_type": "execute_result"
    }
   ],
   "source": [
    "sql_query(\"\"\" SELECT * FROM purchases LIMIT 5\"\"\")"
   ]
  },
  {
   "cell_type": "markdown",
   "metadata": {
    "pycharm": {
     "name": "#%% md\n"
    }
   },
   "source": [
    "We'd like to download a giant DataFrame containing all of this data.  You'll need to write a query that does the following things:\n",
    "\n",
    "1. Not all visits in  `visits` occurred during the A/B test.  You'll only want to pull data where `visit_date` is on or after `7-1-17`.\n",
    "\n",
    "2. You'll want to perform a series of `LEFT JOIN` commands to combine the four tables that we care about.  You'll need to perform the joins on `first_name`, `last_name`, and `email`.  Pull the following columns:\n",
    "\n",
    "\n",
    "- `visits.first_name`\n",
    "- `visits.last_name`\n",
    "- `visits.gender`\n",
    "- `visits.email`\n",
    "- `visits.visit_date`\n",
    "- `fitness_tests.fitness_test_date`\n",
    "- `applications.application_date`\n",
    "- `purchases.purchase_date`\n",
    "\n",
    "Save the result of this query to a variable called `df`.\n",
    "\n",
    "Hint: your result should have 5004 rows.  Does it?"
   ]
  },
  {
   "cell_type": "code",
   "execution_count": 13,
   "metadata": {
    "pycharm": {
     "name": "#%%\n"
    }
   },
   "outputs": [
    {
     "data": {
      "text/plain": "     first_name last_name visit_date fitness_test_date application_date  \\\n0           Kim    Walter     7-1-17        2017-07-03             None   \n1           Tom   Webster     7-1-17        2017-07-02             None   \n2        Edward     Bowen     7-1-17              None       2017-07-04   \n3        Marcus     Bauer     7-1-17        2017-07-01       2017-07-03   \n4       Roberta      Best     7-1-17        2017-07-02             None   \n...         ...       ...        ...               ...              ...   \n4999     Rachel   Hensley     9-9-17              None             None   \n5000       Leon    Harmon     9-9-17        2017-09-15             None   \n5001       Andy     Pratt     9-9-17        2017-09-15             None   \n5002      Ruben   Nielsen     9-9-17              None       2017-09-13   \n5003    Charles    Carver     9-9-17        2017-09-12             None   \n\n     purchase_date  \n0             None  \n1             None  \n2       2017-07-04  \n3       2017-07-05  \n4             None  \n...            ...  \n4999          None  \n5000          None  \n5001          None  \n5002          None  \n5003          None  \n\n[5004 rows x 6 columns]",
      "text/html": "<div>\n<style scoped>\n    .dataframe tbody tr th:only-of-type {\n        vertical-align: middle;\n    }\n\n    .dataframe tbody tr th {\n        vertical-align: top;\n    }\n\n    .dataframe thead th {\n        text-align: right;\n    }\n</style>\n<table border=\"1\" class=\"dataframe\">\n  <thead>\n    <tr style=\"text-align: right;\">\n      <th></th>\n      <th>first_name</th>\n      <th>last_name</th>\n      <th>visit_date</th>\n      <th>fitness_test_date</th>\n      <th>application_date</th>\n      <th>purchase_date</th>\n    </tr>\n  </thead>\n  <tbody>\n    <tr>\n      <th>0</th>\n      <td>Kim</td>\n      <td>Walter</td>\n      <td>7-1-17</td>\n      <td>2017-07-03</td>\n      <td>None</td>\n      <td>None</td>\n    </tr>\n    <tr>\n      <th>1</th>\n      <td>Tom</td>\n      <td>Webster</td>\n      <td>7-1-17</td>\n      <td>2017-07-02</td>\n      <td>None</td>\n      <td>None</td>\n    </tr>\n    <tr>\n      <th>2</th>\n      <td>Edward</td>\n      <td>Bowen</td>\n      <td>7-1-17</td>\n      <td>None</td>\n      <td>2017-07-04</td>\n      <td>2017-07-04</td>\n    </tr>\n    <tr>\n      <th>3</th>\n      <td>Marcus</td>\n      <td>Bauer</td>\n      <td>7-1-17</td>\n      <td>2017-07-01</td>\n      <td>2017-07-03</td>\n      <td>2017-07-05</td>\n    </tr>\n    <tr>\n      <th>4</th>\n      <td>Roberta</td>\n      <td>Best</td>\n      <td>7-1-17</td>\n      <td>2017-07-02</td>\n      <td>None</td>\n      <td>None</td>\n    </tr>\n    <tr>\n      <th>...</th>\n      <td>...</td>\n      <td>...</td>\n      <td>...</td>\n      <td>...</td>\n      <td>...</td>\n      <td>...</td>\n    </tr>\n    <tr>\n      <th>4999</th>\n      <td>Rachel</td>\n      <td>Hensley</td>\n      <td>9-9-17</td>\n      <td>None</td>\n      <td>None</td>\n      <td>None</td>\n    </tr>\n    <tr>\n      <th>5000</th>\n      <td>Leon</td>\n      <td>Harmon</td>\n      <td>9-9-17</td>\n      <td>2017-09-15</td>\n      <td>None</td>\n      <td>None</td>\n    </tr>\n    <tr>\n      <th>5001</th>\n      <td>Andy</td>\n      <td>Pratt</td>\n      <td>9-9-17</td>\n      <td>2017-09-15</td>\n      <td>None</td>\n      <td>None</td>\n    </tr>\n    <tr>\n      <th>5002</th>\n      <td>Ruben</td>\n      <td>Nielsen</td>\n      <td>9-9-17</td>\n      <td>None</td>\n      <td>2017-09-13</td>\n      <td>None</td>\n    </tr>\n    <tr>\n      <th>5003</th>\n      <td>Charles</td>\n      <td>Carver</td>\n      <td>9-9-17</td>\n      <td>2017-09-12</td>\n      <td>None</td>\n      <td>None</td>\n    </tr>\n  </tbody>\n</table>\n<p>5004 rows × 6 columns</p>\n</div>"
     },
     "execution_count": 13,
     "metadata": {},
     "output_type": "execute_result"
    }
   ],
   "source": [
    "df = sql_query('''\n",
    "SELECT visits.first_name,\n",
    "       visits.last_name,\n",
    "       visits.visit_date,\n",
    "       fitness_tests.fitness_test_date,\n",
    "       applications.application_date,\n",
    "       purchases.purchase_date\n",
    "FROM visits\n",
    "LEFT JOIN fitness_tests\n",
    "    ON fitness_tests.first_name = visits.first_name\n",
    "    AND fitness_tests.last_name = visits.last_name\n",
    "    AND fitness_tests.email = visits.email\n",
    "LEFT JOIN applications\n",
    "    ON applications.first_name = visits.first_name\n",
    "    AND applications.last_name = visits.last_name\n",
    "    AND applications.email = visits.email\n",
    "LEFT JOIN purchases\n",
    "    ON purchases.first_name = visits.first_name\n",
    "    AND purchases.last_name = visits.last_name\n",
    "    AND purchases.email = visits.email\n",
    "WHERE visits.visit_date >= '7-1-17'\n",
    "''')\n",
    "df"
   ]
  },
  {
   "cell_type": "markdown",
   "metadata": {
    "pycharm": {
     "name": "#%% md\n"
    }
   },
   "source": [
    "## Step 3: Investigate the A and B groups"
   ]
  },
  {
   "cell_type": "markdown",
   "metadata": {
    "pycharm": {
     "name": "#%% md\n"
    }
   },
   "source": [
    "We have some data to work with! Import the following modules so that we can start doing analysis:\n",
    "- `import pandas as pd`\n",
    "- `from matplotlib import pyplot as plt`"
   ]
  },
  {
   "cell_type": "code",
   "execution_count": 14,
   "metadata": {
    "collapsed": true,
    "pycharm": {
     "name": "#%%\n"
    }
   },
   "outputs": [],
   "source": [
    "import pandas as pd\n",
    "from matplotlib import pyplot as plt\n"
   ]
  },
  {
   "cell_type": "markdown",
   "metadata": {
    "pycharm": {
     "name": "#%% md\n"
    }
   },
   "source": [
    "We're going to add some columns to `df` to help us with our analysis.\n",
    "\n",
    "Start by adding a column called `ab_test_group`.  It should be `A` if `fitness_test_date` is not `None`, and `B` if `fitness_test_date` is `None`."
   ]
  },
  {
   "cell_type": "code",
   "execution_count": 17,
   "metadata": {
    "pycharm": {
     "name": "#%%\n"
    }
   },
   "outputs": [
    {
     "data": {
      "text/plain": "  first_name last_name visit_date fitness_test_date application_date  \\\n0        Kim    Walter     7-1-17        2017-07-03             None   \n1        Tom   Webster     7-1-17        2017-07-02             None   \n2     Edward     Bowen     7-1-17              None       2017-07-04   \n3     Marcus     Bauer     7-1-17        2017-07-01       2017-07-03   \n4    Roberta      Best     7-1-17        2017-07-02             None   \n\n  purchase_date ab_test_group  \n0          None             A  \n1          None             A  \n2    2017-07-04             B  \n3    2017-07-05             A  \n4          None             A  ",
      "text/html": "<div>\n<style scoped>\n    .dataframe tbody tr th:only-of-type {\n        vertical-align: middle;\n    }\n\n    .dataframe tbody tr th {\n        vertical-align: top;\n    }\n\n    .dataframe thead th {\n        text-align: right;\n    }\n</style>\n<table border=\"1\" class=\"dataframe\">\n  <thead>\n    <tr style=\"text-align: right;\">\n      <th></th>\n      <th>first_name</th>\n      <th>last_name</th>\n      <th>visit_date</th>\n      <th>fitness_test_date</th>\n      <th>application_date</th>\n      <th>purchase_date</th>\n      <th>ab_test_group</th>\n    </tr>\n  </thead>\n  <tbody>\n    <tr>\n      <th>0</th>\n      <td>Kim</td>\n      <td>Walter</td>\n      <td>7-1-17</td>\n      <td>2017-07-03</td>\n      <td>None</td>\n      <td>None</td>\n      <td>A</td>\n    </tr>\n    <tr>\n      <th>1</th>\n      <td>Tom</td>\n      <td>Webster</td>\n      <td>7-1-17</td>\n      <td>2017-07-02</td>\n      <td>None</td>\n      <td>None</td>\n      <td>A</td>\n    </tr>\n    <tr>\n      <th>2</th>\n      <td>Edward</td>\n      <td>Bowen</td>\n      <td>7-1-17</td>\n      <td>None</td>\n      <td>2017-07-04</td>\n      <td>2017-07-04</td>\n      <td>B</td>\n    </tr>\n    <tr>\n      <th>3</th>\n      <td>Marcus</td>\n      <td>Bauer</td>\n      <td>7-1-17</td>\n      <td>2017-07-01</td>\n      <td>2017-07-03</td>\n      <td>2017-07-05</td>\n      <td>A</td>\n    </tr>\n    <tr>\n      <th>4</th>\n      <td>Roberta</td>\n      <td>Best</td>\n      <td>7-1-17</td>\n      <td>2017-07-02</td>\n      <td>None</td>\n      <td>None</td>\n      <td>A</td>\n    </tr>\n  </tbody>\n</table>\n</div>"
     },
     "execution_count": 17,
     "metadata": {},
     "output_type": "execute_result"
    }
   ],
   "source": [
    "df[\"ab_test_group\"] = df.apply(lambda row: \"B\" if pd.isnull(row[\"fitness_test_date\"]) else \"A\", axis=1)\n",
    "df.head()"
   ]
  },
  {
   "cell_type": "markdown",
   "metadata": {
    "pycharm": {
     "name": "#%% md\n"
    }
   },
   "source": [
    "Let's do a quick sanity check that Janet split her visitors such that about half are in A and half are in B.\n",
    "\n",
    "Start by using `groupby` to count how many users are in each `ab_test_group`.  Save the results to `ab_counts`."
   ]
  },
  {
   "cell_type": "code",
   "execution_count": 22,
   "metadata": {
    "pycharm": {
     "name": "#%%\n"
    }
   },
   "outputs": [
    {
     "data": {
      "text/plain": "  ab_test_group  first_name\n0             A        2504\n1             B        2500",
      "text/html": "<div>\n<style scoped>\n    .dataframe tbody tr th:only-of-type {\n        vertical-align: middle;\n    }\n\n    .dataframe tbody tr th {\n        vertical-align: top;\n    }\n\n    .dataframe thead th {\n        text-align: right;\n    }\n</style>\n<table border=\"1\" class=\"dataframe\">\n  <thead>\n    <tr style=\"text-align: right;\">\n      <th></th>\n      <th>ab_test_group</th>\n      <th>first_name</th>\n    </tr>\n  </thead>\n  <tbody>\n    <tr>\n      <th>0</th>\n      <td>A</td>\n      <td>2504</td>\n    </tr>\n    <tr>\n      <th>1</th>\n      <td>B</td>\n      <td>2500</td>\n    </tr>\n  </tbody>\n</table>\n</div>"
     },
     "execution_count": 22,
     "metadata": {},
     "output_type": "execute_result"
    }
   ],
   "source": [
    "ab_counts = df.groupby(\"ab_test_group\").first_name.count().reset_index()\n",
    "ab_counts"
   ]
  },
  {
   "cell_type": "markdown",
   "metadata": {
    "pycharm": {
     "name": "#%% md\n"
    }
   },
   "source": [
    "We'll want to include this information in our presentation.  Let's create a pie cart using `plt.pie`.  Make sure to include:\n",
    "- Use `plt.axis('equal')` so that your pie chart looks nice\n",
    "- Add a legend labeling `A` and `B`\n",
    "- Use `autopct` to label the percentage of each group\n",
    "- Save your figure as `ab_test_pie_chart.png`"
   ]
  },
  {
   "cell_type": "code",
   "execution_count": 51,
   "metadata": {
    "pycharm": {
     "name": "#%%\n"
    }
   },
   "outputs": [
    {
     "data": {
      "text/plain": "<Figure size 432x288 with 1 Axes>",
      "image/png": "[encoded data removed]"
     },
     "metadata": {},
     "output_type": "display_data"
    },
    {
     "data": {
      "text/plain": "<Figure size 432x288 with 0 Axes>"
     },
     "metadata": {},
     "output_type": "display_data"
    }
   ],
   "source": [
    "plt.pie(ab_counts[\"first_name\"], labels=['A', 'B'], autopct='%0.2f%%')\n",
    "plt.axis('equal')\n",
    "plt.show()\n",
    "plt.savefig('ab_test_pie_chart.png')"
   ]
  },
  {
   "cell_type": "markdown",
   "metadata": {
    "pycharm": {
     "name": "#%% md\n"
    }
   },
   "source": [
    "## Step 4: Who picks up an application?"
   ]
  },
  {
   "cell_type": "markdown",
   "metadata": {
    "pycharm": {
     "name": "#%% md\n"
    }
   },
   "source": [
    "Recall that the sign-up process for MuscleHub has several steps:\n",
    "1. Take a fitness test with a personal trainer (only Group A)\n",
    "2. Fill out an application for the gym\n",
    "3. Send in their payment for their first month's membership\n",
    "\n",
    "Let's examine how many people make it to Step 2, filling out an application.\n",
    "\n",
    "Start by creating a new column in `df` called `is_application` which is `Application` if `application_date` is not `None` and `No Application`, otherwise."
   ]
  },
  {
   "cell_type": "code",
   "execution_count": 26,
   "metadata": {
    "collapsed": true,
    "pycharm": {
     "name": "#%%\n"
    }
   },
   "outputs": [
    {
     "data": {
      "text/plain": "     first_name last_name visit_date fitness_test_date application_date  \\\n0           Kim    Walter     7-1-17        2017-07-03             None   \n1           Tom   Webster     7-1-17        2017-07-02             None   \n2        Edward     Bowen     7-1-17              None       2017-07-04   \n3        Marcus     Bauer     7-1-17        2017-07-01       2017-07-03   \n4       Roberta      Best     7-1-17        2017-07-02             None   \n...         ...       ...        ...               ...              ...   \n4999     Rachel   Hensley     9-9-17              None             None   \n5000       Leon    Harmon     9-9-17        2017-09-15             None   \n5001       Andy     Pratt     9-9-17        2017-09-15             None   \n5002      Ruben   Nielsen     9-9-17              None       2017-09-13   \n5003    Charles    Carver     9-9-17        2017-09-12             None   \n\n     purchase_date ab_test_group iss_application  is_application  \n0             None             A  No Application  No Application  \n1             None             A  No Application  No Application  \n2       2017-07-04             B     Application     Application  \n3       2017-07-05             A     Application     Application  \n4             None             A  No Application  No Application  \n...            ...           ...             ...             ...  \n4999          None             B  No Application  No Application  \n5000          None             A  No Application  No Application  \n5001          None             A  No Application  No Application  \n5002          None             B     Application     Application  \n5003          None             A  No Application  No Application  \n\n[5004 rows x 9 columns]",
      "text/html": "<div>\n<style scoped>\n    .dataframe tbody tr th:only-of-type {\n        vertical-align: middle;\n    }\n\n    .dataframe tbody tr th {\n        vertical-align: top;\n    }\n\n    .dataframe thead th {\n        text-align: right;\n    }\n</style>\n<table border=\"1\" class=\"dataframe\">\n  <thead>\n    <tr style=\"text-align: right;\">\n      <th></th>\n      <th>first_name</th>\n      <th>last_name</th>\n      <th>visit_date</th>\n      <th>fitness_test_date</th>\n      <th>application_date</th>\n      <th>purchase_date</th>\n      <th>ab_test_group</th>\n      <th>iss_application</th>\n      <th>is_application</th>\n    </tr>\n  </thead>\n  <tbody>\n    <tr>\n      <th>0</th>\n      <td>Kim</td>\n      <td>Walter</td>\n      <td>7-1-17</td>\n      <td>2017-07-03</td>\n      <td>None</td>\n      <td>None</td>\n      <td>A</td>\n      <td>No Application</td>\n      <td>No Application</td>\n    </tr>\n    <tr>\n      <th>1</th>\n      <td>Tom</td>\n      <td>Webster</td>\n      <td>7-1-17</td>\n      <td>2017-07-02</td>\n      <td>None</td>\n      <td>None</td>\n      <td>A</td>\n      <td>No Application</td>\n      <td>No Application</td>\n    </tr>\n    <tr>\n      <th>2</th>\n      <td>Edward</td>\n      <td>Bowen</td>\n      <td>7-1-17</td>\n      <td>None</td>\n      <td>2017-07-04</td>\n      <td>2017-07-04</td>\n      <td>B</td>\n      <td>Application</td>\n      <td>Application</td>\n    </tr>\n    <tr>\n      <th>3</th>\n      <td>Marcus</td>\n      <td>Bauer</td>\n      <td>7-1-17</td>\n      <td>2017-07-01</td>\n      <td>2017-07-03</td>\n      <td>2017-07-05</td>\n      <td>A</td>\n      <td>Application</td>\n      <td>Application</td>\n    </tr>\n    <tr>\n      <th>4</th>\n      <td>Roberta</td>\n      <td>Best</td>\n      <td>7-1-17</td>\n      <td>2017-07-02</td>\n      <td>None</td>\n      <td>None</td>\n      <td>A</td>\n      <td>No Application</td>\n      <td>No Application</td>\n    </tr>\n    <tr>\n      <th>...</th>\n      <td>...</td>\n      <td>...</td>\n      <td>...</td>\n      <td>...</td>\n      <td>...</td>\n      <td>...</td>\n      <td>...</td>\n      <td>...</td>\n      <td>...</td>\n    </tr>\n    <tr>\n      <th>4999</th>\n      <td>Rachel</td>\n      <td>Hensley</td>\n      <td>9-9-17</td>\n      <td>None</td>\n      <td>None</td>\n      <td>None</td>\n      <td>B</td>\n      <td>No Application</td>\n      <td>No Application</td>\n    </tr>\n    <tr>\n      <th>5000</th>\n      <td>Leon</td>\n      <td>Harmon</td>\n      <td>9-9-17</td>\n      <td>2017-09-15</td>\n      <td>None</td>\n      <td>None</td>\n      <td>A</td>\n      <td>No Application</td>\n      <td>No Application</td>\n    </tr>\n    <tr>\n      <th>5001</th>\n      <td>Andy</td>\n      <td>Pratt</td>\n      <td>9-9-17</td>\n      <td>2017-09-15</td>\n      <td>None</td>\n      <td>None</td>\n      <td>A</td>\n      <td>No Application</td>\n      <td>No Application</td>\n    </tr>\n    <tr>\n      <th>5002</th>\n      <td>Ruben</td>\n      <td>Nielsen</td>\n      <td>9-9-17</td>\n      <td>None</td>\n      <td>2017-09-13</td>\n      <td>None</td>\n      <td>B</td>\n      <td>Application</td>\n      <td>Application</td>\n    </tr>\n    <tr>\n      <th>5003</th>\n      <td>Charles</td>\n      <td>Carver</td>\n      <td>9-9-17</td>\n      <td>2017-09-12</td>\n      <td>None</td>\n      <td>None</td>\n      <td>A</td>\n      <td>No Application</td>\n      <td>No Application</td>\n    </tr>\n  </tbody>\n</table>\n<p>5004 rows × 9 columns</p>\n</div>"
     },
     "execution_count": 26,
     "metadata": {},
     "output_type": "execute_result"
    }
   ],
   "source": [
    "df[\"is_application\"] = df.apply(lambda row: \"No Application\" if pd.isnull(row[\"application_date\"]) else \"Application\", axis=1)\n",
    "df"
   ]
  },
  {
   "cell_type": "markdown",
   "metadata": {
    "pycharm": {
     "name": "#%% md\n"
    }
   },
   "source": [
    "Now, using `groupby`, count how many people from Group A and Group B either do or don't pick up an application.  You'll want to group by `ab_test_group` and `is_application`.  Save this new DataFrame as `app_counts`"
   ]
  },
  {
   "cell_type": "code",
   "execution_count": 27,
   "metadata": {
    "pycharm": {
     "name": "#%%\n"
    }
   },
   "outputs": [
    {
     "data": {
      "text/plain": "  ab_test_group  is_application  first_name\n0             A     Application         250\n1             A  No Application        2254\n2             B     Application         325\n3             B  No Application        2175",
      "text/html": "<div>\n<style scoped>\n    .dataframe tbody tr th:only-of-type {\n        vertical-align: middle;\n    }\n\n    .dataframe tbody tr th {\n        vertical-align: top;\n    }\n\n    .dataframe thead th {\n        text-align: right;\n    }\n</style>\n<table border=\"1\" class=\"dataframe\">\n  <thead>\n    <tr style=\"text-align: right;\">\n      <th></th>\n      <th>ab_test_group</th>\n      <th>is_application</th>\n      <th>first_name</th>\n    </tr>\n  </thead>\n  <tbody>\n    <tr>\n      <th>0</th>\n      <td>A</td>\n      <td>Application</td>\n      <td>250</td>\n    </tr>\n    <tr>\n      <th>1</th>\n      <td>A</td>\n      <td>No Application</td>\n      <td>2254</td>\n    </tr>\n    <tr>\n      <th>2</th>\n      <td>B</td>\n      <td>Application</td>\n      <td>325</td>\n    </tr>\n    <tr>\n      <th>3</th>\n      <td>B</td>\n      <td>No Application</td>\n      <td>2175</td>\n    </tr>\n  </tbody>\n</table>\n</div>"
     },
     "execution_count": 27,
     "metadata": {},
     "output_type": "execute_result"
    }
   ],
   "source": [
    "app_counts = df.groupby([\"ab_test_group\", \"is_application\"]).first_name.count().reset_index()\n",
    "app_counts"
   ]
  },
  {
   "cell_type": "markdown",
   "metadata": {
    "pycharm": {
     "name": "#%% md\n"
    }
   },
   "source": [
    "We're going to want to calculate the percent of people in each group who complete an application.  It's going to be much easier to do this if we pivot `app_counts` such that:\n",
    "- The `index` is `ab_test_group`\n",
    "- The `columns` are `is_application`\n",
    "Perform this pivot and save it to the variable `app_pivot`.  Remember to call `reset_index()` at the end of the pivot!"
   ]
  },
  {
   "cell_type": "code",
   "execution_count": 28,
   "metadata": {
    "pycharm": {
     "name": "#%%\n"
    }
   },
   "outputs": [
    {
     "data": {
      "text/plain": "is_application  Application  No Application\nab_test_group                              \nA                       250            2254\nB                       325            2175",
      "text/html": "<div>\n<style scoped>\n    .dataframe tbody tr th:only-of-type {\n        vertical-align: middle;\n    }\n\n    .dataframe tbody tr th {\n        vertical-align: top;\n    }\n\n    .dataframe thead th {\n        text-align: right;\n    }\n</style>\n<table border=\"1\" class=\"dataframe\">\n  <thead>\n    <tr style=\"text-align: right;\">\n      <th>is_application</th>\n      <th>Application</th>\n      <th>No Application</th>\n    </tr>\n    <tr>\n      <th>ab_test_group</th>\n      <th></th>\n      <th></th>\n    </tr>\n  </thead>\n  <tbody>\n    <tr>\n      <th>A</th>\n      <td>250</td>\n      <td>2254</td>\n    </tr>\n    <tr>\n      <th>B</th>\n      <td>325</td>\n      <td>2175</td>\n    </tr>\n  </tbody>\n</table>\n</div>"
     },
     "execution_count": 28,
     "metadata": {},
     "output_type": "execute_result"
    }
   ],
   "source": [
    "app_pivot = app_counts.pivot(columns = \"is_application\", index = \"ab_test_group\", values=\"first_name\")\n",
    "app_pivot"
   ]
  },
  {
   "cell_type": "markdown",
   "metadata": {
    "pycharm": {
     "name": "#%% md\n"
    }
   },
   "source": [
    "Define a new column called `Total`, which is the sum of `Application` and `No Application`."
   ]
  },
  {
   "cell_type": "code",
   "execution_count": 29,
   "metadata": {
    "collapsed": true,
    "pycharm": {
     "name": "#%%\n"
    }
   },
   "outputs": [],
   "source": [
    "app_pivot[\"Total\"] = app_pivot.apply(lambda row: row[\"Application\"] + row[\"No Application\"], axis=1)"
   ]
  },
  {
   "cell_type": "markdown",
   "metadata": {
    "pycharm": {
     "name": "#%% md\n"
    }
   },
   "source": [
    "Calculate another column called `Percent with Application`, which is equal to `Application` divided by `Total`."
   ]
  },
  {
   "cell_type": "code",
   "execution_count": 32,
   "metadata": {
    "pycharm": {
     "name": "#%%\n"
    }
   },
   "outputs": [
    {
     "data": {
      "text/plain": "is_application  Application  No Application  Total  Percent with Application\nab_test_group                                                               \nA                       250            2254   2504                  9.984026\nB                       325            2175   2500                 13.000000",
      "text/html": "<div>\n<style scoped>\n    .dataframe tbody tr th:only-of-type {\n        vertical-align: middle;\n    }\n\n    .dataframe tbody tr th {\n        vertical-align: top;\n    }\n\n    .dataframe thead th {\n        text-align: right;\n    }\n</style>\n<table border=\"1\" class=\"dataframe\">\n  <thead>\n    <tr style=\"text-align: right;\">\n      <th>is_application</th>\n      <th>Application</th>\n      <th>No Application</th>\n      <th>Total</th>\n      <th>Percent with Application</th>\n    </tr>\n    <tr>\n      <th>ab_test_group</th>\n      <th></th>\n      <th></th>\n      <th></th>\n      <th></th>\n    </tr>\n  </thead>\n  <tbody>\n    <tr>\n      <th>A</th>\n      <td>250</td>\n      <td>2254</td>\n      <td>2504</td>\n      <td>9.984026</td>\n    </tr>\n    <tr>\n      <th>B</th>\n      <td>325</td>\n      <td>2175</td>\n      <td>2500</td>\n      <td>13.000000</td>\n    </tr>\n  </tbody>\n</table>\n</div>"
     },
     "execution_count": 32,
     "metadata": {},
     "output_type": "execute_result"
    }
   ],
   "source": [
    "app_pivot[\"Percent with Application\"] = app_pivot.apply(lambda row: row[\"Application\"]/row[\"Total\"]*100,axis=1)\n",
    "app_pivot"
   ]
  },
  {
   "cell_type": "markdown",
   "metadata": {
    "pycharm": {
     "name": "#%% md\n"
    }
   },
   "source": [
    "It looks like more people from Group B turned in an application.  Why might that be?\n",
    "\n",
    "We need to know if this difference is statistically significant.\n",
    "\n",
    "Choose a hypothesis tests, import it from `scipy` and perform it.  Be sure to note the p-value.\n",
    "Is this result significant?"
   ]
  },
  {
   "cell_type": "code",
   "execution_count": 33,
   "metadata": {
    "pycharm": {
     "name": "#%%\n"
    }
   },
   "outputs": [
    {
     "name": "stdout",
     "output_type": "stream",
     "text": [
      "0.0009647827600722304\n"
     ]
    }
   ],
   "source": [
    "from scipy.stats import chi2_contingency\n",
    "\n",
    "X = [[250, 2254], [325,2175]]\n",
    "chi2, pval, dof, expected = chi2_contingency(X)\n",
    "print(pval)"
   ]
  },
  {
   "cell_type": "markdown",
   "metadata": {
    "pycharm": {
     "name": "#%% md\n"
    }
   },
   "source": [
    "## Step 4: Who purchases a membership?"
   ]
  },
  {
   "cell_type": "markdown",
   "metadata": {
    "pycharm": {
     "name": "#%% md\n"
    }
   },
   "source": [
    "Of those who picked up an application, how many purchased a membership?\n",
    "\n",
    "Let's begin by adding a column to `df` called `is_member` which is `Member` if `purchase_date` is not `None`, and `Not Member` otherwise."
   ]
  },
  {
   "cell_type": "code",
   "execution_count": 35,
   "metadata": {
    "collapsed": true,
    "pycharm": {
     "name": "#%%\n"
    }
   },
   "outputs": [
    {
     "data": {
      "text/plain": "     first_name last_name visit_date fitness_test_date application_date  \\\n0           Kim    Walter     7-1-17        2017-07-03             None   \n1           Tom   Webster     7-1-17        2017-07-02             None   \n2        Edward     Bowen     7-1-17              None       2017-07-04   \n3        Marcus     Bauer     7-1-17        2017-07-01       2017-07-03   \n4       Roberta      Best     7-1-17        2017-07-02             None   \n...         ...       ...        ...               ...              ...   \n4999     Rachel   Hensley     9-9-17              None             None   \n5000       Leon    Harmon     9-9-17        2017-09-15             None   \n5001       Andy     Pratt     9-9-17        2017-09-15             None   \n5002      Ruben   Nielsen     9-9-17              None       2017-09-13   \n5003    Charles    Carver     9-9-17        2017-09-12             None   \n\n     purchase_date ab_test_group iss_application  is_application   is_member  \n0             None             A  No Application  No Application  Not Member  \n1             None             A  No Application  No Application  Not Member  \n2       2017-07-04             B     Application     Application      Member  \n3       2017-07-05             A     Application     Application      Member  \n4             None             A  No Application  No Application  Not Member  \n...            ...           ...             ...             ...         ...  \n4999          None             B  No Application  No Application  Not Member  \n5000          None             A  No Application  No Application  Not Member  \n5001          None             A  No Application  No Application  Not Member  \n5002          None             B     Application     Application  Not Member  \n5003          None             A  No Application  No Application  Not Member  \n\n[5004 rows x 10 columns]",
      "text/html": "<div>\n<style scoped>\n    .dataframe tbody tr th:only-of-type {\n        vertical-align: middle;\n    }\n\n    .dataframe tbody tr th {\n        vertical-align: top;\n    }\n\n    .dataframe thead th {\n        text-align: right;\n    }\n</style>\n<table border=\"1\" class=\"dataframe\">\n  <thead>\n    <tr style=\"text-align: right;\">\n      <th></th>\n      <th>first_name</th>\n      <th>last_name</th>\n      <th>visit_date</th>\n      <th>fitness_test_date</th>\n      <th>application_date</th>\n      <th>purchase_date</th>\n      <th>ab_test_group</th>\n      <th>iss_application</th>\n      <th>is_application</th>\n      <th>is_member</th>\n    </tr>\n  </thead>\n  <tbody>\n    <tr>\n      <th>0</th>\n      <td>Kim</td>\n      <td>Walter</td>\n      <td>7-1-17</td>\n      <td>2017-07-03</td>\n      <td>None</td>\n      <td>None</td>\n      <td>A</td>\n      <td>No Application</td>\n      <td>No Application</td>\n      <td>Not Member</td>\n    </tr>\n    <tr>\n      <th>1</th>\n      <td>Tom</td>\n      <td>Webster</td>\n      <td>7-1-17</td>\n      <td>2017-07-02</td>\n      <td>None</td>\n      <td>None</td>\n      <td>A</td>\n      <td>No Application</td>\n      <td>No Application</td>\n      <td>Not Member</td>\n    </tr>\n    <tr>\n      <th>2</th>\n      <td>Edward</td>\n      <td>Bowen</td>\n      <td>7-1-17</td>\n      <td>None</td>\n      <td>2017-07-04</td>\n      <td>2017-07-04</td>\n      <td>B</td>\n      <td>Application</td>\n      <td>Application</td>\n      <td>Member</td>\n    </tr>\n    <tr>\n      <th>3</th>\n      <td>Marcus</td>\n      <td>Bauer</td>\n      <td>7-1-17</td>\n      <td>2017-07-01</td>\n      <td>2017-07-03</td>\n      <td>2017-07-05</td>\n      <td>A</td>\n      <td>Application</td>\n      <td>Application</td>\n      <td>Member</td>\n    </tr>\n    <tr>\n      <th>4</th>\n      <td>Roberta</td>\n      <td>Best</td>\n      <td>7-1-17</td>\n      <td>2017-07-02</td>\n      <td>None</td>\n      <td>None</td>\n      <td>A</td>\n      <td>No Application</td>\n      <td>No Application</td>\n      <td>Not Member</td>\n    </tr>\n    <tr>\n      <th>...</th>\n      <td>...</td>\n      <td>...</td>\n      <td>...</td>\n      <td>...</td>\n      <td>...</td>\n      <td>...</td>\n      <td>...</td>\n      <td>...</td>\n      <td>...</td>\n      <td>...</td>\n    </tr>\n    <tr>\n      <th>4999</th>\n      <td>Rachel</td>\n      <td>Hensley</td>\n      <td>9-9-17</td>\n      <td>None</td>\n      <td>None</td>\n      <td>None</td>\n      <td>B</td>\n      <td>No Application</td>\n      <td>No Application</td>\n      <td>Not Member</td>\n    </tr>\n    <tr>\n      <th>5000</th>\n      <td>Leon</td>\n      <td>Harmon</td>\n      <td>9-9-17</td>\n      <td>2017-09-15</td>\n      <td>None</td>\n      <td>None</td>\n      <td>A</td>\n      <td>No Application</td>\n      <td>No Application</td>\n      <td>Not Member</td>\n    </tr>\n    <tr>\n      <th>5001</th>\n      <td>Andy</td>\n      <td>Pratt</td>\n      <td>9-9-17</td>\n      <td>2017-09-15</td>\n      <td>None</td>\n      <td>None</td>\n      <td>A</td>\n      <td>No Application</td>\n      <td>No Application</td>\n      <td>Not Member</td>\n    </tr>\n    <tr>\n      <th>5002</th>\n      <td>Ruben</td>\n      <td>Nielsen</td>\n      <td>9-9-17</td>\n      <td>None</td>\n      <td>2017-09-13</td>\n      <td>None</td>\n      <td>B</td>\n      <td>Application</td>\n      <td>Application</td>\n      <td>Not Member</td>\n    </tr>\n    <tr>\n      <th>5003</th>\n      <td>Charles</td>\n      <td>Carver</td>\n      <td>9-9-17</td>\n      <td>2017-09-12</td>\n      <td>None</td>\n      <td>None</td>\n      <td>A</td>\n      <td>No Application</td>\n      <td>No Application</td>\n      <td>Not Member</td>\n    </tr>\n  </tbody>\n</table>\n<p>5004 rows × 10 columns</p>\n</div>"
     },
     "execution_count": 35,
     "metadata": {},
     "output_type": "execute_result"
    }
   ],
   "source": [
    "df[\"is_member\"] = df.apply(lambda row: \"Not Member\" if pd.isnull(row[\"purchase_date\"]) else \"Member\",axis=1)\n",
    "df"
   ]
  },
  {
   "cell_type": "markdown",
   "metadata": {
    "pycharm": {
     "name": "#%% md\n"
    }
   },
   "source": [
    "Now, let's create a DataFrame called `just_apps` the contains only people who picked up an application."
   ]
  },
  {
   "cell_type": "code",
   "execution_count": 36,
   "metadata": {
    "collapsed": true,
    "pycharm": {
     "name": "#%%\n"
    }
   },
   "outputs": [
    {
     "data": {
      "text/plain": "     first_name last_name visit_date fitness_test_date application_date  \\\n2        Edward     Bowen     7-1-17              None       2017-07-04   \n3        Marcus     Bauer     7-1-17        2017-07-01       2017-07-03   \n9      Salvador  Cardenas     7-1-17        2017-07-07       2017-07-06   \n11      Valerie     Munoz     7-1-17        2017-07-03       2017-07-05   \n35      Michael     Burks     7-1-17              None       2017-07-07   \n...         ...       ...        ...               ...              ...   \n4944    Frances      Kerr     9-8-17        2017-09-12       2017-09-10   \n4964    Raymond  Cantrell     9-9-17              None       2017-09-13   \n4972    Roberta   Acevedo     9-9-17              None       2017-09-15   \n4991    Suzanne  Humphrey     9-9-17        2017-09-09       2017-09-13   \n5002      Ruben   Nielsen     9-9-17              None       2017-09-13   \n\n     purchase_date ab_test_group iss_application is_application   is_member  \n2       2017-07-04             B     Application    Application      Member  \n3       2017-07-05             A     Application    Application      Member  \n9             None             A     Application    Application  Not Member  \n11      2017-07-06             A     Application    Application      Member  \n35      2017-07-13             B     Application    Application      Member  \n...            ...           ...             ...            ...         ...  \n4944    2017-09-15             A     Application    Application      Member  \n4964    2017-09-18             B     Application    Application      Member  \n4972    2017-09-16             B     Application    Application      Member  \n4991    2017-09-18             A     Application    Application      Member  \n5002          None             B     Application    Application  Not Member  \n\n[575 rows x 10 columns]",
      "text/html": "<div>\n<style scoped>\n    .dataframe tbody tr th:only-of-type {\n        vertical-align: middle;\n    }\n\n    .dataframe tbody tr th {\n        vertical-align: top;\n    }\n\n    .dataframe thead th {\n        text-align: right;\n    }\n</style>\n<table border=\"1\" class=\"dataframe\">\n  <thead>\n    <tr style=\"text-align: right;\">\n      <th></th>\n      <th>first_name</th>\n      <th>last_name</th>\n      <th>visit_date</th>\n      <th>fitness_test_date</th>\n      <th>application_date</th>\n      <th>purchase_date</th>\n      <th>ab_test_group</th>\n      <th>iss_application</th>\n      <th>is_application</th>\n      <th>is_member</th>\n    </tr>\n  </thead>\n  <tbody>\n    <tr>\n      <th>2</th>\n      <td>Edward</td>\n      <td>Bowen</td>\n      <td>7-1-17</td>\n      <td>None</td>\n      <td>2017-07-04</td>\n      <td>2017-07-04</td>\n      <td>B</td>\n      <td>Application</td>\n      <td>Application</td>\n      <td>Member</td>\n    </tr>\n    <tr>\n      <th>3</th>\n      <td>Marcus</td>\n      <td>Bauer</td>\n      <td>7-1-17</td>\n      <td>2017-07-01</td>\n      <td>2017-07-03</td>\n      <td>2017-07-05</td>\n      <td>A</td>\n      <td>Application</td>\n      <td>Application</td>\n      <td>Member</td>\n    </tr>\n    <tr>\n      <th>9</th>\n      <td>Salvador</td>\n      <td>Cardenas</td>\n      <td>7-1-17</td>\n      <td>2017-07-07</td>\n      <td>2017-07-06</td>\n      <td>None</td>\n      <td>A</td>\n      <td>Application</td>\n      <td>Application</td>\n      <td>Not Member</td>\n    </tr>\n    <tr>\n      <th>11</th>\n      <td>Valerie</td>\n      <td>Munoz</td>\n      <td>7-1-17</td>\n      <td>2017-07-03</td>\n      <td>2017-07-05</td>\n      <td>2017-07-06</td>\n      <td>A</td>\n      <td>Application</td>\n      <td>Application</td>\n      <td>Member</td>\n    </tr>\n    <tr>\n      <th>35</th>\n      <td>Michael</td>\n      <td>Burks</td>\n      <td>7-1-17</td>\n      <td>None</td>\n      <td>2017-07-07</td>\n      <td>2017-07-13</td>\n      <td>B</td>\n      <td>Application</td>\n      <td>Application</td>\n      <td>Member</td>\n    </tr>\n    <tr>\n      <th>...</th>\n      <td>...</td>\n      <td>...</td>\n      <td>...</td>\n      <td>...</td>\n      <td>...</td>\n      <td>...</td>\n      <td>...</td>\n      <td>...</td>\n      <td>...</td>\n      <td>...</td>\n    </tr>\n    <tr>\n      <th>4944</th>\n      <td>Frances</td>\n      <td>Kerr</td>\n      <td>9-8-17</td>\n      <td>2017-09-12</td>\n      <td>2017-09-10</td>\n      <td>2017-09-15</td>\n      <td>A</td>\n      <td>Application</td>\n      <td>Application</td>\n      <td>Member</td>\n    </tr>\n    <tr>\n      <th>4964</th>\n      <td>Raymond</td>\n      <td>Cantrell</td>\n      <td>9-9-17</td>\n      <td>None</td>\n      <td>2017-09-13</td>\n      <td>2017-09-18</td>\n      <td>B</td>\n      <td>Application</td>\n      <td>Application</td>\n      <td>Member</td>\n    </tr>\n    <tr>\n      <th>4972</th>\n      <td>Roberta</td>\n      <td>Acevedo</td>\n      <td>9-9-17</td>\n      <td>None</td>\n      <td>2017-09-15</td>\n      <td>2017-09-16</td>\n      <td>B</td>\n      <td>Application</td>\n      <td>Application</td>\n      <td>Member</td>\n    </tr>\n    <tr>\n      <th>4991</th>\n      <td>Suzanne</td>\n      <td>Humphrey</td>\n      <td>9-9-17</td>\n      <td>2017-09-09</td>\n      <td>2017-09-13</td>\n      <td>2017-09-18</td>\n      <td>A</td>\n      <td>Application</td>\n      <td>Application</td>\n      <td>Member</td>\n    </tr>\n    <tr>\n      <th>5002</th>\n      <td>Ruben</td>\n      <td>Nielsen</td>\n      <td>9-9-17</td>\n      <td>None</td>\n      <td>2017-09-13</td>\n      <td>None</td>\n      <td>B</td>\n      <td>Application</td>\n      <td>Application</td>\n      <td>Not Member</td>\n    </tr>\n  </tbody>\n</table>\n<p>575 rows × 10 columns</p>\n</div>"
     },
     "execution_count": 36,
     "metadata": {},
     "output_type": "execute_result"
    }
   ],
   "source": [
    "just_apps = df[df[\"is_application\"]== \"Application\"]\n",
    "just_apps"
   ]
  },
  {
   "cell_type": "markdown",
   "metadata": {
    "pycharm": {
     "name": "#%% md\n"
    }
   },
   "source": [
    "Great! Now, let's do a `groupby` to find out how many people in `just_apps` are and aren't members from each group.  Follow the same process that we did in Step 4, including pivoting the data.  You should end up with a DataFrame that looks like this:\n",
    "\n",
    "|is_member|ab_test_group|Member|Not Member|Total|Percent Purchase|\n",
    "|-|-|-|-|-|-|\n",
    "|0|A|?|?|?|?|\n",
    "|1|B|?|?|?|?|\n",
    "\n",
    "Save your final DataFrame as `member_pivot`."
   ]
  },
  {
   "cell_type": "code",
   "execution_count": 40,
   "metadata": {
    "pycharm": {
     "name": "#%%\n"
    }
   },
   "outputs": [
    {
     "data": {
      "text/plain": "is_member      Member  Not Member  Total  Percent with Membership\nab_test_group                                                    \nA                 200          50    250                80.000000\nB                 250          75    325                76.923077",
      "text/html": "<div>\n<style scoped>\n    .dataframe tbody tr th:only-of-type {\n        vertical-align: middle;\n    }\n\n    .dataframe tbody tr th {\n        vertical-align: top;\n    }\n\n    .dataframe thead th {\n        text-align: right;\n    }\n</style>\n<table border=\"1\" class=\"dataframe\">\n  <thead>\n    <tr style=\"text-align: right;\">\n      <th>is_member</th>\n      <th>Member</th>\n      <th>Not Member</th>\n      <th>Total</th>\n      <th>Percent with Membership</th>\n    </tr>\n    <tr>\n      <th>ab_test_group</th>\n      <th></th>\n      <th></th>\n      <th></th>\n      <th></th>\n    </tr>\n  </thead>\n  <tbody>\n    <tr>\n      <th>A</th>\n      <td>200</td>\n      <td>50</td>\n      <td>250</td>\n      <td>80.000000</td>\n    </tr>\n    <tr>\n      <th>B</th>\n      <td>250</td>\n      <td>75</td>\n      <td>325</td>\n      <td>76.923077</td>\n    </tr>\n  </tbody>\n</table>\n</div>"
     },
     "execution_count": 40,
     "metadata": {},
     "output_type": "execute_result"
    }
   ],
   "source": [
    "member = just_apps.groupby([\"ab_test_group\", \"is_member\"]).first_name.count().reset_index()\n",
    "member_pivot = member.pivot(columns=\"is_member\", index = \"ab_test_group\", values=\"first_name\")\n",
    "member_pivot[\"Total\"] = member_pivot.apply(lambda row: row[\"Member\"] + row[\"Not Member\"], axis=1)\n",
    "member_pivot[\"Percent with Membership\"] = member_pivot.apply(lambda row: row[\"Member\"]/row[\"Total\"]*100,axis=1)\n",
    "member_pivot"
   ]
  },
  {
   "cell_type": "markdown",
   "metadata": {
    "pycharm": {
     "name": "#%% md\n"
    }
   },
   "source": [
    "It looks like people who took the fitness test were more likely to purchase a membership **if** they picked up an application.  Why might that be?\n",
    "\n",
    "Just like before, we need to know if this difference is statistically significant.  Choose a hypothesis tests, import it from `scipy` and perform it.  Be sure to note the p-value.\n",
    "Is this result significant?"
   ]
  },
  {
   "cell_type": "code",
   "execution_count": 41,
   "metadata": {
    "pycharm": {
     "name": "#%%\n"
    }
   },
   "outputs": [
    {
     "name": "stdout",
     "output_type": "stream",
     "text": [
      "0.43258646051083327\n"
     ]
    }
   ],
   "source": [
    "from scipy.stats import chi2_contingency\n",
    "\n",
    "X2 = [[200, 50], [250,75]]\n",
    "chi2, pval2, dof, expected = chi2_contingency(X2)\n",
    "print(pval2)"
   ]
  },
  {
   "cell_type": "markdown",
   "metadata": {
    "pycharm": {
     "name": "#%% md\n"
    }
   },
   "source": [
    "Previously, we looked at what percent of people **who picked up applications** purchased memberships.  What we really care about is what percentage of **all visitors** purchased memberships.  Return to `df` and do a `groupby` to find out how many people in `df` are and aren't members from each group.  Follow the same process that we did in Step 4, including pivoting the data.  You should end up with a DataFrame that looks like this:\n",
    "\n",
    "|is_member|ab_test_group|Member|Not Member|Total|Percent Purchase|\n",
    "|-|-|-|-|-|-|\n",
    "|0|A|?|?|?|?|\n",
    "|1|B|?|?|?|?|\n",
    "\n",
    "Save your final DataFrame as `final_member_pivot`."
   ]
  },
  {
   "cell_type": "code",
   "execution_count": 44,
   "metadata": {
    "pycharm": {
     "name": "#%%\n"
    }
   },
   "outputs": [
    {
     "data": {
      "text/plain": "is_member      Member  Not Member  Total  Percent with Membership\nab_test_group                                                    \nA                 200        2304   2504                  7.98722\nB                 250        2250   2500                 10.00000",
      "text/html": "<div>\n<style scoped>\n    .dataframe tbody tr th:only-of-type {\n        vertical-align: middle;\n    }\n\n    .dataframe tbody tr th {\n        vertical-align: top;\n    }\n\n    .dataframe thead th {\n        text-align: right;\n    }\n</style>\n<table border=\"1\" class=\"dataframe\">\n  <thead>\n    <tr style=\"text-align: right;\">\n      <th>is_member</th>\n      <th>Member</th>\n      <th>Not Member</th>\n      <th>Total</th>\n      <th>Percent with Membership</th>\n    </tr>\n    <tr>\n      <th>ab_test_group</th>\n      <th></th>\n      <th></th>\n      <th></th>\n      <th></th>\n    </tr>\n  </thead>\n  <tbody>\n    <tr>\n      <th>A</th>\n      <td>200</td>\n      <td>2304</td>\n      <td>2504</td>\n      <td>7.98722</td>\n    </tr>\n    <tr>\n      <th>B</th>\n      <td>250</td>\n      <td>2250</td>\n      <td>2500</td>\n      <td>10.00000</td>\n    </tr>\n  </tbody>\n</table>\n</div>"
     },
     "execution_count": 44,
     "metadata": {},
     "output_type": "execute_result"
    }
   ],
   "source": [
    "final_member = df.groupby([\"ab_test_group\", \"is_member\"]).first_name.count().reset_index()\n",
    "final_member_pivot = final_member.pivot(columns=\"is_member\", index=\"ab_test_group\", values=\"first_name\")\n",
    "final_member_pivot[\"Total\"] = final_member_pivot.apply(lambda row: row[\"Member\"] + row[\"Not Member\"], axis=1)\n",
    "final_member_pivot[\"Percent with Membership\"] = final_member_pivot.apply(lambda row: row[\"Member\"]/row[\"Total\"]*100,axis=1)\n",
    "final_member_pivot"
   ]
  },
  {
   "cell_type": "markdown",
   "metadata": {
    "pycharm": {
     "name": "#%% md\n"
    }
   },
   "source": [
    "Previously, when we only considered people who had **already picked up an application**, we saw that there was no significant difference in membership between Group A and Group B.\n",
    "\n",
    "Now, when we consider all people who **visit MuscleHub**, we see that there might be a significant different in memberships between Group A and Group B.  Perform a significance test and check."
   ]
  },
  {
   "cell_type": "code",
   "execution_count": 45,
   "metadata": {
    "pycharm": {
     "name": "#%%\n"
    }
   },
   "outputs": [
    {
     "name": "stdout",
     "output_type": "stream",
     "text": [
      "0.014724114645783203\n"
     ]
    }
   ],
   "source": [
    "from scipy.stats import chi2_contingency\n",
    "\n",
    "X3 = [[200, 2304], [250,2250]]\n",
    "chi2, pval3, dof, expected = chi2_contingency(X3)\n",
    "print(pval3)"
   ]
  },
  {
   "cell_type": "markdown",
   "metadata": {
    "pycharm": {
     "name": "#%% md\n"
    }
   },
   "source": [
    "## Step 5: Summarize the acquisition funel with a chart"
   ]
  },
  {
   "cell_type": "markdown",
   "metadata": {
    "pycharm": {
     "name": "#%% md\n"
    }
   },
   "source": [
    "We'd like to make a bar chart for Janet that shows the difference between Group A (people who were given the fitness test) and Group B (people who were not given the fitness test) at each state of the process:\n",
    "- Percent of visitors who apply\n",
    "- Percent of applicants who purchase a membership\n",
    "- Percent of visitors who purchase a membership\n",
    "\n",
    "Create one plot for **each** of the three sets of percentages that you calculated in `app_pivot`, `member_pivot` and `final_member_pivot`.  Each plot should:\n",
    "- Label the two bars as `Fitness Test` and `No Fitness Test`\n",
    "- Make sure that the y-axis ticks are expressed as percents (i.e., `5%`)\n",
    "- Have a title"
   ]
  },
  {
   "cell_type": "code",
   "execution_count": 66,
   "metadata": {
    "pycharm": {
     "name": "#%%\n"
    }
   },
   "outputs": [
    {
     "name": "stderr",
     "output_type": "stream",
     "text": [
      "/var/folders/lg/4gpvht0s0wl3qjgt9r2k0xcm0000gn/T/ipykernel_6547/3256973010.py:6: UserWarning: FixedFormatter should only be used together with FixedLocator\n",
      "  ax.set_yticklabels([\"0%\", \"2%\", \"4%\", \"6%\", \"8%\", \"10%\", \"12%\"])\n"
     ]
    },
    {
     "data": {
      "text/plain": "<Figure size 432x288 with 1 Axes>",
      "image/png": "[encoded data removed]"
     },
     "metadata": {
      "needs_background": "light"
     },
     "output_type": "display_data"
    }
   ],
   "source": [
    "ax = plt.subplot()\n",
    "plt.bar(range(len(app_pivot)), app_pivot[\"Percent with Application\"])\n",
    "ax.set_xticks(range(len(app_pivot)))\n",
    "ax.set_xticklabels([\"Fitness Test\", \"No Fitness Test\"])\n",
    "ax.set_yticklabels([\"0%\", \"2%\", \"4%\", \"6%\", \"8%\", \"10%\", \"12%\"])\n",
    "plt.title(\"Percent of visitors who apply\")\n",
    "plt.show()"
   ]
  },
  {
   "cell_type": "code",
   "execution_count": 74,
   "metadata": {
    "pycharm": {
     "name": "#%%\n"
    }
   },
   "outputs": [
    {
     "name": "stderr",
     "output_type": "stream",
     "text": [
      "/var/folders/lg/4gpvht0s0wl3qjgt9r2k0xcm0000gn/T/ipykernel_6547/358257916.py:5: UserWarning: FixedFormatter should only be used together with FixedLocator\n",
      "  ax.set_yticklabels([\"0%\", \"2%\", \"4%\", \"6%\", \"8%\", \"10%\", \"12%\", \"14%\", \"16%\"])\n"
     ]
    },
    {
     "data": {
      "text/plain": "<Figure size 432x288 with 1 Axes>",
      "image/png": "[encoded data removed]"
     },
     "metadata": {
      "needs_background": "light"
     },
     "output_type": "display_data"
    }
   ],
   "source": [
    "ax = plt.subplot()\n",
    "plt.bar(range(len(member_pivot)), member_pivot[\"Percent with Membership\"])\n",
    "ax.set_xticks(range(len(member_pivot)))\n",
    "ax.set_xticklabels([\"Fitness Test\", \"No Fitness Test\"])\n",
    "ax.set_yticklabels([\"0%\", \"2%\", \"4%\", \"6%\", \"8%\", \"10%\", \"12%\", \"14%\", \"16%\"])\n",
    "plt.title(\"Percent of applicants who purchase a membership\")\n",
    "plt.show()"
   ]
  },
  {
   "cell_type": "code",
   "execution_count": 75,
   "metadata": {
    "pycharm": {
     "name": "#%%\n"
    }
   },
   "outputs": [
    {
     "name": "stderr",
     "output_type": "stream",
     "text": [
      "/var/folders/lg/4gpvht0s0wl3qjgt9r2k0xcm0000gn/T/ipykernel_6547/1555215357.py:5: UserWarning: FixedFormatter should only be used together with FixedLocator\n",
      "  ax.set_yticklabels([\"0%\", \"2%\", \"4%\", \"6%\", \"8%\", \"10%\", \"12%\", \"14%\", \"16%\"])\n"
     ]
    },
    {
     "data": {
      "text/plain": "<Figure size 432x288 with 1 Axes>",
      "image/png": "[encoded data removed]"
     },
     "metadata": {
      "needs_background": "light"
     },
     "output_type": "display_data"
    }
   ],
   "source": [
    "ax = plt.subplot()\n",
    "plt.bar(range(len(final_member_pivot)), final_member_pivot[\"Percent with Membership\"])\n",
    "ax.set_xticks(range(len(final_member_pivot)))\n",
    "ax.set_xticklabels([\"Fitness Test\", \"No Fitness Test\"])\n",
    "ax.set_yticklabels([\"0%\", \"2%\", \"4%\", \"6%\", \"8%\", \"10%\", \"12%\", \"14%\", \"16%\"])\n",
    "plt.title(\"Percent of visitors who purchase a membership\")\n",
    "plt.show()"
   ]
  },
  {
   "cell_type": "code",
   "execution_count": null,
   "outputs": [],
   "source": [],
   "metadata": {
    "collapsed": false,
    "pycharm": {
     "name": "#%%\n"
    }
   }
  }
 ],
 "metadata": {
  "kernelspec": {
   "name": "python3",
   "language": "python",
   "display_name": "Python 3 (ipykernel)"
  },
  "language_info": {
   "codemirror_mode": {
    "name": "ipython",
    "version": 2
   },
   "file_extension": ".py",
   "mimetype": "text/x-python",
   "name": "python",
   "nbconvert_exporter": "python",
   "pygments_lexer": "ipython2",
   "version": "2.7.13"
  }
 },
 "nbformat": 4,
 "nbformat_minor": 2
}