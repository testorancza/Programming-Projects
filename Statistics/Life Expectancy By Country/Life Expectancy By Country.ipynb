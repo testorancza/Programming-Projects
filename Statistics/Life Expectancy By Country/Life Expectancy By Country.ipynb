{
 "cells": [
  {
   "cell_type": "markdown",
   "id": "0d033e85",
   "metadata": {
    "pycharm": {
     "name": "#%% md\n"
    }
   },
   "source": [
    "# Life Expectancy By Country"
   ]
  },
  {
   "cell_type": "markdown",
   "id": "fd4403be",
   "metadata": {
    "pycharm": {
     "name": "#%% md\n"
    }
   },
   "source": [
    "Over the course of the past few centuries, technological and medical advancements have helped increase the life expectancy of humans. However, as of now, the average life expectancy of humans varies depending on what country you live in.\n",
    "\n",
    "In this project, we will investigate a dataset containing information about the average life expectancy in 158 different countries. We will specifically look at how a country's economic success might impact the life expectancy in that area."
   ]
  },
  {
   "cell_type": "markdown",
   "id": "addfa720",
   "metadata": {
    "pycharm": {
     "name": "#%% md\n"
    }
   },
   "source": [
    "## Access the Data"
   ]
  },
  {
   "cell_type": "markdown",
   "id": "44ba5eb2",
   "metadata": {
    "pycharm": {
     "name": "#%% md\n"
    }
   },
   "source": [
    "1. We've imported a dataset containing the life expectancy in different countries. The data can be found in the variable named `data`.\n",
    "\n",
    "   To begin, let's get a sense of what this data looks like. Print `data.head()` to see the first 5 rows of the dataset.\n",
    "   \n",
    "   Look at the names of the columns. What other pieces of information does this dataset contain?\n",
    "   \n",
    "   You may want to comment out this print statement after looking at the data."
   ]
  },
  {
   "cell_type": "code",
   "execution_count": 1,
   "id": "551cb1ca",
   "metadata": {
    "pycharm": {
     "name": "#%%\n"
    }
   },
   "outputs": [
    {
     "data": {
      "text/plain": "               Country  Life Expectancy          GDP\n0          Afghanistan         58.19375   340.015425\n1              Albania         75.15625  2119.726679\n2              Algeria         73.61875  2847.853392\n3               Angola         49.01875  1975.143045\n4  Antigua and Barbuda         75.05625  9759.305728",
      "text/html": "<div>\n<style scoped>\n    .dataframe tbody tr th:only-of-type {\n        vertical-align: middle;\n    }\n\n    .dataframe tbody tr th {\n        vertical-align: top;\n    }\n\n    .dataframe thead th {\n        text-align: right;\n    }\n</style>\n<table border=\"1\" class=\"dataframe\">\n  <thead>\n    <tr style=\"text-align: right;\">\n      <th></th>\n      <th>Country</th>\n      <th>Life Expectancy</th>\n      <th>GDP</th>\n    </tr>\n  </thead>\n  <tbody>\n    <tr>\n      <th>0</th>\n      <td>Afghanistan</td>\n      <td>58.19375</td>\n      <td>340.015425</td>\n    </tr>\n    <tr>\n      <th>1</th>\n      <td>Albania</td>\n      <td>75.15625</td>\n      <td>2119.726679</td>\n    </tr>\n    <tr>\n      <th>2</th>\n      <td>Algeria</td>\n      <td>73.61875</td>\n      <td>2847.853392</td>\n    </tr>\n    <tr>\n      <th>3</th>\n      <td>Angola</td>\n      <td>49.01875</td>\n      <td>1975.143045</td>\n    </tr>\n    <tr>\n      <th>4</th>\n      <td>Antigua and Barbuda</td>\n      <td>75.05625</td>\n      <td>9759.305728</td>\n    </tr>\n  </tbody>\n</table>\n</div>"
     },
     "execution_count": 1,
     "metadata": {},
     "output_type": "execute_result"
    }
   ],
   "source": [
    "import numpy as np\n",
    "import pandas as pd\n",
    "import matplotlib.pyplot as plt\n",
    "\n",
    "data = pd.read_csv(\"country_data.csv\")\n",
    "data.head()"
   ]
  },
  {
   "cell_type": "markdown",
   "id": "1b0baea2",
   "metadata": {
    "pycharm": {
     "name": "#%% md\n"
    }
   },
   "source": [
    "2. Let's isolate the column that contains the life expectancy and store it in a variable named `life_expectancy`. To get a single column from a Pandas DataFrame, use this syntax:\n",
    "\n",
    "   ```py\n",
    "   single_column = dataFrameName[\"columnName\"]\n",
    "   ```\n",
    "   \n",
    "   Make sure to pay attention to capitalization and spaces when using the column name!"
   ]
  },
  {
   "cell_type": "code",
   "execution_count": null,
   "id": "817d9a01",
   "metadata": {
    "pycharm": {
     "name": "#%%\n",
     "is_executing": true
    }
   },
   "outputs": [],
   "source": [
    "life_expectancy = data[\"Life Expectancy\"]\n",
    "life_expectancy"
   ]
  },
  {
   "cell_type": "markdown",
   "id": "6dbb4fb4",
   "metadata": {
    "pycharm": {
     "name": "#%% md\n"
    }
   },
   "source": [
    "## Find the Quantiles"
   ]
  },
  {
   "cell_type": "markdown",
   "id": "f2bb4419",
   "metadata": {
    "pycharm": {
     "name": "#%% md\n"
    }
   },
   "source": [
    "3. We can now use NumPy functions on that column! Let's use the `np.quantile()` function to find the quartiles of `life_expectancy`. Store the result in a variable named `life_expectancy_quartiles` and print the results."
   ]
  },
  {
   "cell_type": "code",
   "execution_count": 5,
   "id": "132424f2",
   "metadata": {
    "pycharm": {
     "name": "#%%\n"
    }
   },
   "outputs": [
    {
     "data": {
      "text/plain": "array([62.325    , 72.525    , 75.4421875])"
     },
     "execution_count": 5,
     "metadata": {},
     "output_type": "execute_result"
    }
   ],
   "source": [
    "life_expectancy_quartiles = np.quantile(life_expectancy, [0.25, 0.5, 0.75])\n",
    "life_expectancy_quartiles"
   ]
  },
  {
   "cell_type": "markdown",
   "id": "d6b6d31e",
   "metadata": {
    "pycharm": {
     "name": "#%% md\n"
    }
   },
   "source": [
    "4. Nice work! By looking at those three values you can get a sense of the spread of the data. For example, it seems like some of the data is fairly close together &mdash; a quarter of the data is between `72.5` years and `75.4` years.\n",
    "\n",
    "   Could you predict what the histogram might look like from those three numbers? Plot the histogram by using the following two lines of code. Does it look how you expected?\n",
    "   \n",
    "   ```py\n",
    "   plt.hist(life_expectancy)\n",
    "   plt.show()\n",
    "   ```"
   ]
  },
  {
   "cell_type": "code",
   "execution_count": 6,
   "id": "9ae17988",
   "metadata": {
    "pycharm": {
     "name": "#%%\n"
    }
   },
   "outputs": [
    {
     "data": {
      "text/plain": "<Figure size 432x288 with 1 Axes>",
      "image/png": "[encoded data removed]"
     },
     "metadata": {
      "needs_background": "light"
     },
     "output_type": "display_data"
    }
   ],
   "source": [
    "plt.hist(life_expectancy)\n",
    "plt.show()"
   ]
  },
  {
   "cell_type": "markdown",
   "id": "be8976cb",
   "metadata": {
    "pycharm": {
     "name": "#%% md\n"
    }
   },
   "source": [
    "5. Let's take a moment to think about the meaning of these quartiles. If your country has a life expectancy of `70` years, does that fall in the first, second, third, or final quarter of the data?\n",
    "\n",
    "   View **Life Expectancy By Country_Solution.ipynb** to see the answer!"
   ]
  },
  {
   "cell_type": "markdown",
   "id": "dc83db64",
   "metadata": {
    "pycharm": {
     "name": "#%% md\n"
    }
   },
   "source": [
    "## Splitting the Data by GDP"
   ]
  },
  {
   "cell_type": "markdown",
   "id": "4dab91c1",
   "metadata": {
    "pycharm": {
     "name": "#%% md\n"
    }
   },
   "source": [
    "6. GDP is a measure of a country's wealth. Let's now use the GDP data to see if life expectancy is affected by this value.\n",
    "\n",
    "   Let's split the data into two groups based on GDP. If we find the median GDP, we can create two datasets for \"low GDP countries\" and \"high GDP countries\".\n",
    "   \n",
    "   To start, let's isolate the GDP column and store it in a variable named `gdp`. This should be similar to how you isolated the life expectancy column."
   ]
  },
  {
   "cell_type": "code",
   "execution_count": 7,
   "id": "fa544862",
   "metadata": {
    "pycharm": {
     "name": "#%%\n"
    }
   },
   "outputs": [],
   "source": [
    "gdp = data[\"GDP\"]"
   ]
  },
  {
   "cell_type": "markdown",
   "id": "cc7e433e",
   "metadata": {
    "pycharm": {
     "name": "#%% md\n"
    }
   },
   "source": [
    "7. We now want to find the median GDP. You can use NumPy's `np.median()` function, but since the median is also a quantile, we can call `np.quantile()` using `0.5` as the second parameter.\n",
    "\n",
    "   Store the median in a variable named `median_gdp`. Print that variable to see the median."
   ]
  },
  {
   "cell_type": "code",
   "execution_count": 8,
   "id": "1a3e21b3",
   "metadata": {
    "pycharm": {
     "name": "#%%\n"
    }
   },
   "outputs": [
    {
     "data": {
      "text/plain": "7389.061605532275"
     },
     "execution_count": 8,
     "metadata": {},
     "output_type": "execute_result"
    }
   ],
   "source": [
    "median_gdp = np.mean(gdp)\n",
    "median_gdp"
   ]
  },
  {
   "cell_type": "markdown",
   "id": "7581520c",
   "metadata": {
    "pycharm": {
     "name": "#%% md\n"
    }
   },
   "source": [
    "8. Let's now grab all of the rows from our original dataset that have a GDP less than or equal to the median. The following code will do that for you:\n",
    "\n",
    "   ```py\n",
    "   low_gdp = data[data['GDP'] <= median_gdp]\n",
    "   ```\n",
    "   \n",
    "   Do the same for all of the rows that have a GDP higher than the median. Store those rows in a variable named `high_gdp`.\n",
    "   \n",
    "   The line of code should look almost identical to the one above, but you should change the `<=` to `>`.\n",
    "   \n",
    "   Remember to change the name of the variable!"
   ]
  },
  {
   "cell_type": "code",
   "execution_count": 19,
   "id": "12067c34",
   "metadata": {
    "pycharm": {
     "name": "#%%\n"
    }
   },
   "outputs": [
    {
     "data": {
      "text/plain": "                  Country  Life Expectancy           GDP\n4     Antigua and Barbuda         75.05625   9759.305728\n7               Australia         81.81250  34637.565050\n8                 Austria         81.48125  33827.476310\n10                Bahrain         75.72500  11191.247420\n12               Barbados         74.35625  12017.098530\n14                Belgium         80.68125  16915.306000\n21      Brunei Darussalam         76.48750  19744.808100\n28                 Canada         81.68750  29382.907520\n36                Croatia         76.11875   9056.784719\n38                 Cyprus         79.67500  13898.885500\n39                Denmark         79.25625  33067.407920\n44      Equatorial Guinea         55.31250   7902.410789\n46                Estonia         74.94375   8340.432949\n49                Finland         80.71250  25268.649760\n50                 France         82.21875  26465.551380\n53                Germany         81.17500  24337.749100\n55                 Greece         81.21875  16454.235870\n63                Hungary         73.82500   8513.641831\n64                Iceland         82.44375  30159.502910\n68                Ireland         80.15000  33835.272010\n69                 Israel         81.30000  18860.476020\n70                  Italy         82.18750  21234.782370\n72                  Japan         82.53750  24892.544780\n77                 Kuwait         73.84375  31914.378340\n78                 Latvia         73.73125   7951.824897\n83              Lithuania         72.80625   9007.458623\n84             Luxembourg         80.78125  53257.012740\n90                  Malta         80.36250  10114.797940\n101           Netherlands         81.13125  34964.719800\n102           New Zealand         81.33750  14775.554810\n106                Norway         81.79375  27434.946930\n107                  Oman         74.84375   7621.311127\n115              Portugal         79.99375  11598.625530\n116                 Qatar         77.03125  40748.444100\n122          Saudi Arabia         73.46875  10689.052950\n127             Singapore         81.47500  32790.105910\n128              Slovenia         79.73125  11441.044380\n133                 Spain         82.06875  17093.459740\n138                Sweden         82.51875  29334.990640\n139           Switzerland         82.33125  57362.874600\n146   Trinidad and Tobago         71.06875   7741.748090\n152  United Arab Emirates         75.70000  22110.366990",
      "text/html": "<div>\n<style scoped>\n    .dataframe tbody tr th:only-of-type {\n        vertical-align: middle;\n    }\n\n    .dataframe tbody tr th {\n        vertical-align: top;\n    }\n\n    .dataframe thead th {\n        text-align: right;\n    }\n</style>\n<table border=\"1\" class=\"dataframe\">\n  <thead>\n    <tr style=\"text-align: right;\">\n      <th></th>\n      <th>Country</th>\n      <th>Life Expectancy</th>\n      <th>GDP</th>\n    </tr>\n  </thead>\n  <tbody>\n    <tr>\n      <th>4</th>\n      <td>Antigua and Barbuda</td>\n      <td>75.05625</td>\n      <td>9759.305728</td>\n    </tr>\n    <tr>\n      <th>7</th>\n      <td>Australia</td>\n      <td>81.81250</td>\n      <td>34637.565050</td>\n    </tr>\n    <tr>\n      <th>8</th>\n      <td>Austria</td>\n      <td>81.48125</td>\n      <td>33827.476310</td>\n    </tr>\n    <tr>\n      <th>10</th>\n      <td>Bahrain</td>\n      <td>75.72500</td>\n      <td>11191.247420</td>\n    </tr>\n    <tr>\n      <th>12</th>\n      <td>Barbados</td>\n      <td>74.35625</td>\n      <td>12017.098530</td>\n    </tr>\n    <tr>\n      <th>14</th>\n      <td>Belgium</td>\n      <td>80.68125</td>\n      <td>16915.306000</td>\n    </tr>\n    <tr>\n      <th>21</th>\n      <td>Brunei Darussalam</td>\n      <td>76.48750</td>\n      <td>19744.808100</td>\n    </tr>\n    <tr>\n      <th>28</th>\n      <td>Canada</td>\n      <td>81.68750</td>\n      <td>29382.907520</td>\n    </tr>\n    <tr>\n      <th>36</th>\n      <td>Croatia</td>\n      <td>76.11875</td>\n      <td>9056.784719</td>\n    </tr>\n    <tr>\n      <th>38</th>\n      <td>Cyprus</td>\n      <td>79.67500</td>\n      <td>13898.885500</td>\n    </tr>\n    <tr>\n      <th>39</th>\n      <td>Denmark</td>\n      <td>79.25625</td>\n      <td>33067.407920</td>\n    </tr>\n    <tr>\n      <th>44</th>\n      <td>Equatorial Guinea</td>\n      <td>55.31250</td>\n      <td>7902.410789</td>\n    </tr>\n    <tr>\n      <th>46</th>\n      <td>Estonia</td>\n      <td>74.94375</td>\n      <td>8340.432949</td>\n    </tr>\n    <tr>\n      <th>49</th>\n      <td>Finland</td>\n      <td>80.71250</td>\n      <td>25268.649760</td>\n    </tr>\n    <tr>\n      <th>50</th>\n      <td>France</td>\n      <td>82.21875</td>\n      <td>26465.551380</td>\n    </tr>\n    <tr>\n      <th>53</th>\n      <td>Germany</td>\n      <td>81.17500</td>\n      <td>24337.749100</td>\n    </tr>\n    <tr>\n      <th>55</th>\n      <td>Greece</td>\n      <td>81.21875</td>\n      <td>16454.235870</td>\n    </tr>\n    <tr>\n      <th>63</th>\n      <td>Hungary</td>\n      <td>73.82500</td>\n      <td>8513.641831</td>\n    </tr>\n    <tr>\n      <th>64</th>\n      <td>Iceland</td>\n      <td>82.44375</td>\n      <td>30159.502910</td>\n    </tr>\n    <tr>\n      <th>68</th>\n      <td>Ireland</td>\n      <td>80.15000</td>\n      <td>33835.272010</td>\n    </tr>\n    <tr>\n      <th>69</th>\n      <td>Israel</td>\n      <td>81.30000</td>\n      <td>18860.476020</td>\n    </tr>\n    <tr>\n      <th>70</th>\n      <td>Italy</td>\n      <td>82.18750</td>\n      <td>21234.782370</td>\n    </tr>\n    <tr>\n      <th>72</th>\n      <td>Japan</td>\n      <td>82.53750</td>\n      <td>24892.544780</td>\n    </tr>\n    <tr>\n      <th>77</th>\n      <td>Kuwait</td>\n      <td>73.84375</td>\n      <td>31914.378340</td>\n    </tr>\n    <tr>\n      <th>78</th>\n      <td>Latvia</td>\n      <td>73.73125</td>\n      <td>7951.824897</td>\n    </tr>\n    <tr>\n      <th>83</th>\n      <td>Lithuania</td>\n      <td>72.80625</td>\n      <td>9007.458623</td>\n    </tr>\n    <tr>\n      <th>84</th>\n      <td>Luxembourg</td>\n      <td>80.78125</td>\n      <td>53257.012740</td>\n    </tr>\n    <tr>\n      <th>90</th>\n      <td>Malta</td>\n      <td>80.36250</td>\n      <td>10114.797940</td>\n    </tr>\n    <tr>\n      <th>101</th>\n      <td>Netherlands</td>\n      <td>81.13125</td>\n      <td>34964.719800</td>\n    </tr>\n    <tr>\n      <th>102</th>\n      <td>New Zealand</td>\n      <td>81.33750</td>\n      <td>14775.554810</td>\n    </tr>\n    <tr>\n      <th>106</th>\n      <td>Norway</td>\n      <td>81.79375</td>\n      <td>27434.946930</td>\n    </tr>\n    <tr>\n      <th>107</th>\n      <td>Oman</td>\n      <td>74.84375</td>\n      <td>7621.311127</td>\n    </tr>\n    <tr>\n      <th>115</th>\n      <td>Portugal</td>\n      <td>79.99375</td>\n      <td>11598.625530</td>\n    </tr>\n    <tr>\n      <th>116</th>\n      <td>Qatar</td>\n      <td>77.03125</td>\n      <td>40748.444100</td>\n    </tr>\n    <tr>\n      <th>122</th>\n      <td>Saudi Arabia</td>\n      <td>73.46875</td>\n      <td>10689.052950</td>\n    </tr>\n    <tr>\n      <th>127</th>\n      <td>Singapore</td>\n      <td>81.47500</td>\n      <td>32790.105910</td>\n    </tr>\n    <tr>\n      <th>128</th>\n      <td>Slovenia</td>\n      <td>79.73125</td>\n      <td>11441.044380</td>\n    </tr>\n    <tr>\n      <th>133</th>\n      <td>Spain</td>\n      <td>82.06875</td>\n      <td>17093.459740</td>\n    </tr>\n    <tr>\n      <th>138</th>\n      <td>Sweden</td>\n      <td>82.51875</td>\n      <td>29334.990640</td>\n    </tr>\n    <tr>\n      <th>139</th>\n      <td>Switzerland</td>\n      <td>82.33125</td>\n      <td>57362.874600</td>\n    </tr>\n    <tr>\n      <th>146</th>\n      <td>Trinidad and Tobago</td>\n      <td>71.06875</td>\n      <td>7741.748090</td>\n    </tr>\n    <tr>\n      <th>152</th>\n      <td>United Arab Emirates</td>\n      <td>75.70000</td>\n      <td>22110.366990</td>\n    </tr>\n  </tbody>\n</table>\n</div>"
     },
     "execution_count": 19,
     "metadata": {},
     "output_type": "execute_result"
    }
   ],
   "source": [
    "low_gdp = data[data[\"GDP\"] <= median_gdp]\n",
    "high_gdp = data[data[\"GDP\"] > median_gdp]\n"
   ]
  },
  {
   "cell_type": "markdown",
   "id": "26ad7103",
   "metadata": {
    "pycharm": {
     "name": "#%% md\n"
    }
   },
   "source": [
    "9. Now that we've split the data based on the GDP, let's see how the life expectancy of each group compares to each other.\n",
    "\n",
    "   Find the quartiles of the `\"Life Expectancy\"` column of `low_gdp`. Store the quartiles in a variable named `low_gdp_quartiles`. Print the results."
   ]
  },
  {
   "cell_type": "code",
   "execution_count": 22,
   "id": "4a06ada2",
   "metadata": {
    "pycharm": {
     "name": "#%%\n"
    }
   },
   "outputs": [
    {
     "data": {
      "text/plain": "array([59.2625  , 67.64375 , 73.315625])"
     },
     "execution_count": 22,
     "metadata": {},
     "output_type": "execute_result"
    }
   ],
   "source": [
    "low_gdp_quartiles = np.quantile(low_gdp[\"Life Expectancy\"], [0.25, 0.5, 0.75])\n",
    "low_gdp_quartiles"
   ]
  },
  {
   "cell_type": "markdown",
   "id": "e900d679",
   "metadata": {
    "pycharm": {
     "name": "#%% md\n"
    }
   },
   "source": [
    "10. Find the quartiles of the high GDP countries and store them in a variable named `high_gdp_quartiles`. This should look very similar to the last line of code you wrote. Print the results."
   ]
  },
  {
   "cell_type": "code",
   "execution_count": 24,
   "id": "091c76c9",
   "metadata": {
    "pycharm": {
     "name": "#%%\n"
    }
   },
   "outputs": [
    {
     "data": {
      "text/plain": "array([75.2171875, 80.25625  , 81.4796875])"
     },
     "execution_count": 24,
     "metadata": {},
     "output_type": "execute_result"
    }
   ],
   "source": [
    "high_gdp_quartiles = np.quantile(high_gdp[\"Life Expectancy\"], [0.25, 0.5, 0.75])\n",
    "high_gdp_quartiles"
   ]
  },
  {
   "cell_type": "markdown",
   "id": "5fbc2a78",
   "metadata": {
    "pycharm": {
     "name": "#%% md\n"
    }
   },
   "source": [
    "## Histogram and Conclusions"
   ]
  },
  {
   "cell_type": "markdown",
   "id": "f3472ae2",
   "metadata": {
    "pycharm": {
     "name": "#%% md\n"
    }
   },
   "source": [
    "11. By looking at the quantiles, you should get a sense of the spread and central tendency of these two datasets. But let's plot a histogram of each dataset to really compare them.\n",
    "\n",
    "    At the bottom of your code, add these four lines:\n",
    "    ```py\n",
    "    plt.hist(high_gdp[\"Life Expectancy\"], alpha = 0.5, label = \"High GDP\")\n",
    "    plt.hist(low_gdp[\"Life Expectancy\"], alpha = 0.5, label = \"Low GDP\")\n",
    "    plt.legend()\n",
    "    plt.show()\n",
    "    ```"
   ]
  },
  {
   "cell_type": "code",
   "execution_count": 25,
   "id": "87077d84",
   "metadata": {
    "pycharm": {
     "name": "#%%\n"
    }
   },
   "outputs": [
    {
     "data": {
      "text/plain": "<Figure size 432x288 with 1 Axes>",
      "image/png": "[encoded data removed]"
     },
     "metadata": {
      "needs_background": "light"
     },
     "output_type": "display_data"
    }
   ],
   "source": [
    "plt.hist(high_gdp[\"Life Expectancy\"], alpha = 0.5, label = \"High GDP\")\n",
    "plt.hist(low_gdp[\"Life Expectancy\"], alpha = 0.5, label = \"Low GDP\")\n",
    "plt.legend()\n",
    "plt.show()"
   ]
  },
  {
   "cell_type": "markdown",
   "id": "2903763d",
   "metadata": {
    "pycharm": {
     "name": "#%% md\n"
    }
   },
   "source": [
    "12. We can now truly see the impact GDP has on life expectancy.\n",
    "\n",
    "    Once again, consider a country that has a life expectancy of `70` years. If that country is in the top half of GDP countries, is it in the first, second, third, or fourth quarter of the data with respect to life expectancy? What if the country is in the bottom half of the countries? View **Life Expectancy By Country_Solution.ipynb** to see our thoughts."
   ]
  },
  {
   "cell_type": "code",
   "execution_count": null,
   "id": "23367b69",
   "metadata": {
    "pycharm": {
     "name": "#%%\n"
    }
   },
   "outputs": [],
   "source": []
  }
 ],
 "metadata": {
  "kernelspec": {
   "display_name": "Python 3 (ipykernel)",
   "language": "python",
   "name": "python3"
  },
  "language_info": {
   "codemirror_mode": {
    "name": "ipython",
    "version": 3
   },
   "file_extension": ".py",
   "mimetype": "text/x-python",
   "name": "python",
   "nbconvert_exporter": "python",
   "pygments_lexer": "ipython3",
   "version": "3.7.11"
  }
 },
 "nbformat": 4,
 "nbformat_minor": 5
}