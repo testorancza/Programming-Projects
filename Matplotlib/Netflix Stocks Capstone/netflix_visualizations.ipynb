{
 "cells": [
  {
   "cell_type": "markdown",
   "metadata": {
    "pycharm": {
     "name": "#%% md\n"
    }
   },
   "source": [
    "# Introduction\n",
    "\n",
    "In this project, you will act as a data visualization developer at Yahoo Finance! You will be helping the \"Netflix Stock Profile\" team visualize the Netflix stock data. In finance, a _stock profile_ is a series of studies, visualizations, and analyses that dive into different aspects a publicly traded company's data. \n",
    "\n",
    "For the purposes of the project, you will only visualize data for the year of 2017. Specifically, you will be in charge of creating the following visualizations:\n",
    "+ The distribution of the stock prices for the past year\n",
    "+ Netflix's earnings and revenue in the last four quarters\n",
    "+ The actual vs. estimated earnings per share for the four quarters in 2017\n",
    "+ A comparison of the Netflix Stock price vs the Dow Jones Industrial Average price in 2017 \n",
    "\n",
    "Note: We are using the Dow Jones Industrial Average to compare the Netflix stock to the larter stock market. Learn more about why the Dow Jones Industrial Average is a general reflection of the larger stock market [here](https://www.investopedia.com/terms/d/djia.asp).\n",
    "\n",
    "During this project, you will analyze, prepare, and plot data. Your visualizations will help the financial analysts asses the risk of the Netflix stock.\n",
    "\n",
    "After you complete your visualizations, you'll be creating a presentation to share the images with the rest of the Netflix Stock Profile team. Your slides should include:\n",
    "\n",
    "- A title slide\n",
    "- A list of your visualizations and your role in their creation for the \"Stock Profile\" team\n",
    "- A visualization of the distribution of the stock prices for Netflix in 2017\n",
    "- A visualization and a summary of Netflix stock and revenue for the past four quarters and a summary\n",
    "- A visualization and a brief summary of their earned versus actual earnings per share\n",
    "- A visualization of Netflix stock against the Dow Jones stock (to get a sense of the market) in 2017\n",
    "\n",
    "Financial Data Source: [Yahoo Finance](https://finance.yahoo.com/quote/DATA/)\n"
   ]
  },
  {
   "cell_type": "markdown",
   "metadata": {
    "pycharm": {
     "name": "#%% md\n"
    }
   },
   "source": [
    "## Step 1\n",
    "\n",
    "Let's get our notebook ready for visualizing! Import the modules that you'll be using in this project:\n",
    "- `from matplotlib import pyplot as plt`\n",
    "- `import pandas as pd`\n",
    "- `import seaborn as sns`"
   ]
  },
  {
   "cell_type": "code",
   "execution_count": 2,
   "metadata": {
    "pycharm": {
     "name": "#%%\n"
    }
   },
   "outputs": [],
   "source": [
    "from matplotlib import pyplot as plt\n",
    "import pandas as pd\n",
    "import seaborn as sns"
   ]
  },
  {
   "cell_type": "markdown",
   "metadata": {
    "pycharm": {
     "name": "#%% md\n"
    }
   },
   "source": [
    "## Step 2"
   ]
  },
  {
   "cell_type": "markdown",
   "metadata": {
    "pycharm": {
     "name": "#%% md\n"
    }
   },
   "source": [
    "Let's load the datasets and inspect them."
   ]
  },
  {
   "cell_type": "markdown",
   "metadata": {
    "pycharm": {
     "name": "#%% md\n"
    }
   },
   "source": [
    "Load **NFLX.csv** into a DataFrame called `netflix_stocks`. Then, quickly inspect the DataFrame using `print()`.\n",
    "\n",
    "Hint: Use the `pd.read_csv()`function).\n",
    "\n",
    "Note: In the Yahoo Data, `Adj Close` represents the adjusted close price adjusted for both dividends and splits. This means this is the true closing stock price for a given business day."
   ]
  },
  {
   "cell_type": "code",
   "execution_count": 7,
   "metadata": {
    "pycharm": {
     "name": "#%%\n"
    }
   },
   "outputs": [
    {
     "data": {
      "text/plain": "          Date        Open        High         Low       Close   Adj Close  \\\n0   2017-01-01  124.959999  143.460007  124.309998  140.710007  140.710007   \n1   2017-02-01  141.199997  145.949997  139.050003  142.130005  142.130005   \n2   2017-03-01  142.839996  148.289993  138.259995  147.809998  147.809998   \n3   2017-04-01  146.699997  153.520004  138.660004  152.199997  152.199997   \n4   2017-05-01  151.910004  164.750000  151.610001  163.070007  163.070007   \n5   2017-06-01  163.520004  166.869995  147.300003  149.410004  149.410004   \n6   2017-07-01  149.800003  191.500000  144.250000  181.660004  181.660004   \n7   2017-08-01  182.490005  184.619995  164.229996  174.710007  174.710007   \n8   2017-09-01  175.550003  189.949997  172.440002  181.350006  181.350006   \n9   2017-10-01  182.110001  204.380005  176.580002  196.429993  196.429993   \n10  2017-11-01  197.240005  202.479996  184.320007  195.509995  195.509995   \n11  2017-12-01  186.990005  194.490005  178.380005  191.960007  191.960007   \n\n       Volume  \n0   181772200  \n1    91432000  \n2   110692700  \n3   149769200  \n4   116795800  \n5   135675800  \n6   185144700  \n7   136523100  \n8   111427900  \n9   208657800  \n10  161719700  \n11  115103700  ",
      "text/html": "<div>\n<style scoped>\n    .dataframe tbody tr th:only-of-type {\n        vertical-align: middle;\n    }\n\n    .dataframe tbody tr th {\n        vertical-align: top;\n    }\n\n    .dataframe thead th {\n        text-align: right;\n    }\n</style>\n<table border=\"1\" class=\"dataframe\">\n  <thead>\n    <tr style=\"text-align: right;\">\n      <th></th>\n      <th>Date</th>\n      <th>Open</th>\n      <th>High</th>\n      <th>Low</th>\n      <th>Close</th>\n      <th>Adj Close</th>\n      <th>Volume</th>\n    </tr>\n  </thead>\n  <tbody>\n    <tr>\n      <th>0</th>\n      <td>2017-01-01</td>\n      <td>124.959999</td>\n      <td>143.460007</td>\n      <td>124.309998</td>\n      <td>140.710007</td>\n      <td>140.710007</td>\n      <td>181772200</td>\n    </tr>\n    <tr>\n      <th>1</th>\n      <td>2017-02-01</td>\n      <td>141.199997</td>\n      <td>145.949997</td>\n      <td>139.050003</td>\n      <td>142.130005</td>\n      <td>142.130005</td>\n      <td>91432000</td>\n    </tr>\n    <tr>\n      <th>2</th>\n      <td>2017-03-01</td>\n      <td>142.839996</td>\n      <td>148.289993</td>\n      <td>138.259995</td>\n      <td>147.809998</td>\n      <td>147.809998</td>\n      <td>110692700</td>\n    </tr>\n    <tr>\n      <th>3</th>\n      <td>2017-04-01</td>\n      <td>146.699997</td>\n      <td>153.520004</td>\n      <td>138.660004</td>\n      <td>152.199997</td>\n      <td>152.199997</td>\n      <td>149769200</td>\n    </tr>\n    <tr>\n      <th>4</th>\n      <td>2017-05-01</td>\n      <td>151.910004</td>\n      <td>164.750000</td>\n      <td>151.610001</td>\n      <td>163.070007</td>\n      <td>163.070007</td>\n      <td>116795800</td>\n    </tr>\n    <tr>\n      <th>5</th>\n      <td>2017-06-01</td>\n      <td>163.520004</td>\n      <td>166.869995</td>\n      <td>147.300003</td>\n      <td>149.410004</td>\n      <td>149.410004</td>\n      <td>135675800</td>\n    </tr>\n    <tr>\n      <th>6</th>\n      <td>2017-07-01</td>\n      <td>149.800003</td>\n      <td>191.500000</td>\n      <td>144.250000</td>\n      <td>181.660004</td>\n      <td>181.660004</td>\n      <td>185144700</td>\n    </tr>\n    <tr>\n      <th>7</th>\n      <td>2017-08-01</td>\n      <td>182.490005</td>\n      <td>184.619995</td>\n      <td>164.229996</td>\n      <td>174.710007</td>\n      <td>174.710007</td>\n      <td>136523100</td>\n    </tr>\n    <tr>\n      <th>8</th>\n      <td>2017-09-01</td>\n      <td>175.550003</td>\n      <td>189.949997</td>\n      <td>172.440002</td>\n      <td>181.350006</td>\n      <td>181.350006</td>\n      <td>111427900</td>\n    </tr>\n    <tr>\n      <th>9</th>\n      <td>2017-10-01</td>\n      <td>182.110001</td>\n      <td>204.380005</td>\n      <td>176.580002</td>\n      <td>196.429993</td>\n      <td>196.429993</td>\n      <td>208657800</td>\n    </tr>\n    <tr>\n      <th>10</th>\n      <td>2017-11-01</td>\n      <td>197.240005</td>\n      <td>202.479996</td>\n      <td>184.320007</td>\n      <td>195.509995</td>\n      <td>195.509995</td>\n      <td>161719700</td>\n    </tr>\n    <tr>\n      <th>11</th>\n      <td>2017-12-01</td>\n      <td>186.990005</td>\n      <td>194.490005</td>\n      <td>178.380005</td>\n      <td>191.960007</td>\n      <td>191.960007</td>\n      <td>115103700</td>\n    </tr>\n  </tbody>\n</table>\n</div>"
     },
     "execution_count": 7,
     "metadata": {},
     "output_type": "execute_result"
    }
   ],
   "source": [
    "netflix_stocks = pd.read_csv(\"NFLX.csv\")\n",
    "netflix_stocks.head(20)"
   ]
  },
  {
   "cell_type": "markdown",
   "metadata": {
    "pycharm": {
     "name": "#%% md\n"
    }
   },
   "source": [
    "Load **DJI.csv** into a DataFrame called `dowjones_stocks`. Then, quickly inspect the DataFrame using `print()`.\n",
    "\n",
    "Note: You can learn more about why the Dow Jones Industrial Average is a industry reflection of the larger stock market [here](https://www.investopedia.com/terms/d/djia.asp). \n"
   ]
  },
  {
   "cell_type": "code",
   "execution_count": 8,
   "metadata": {
    "pycharm": {
     "name": "#%%\n"
    }
   },
   "outputs": [
    {
     "data": {
      "text/plain": "          Date          Open          High           Low         Close  \\\n0   2017-01-01  19872.859375  20125.580078  19677.939453  19864.089844   \n1   2017-02-01  19923.810547  20851.330078  19831.089844  20812.240234   \n2   2017-03-01  20957.289063  21169.109375  20412.800781  20663.220703   \n3   2017-04-01  20665.169922  21070.900391  20379.550781  20940.509766   \n4   2017-05-01  20962.730469  21112.320313  20553.449219  21008.650391   \n5   2017-06-01  21030.550781  21535.029297  20994.220703  21349.630859   \n6   2017-07-01  21392.300781  21929.800781  21279.300781  21891.119141   \n7   2017-08-01  21961.419922  22179.109375  21600.339844  21948.099609   \n8   2017-09-01  21981.769531  22419.509766  21709.630859  22405.089844   \n9   2017-10-01  22423.470703  23485.250000  22416.000000  23377.240234   \n10  2017-11-01  23442.900391  24327.820313  23242.750000  24272.349609   \n11  2017-12-01  24305.400391  24876.070313  23921.900391  24719.220703   \n\n       Adj Close      Volume  \n0   19864.089844  6482450000  \n1   20812.240234  6185580000  \n2   20663.220703  6941970000  \n3   20940.509766  5392630000  \n4   21008.650391  6613570000  \n5   21349.630859  7214590000  \n6   21891.119141  5569720000  \n7   21948.099609  6150060000  \n8   22405.089844  6342130000  \n9   23377.240234  7302910000  \n10  24272.349609  7335640000  \n11  24719.220703  6589890000  ",
      "text/html": "<div>\n<style scoped>\n    .dataframe tbody tr th:only-of-type {\n        vertical-align: middle;\n    }\n\n    .dataframe tbody tr th {\n        vertical-align: top;\n    }\n\n    .dataframe thead th {\n        text-align: right;\n    }\n</style>\n<table border=\"1\" class=\"dataframe\">\n  <thead>\n    <tr style=\"text-align: right;\">\n      <th></th>\n      <th>Date</th>\n      <th>Open</th>\n      <th>High</th>\n      <th>Low</th>\n      <th>Close</th>\n      <th>Adj Close</th>\n      <th>Volume</th>\n    </tr>\n  </thead>\n  <tbody>\n    <tr>\n      <th>0</th>\n      <td>2017-01-01</td>\n      <td>19872.859375</td>\n      <td>20125.580078</td>\n      <td>19677.939453</td>\n      <td>19864.089844</td>\n      <td>19864.089844</td>\n      <td>6482450000</td>\n    </tr>\n    <tr>\n      <th>1</th>\n      <td>2017-02-01</td>\n      <td>19923.810547</td>\n      <td>20851.330078</td>\n      <td>19831.089844</td>\n      <td>20812.240234</td>\n      <td>20812.240234</td>\n      <td>6185580000</td>\n    </tr>\n    <tr>\n      <th>2</th>\n      <td>2017-03-01</td>\n      <td>20957.289063</td>\n      <td>21169.109375</td>\n      <td>20412.800781</td>\n      <td>20663.220703</td>\n      <td>20663.220703</td>\n      <td>6941970000</td>\n    </tr>\n    <tr>\n      <th>3</th>\n      <td>2017-04-01</td>\n      <td>20665.169922</td>\n      <td>21070.900391</td>\n      <td>20379.550781</td>\n      <td>20940.509766</td>\n      <td>20940.509766</td>\n      <td>5392630000</td>\n    </tr>\n    <tr>\n      <th>4</th>\n      <td>2017-05-01</td>\n      <td>20962.730469</td>\n      <td>21112.320313</td>\n      <td>20553.449219</td>\n      <td>21008.650391</td>\n      <td>21008.650391</td>\n      <td>6613570000</td>\n    </tr>\n    <tr>\n      <th>5</th>\n      <td>2017-06-01</td>\n      <td>21030.550781</td>\n      <td>21535.029297</td>\n      <td>20994.220703</td>\n      <td>21349.630859</td>\n      <td>21349.630859</td>\n      <td>7214590000</td>\n    </tr>\n    <tr>\n      <th>6</th>\n      <td>2017-07-01</td>\n      <td>21392.300781</td>\n      <td>21929.800781</td>\n      <td>21279.300781</td>\n      <td>21891.119141</td>\n      <td>21891.119141</td>\n      <td>5569720000</td>\n    </tr>\n    <tr>\n      <th>7</th>\n      <td>2017-08-01</td>\n      <td>21961.419922</td>\n      <td>22179.109375</td>\n      <td>21600.339844</td>\n      <td>21948.099609</td>\n      <td>21948.099609</td>\n      <td>6150060000</td>\n    </tr>\n    <tr>\n      <th>8</th>\n      <td>2017-09-01</td>\n      <td>21981.769531</td>\n      <td>22419.509766</td>\n      <td>21709.630859</td>\n      <td>22405.089844</td>\n      <td>22405.089844</td>\n      <td>6342130000</td>\n    </tr>\n    <tr>\n      <th>9</th>\n      <td>2017-10-01</td>\n      <td>22423.470703</td>\n      <td>23485.250000</td>\n      <td>22416.000000</td>\n      <td>23377.240234</td>\n      <td>23377.240234</td>\n      <td>7302910000</td>\n    </tr>\n    <tr>\n      <th>10</th>\n      <td>2017-11-01</td>\n      <td>23442.900391</td>\n      <td>24327.820313</td>\n      <td>23242.750000</td>\n      <td>24272.349609</td>\n      <td>24272.349609</td>\n      <td>7335640000</td>\n    </tr>\n    <tr>\n      <th>11</th>\n      <td>2017-12-01</td>\n      <td>24305.400391</td>\n      <td>24876.070313</td>\n      <td>23921.900391</td>\n      <td>24719.220703</td>\n      <td>24719.220703</td>\n      <td>6589890000</td>\n    </tr>\n  </tbody>\n</table>\n</div>"
     },
     "execution_count": 8,
     "metadata": {},
     "output_type": "execute_result"
    }
   ],
   "source": [
    "dowjones_stocks = pd.read_csv(\"DJI.csv\")\n",
    "dowjones_stocks.head(20)"
   ]
  },
  {
   "cell_type": "markdown",
   "metadata": {
    "pycharm": {
     "name": "#%% md\n"
    }
   },
   "source": [
    "Load **NFLX_daily_by_quarter.csv** into a DataFrame called `netflix_stocks_quarterly`. Then, quickly inspect the DataFrame using `print()`.\n"
   ]
  },
  {
   "cell_type": "code",
   "execution_count": 9,
   "metadata": {
    "pycharm": {
     "name": "#%%\n"
    }
   },
   "outputs": [
    {
     "data": {
      "text/plain": "          Date        Open        High         Low       Close   Adj Close  \\\n0   2017-01-03  124.959999  128.190002  124.309998  127.489998  127.489998   \n1   2017-01-04  127.489998  130.169998  126.550003  129.410004  129.410004   \n2   2017-01-05  129.220001  132.750000  128.899994  131.809998  131.809998   \n3   2017-01-06  132.080002  133.880005  129.809998  131.070007  131.070007   \n4   2017-01-09  131.479996  131.990005  129.889999  130.949997  130.949997   \n5   2017-01-10  131.270004  132.220001  129.289993  129.889999  129.889999   \n6   2017-01-11  130.910004  131.500000  129.250000  130.500000  130.500000   \n7   2017-01-12  130.630005  130.850006  128.500000  129.179993  129.179993   \n8   2017-01-13  131.149994  133.929993  130.580002  133.699997  133.699997   \n9   2017-01-17  135.039993  135.399994  132.089996  132.889999  132.889999   \n10  2017-01-18  133.210007  133.649994  131.059998  133.259995  133.259995   \n11  2017-01-19  142.009995  143.460007  138.250000  138.410004  138.410004   \n12  2017-01-20  139.360001  140.789993  137.660004  138.600006  138.600006   \n13  2017-01-23  138.649994  139.490005  137.309998  137.389999  137.389999   \n14  2017-01-24  138.110001  140.929993  137.029999  140.110001  140.110001   \n15  2017-01-25  140.800003  141.389999  139.050003  139.520004  139.520004   \n16  2017-01-26  140.449997  141.210007  138.509995  138.960007  138.960007   \n17  2017-01-27  139.460007  142.490005  139.000000  142.449997  142.449997   \n18  2017-01-30  141.770004  141.970001  138.800003  141.220001  141.220001   \n19  2017-01-31  140.550003  141.830002  139.699997  140.710007  140.710007   \n\n      Volume Quarter  \n0    9437900      Q1  \n1    7843600      Q1  \n2   10185500      Q1  \n3   10657900      Q1  \n4    5766900      Q1  \n5    5985800      Q1  \n6    5615100      Q1  \n7    5388900      Q1  \n8   10515000      Q1  \n9   12183200      Q1  \n10  16168600      Q1  \n11  23203400      Q1  \n12   9497400      Q1  \n13   7433900      Q1  \n14   7754700      Q1  \n15   7238100      Q1  \n16   6038300      Q1  \n17   8323900      Q1  \n18   8122500      Q1  \n19   4411600      Q1  ",
      "text/html": "<div>\n<style scoped>\n    .dataframe tbody tr th:only-of-type {\n        vertical-align: middle;\n    }\n\n    .dataframe tbody tr th {\n        vertical-align: top;\n    }\n\n    .dataframe thead th {\n        text-align: right;\n    }\n</style>\n<table border=\"1\" class=\"dataframe\">\n  <thead>\n    <tr style=\"text-align: right;\">\n      <th></th>\n      <th>Date</th>\n      <th>Open</th>\n      <th>High</th>\n      <th>Low</th>\n      <th>Close</th>\n      <th>Adj Close</th>\n      <th>Volume</th>\n      <th>Quarter</th>\n    </tr>\n  </thead>\n  <tbody>\n    <tr>\n      <th>0</th>\n      <td>2017-01-03</td>\n      <td>124.959999</td>\n      <td>128.190002</td>\n      <td>124.309998</td>\n      <td>127.489998</td>\n      <td>127.489998</td>\n      <td>9437900</td>\n      <td>Q1</td>\n    </tr>\n    <tr>\n      <th>1</th>\n      <td>2017-01-04</td>\n      <td>127.489998</td>\n      <td>130.169998</td>\n      <td>126.550003</td>\n      <td>129.410004</td>\n      <td>129.410004</td>\n      <td>7843600</td>\n      <td>Q1</td>\n    </tr>\n    <tr>\n      <th>2</th>\n      <td>2017-01-05</td>\n      <td>129.220001</td>\n      <td>132.750000</td>\n      <td>128.899994</td>\n      <td>131.809998</td>\n      <td>131.809998</td>\n      <td>10185500</td>\n      <td>Q1</td>\n    </tr>\n    <tr>\n      <th>3</th>\n      <td>2017-01-06</td>\n      <td>132.080002</td>\n      <td>133.880005</td>\n      <td>129.809998</td>\n      <td>131.070007</td>\n      <td>131.070007</td>\n      <td>10657900</td>\n      <td>Q1</td>\n    </tr>\n    <tr>\n      <th>4</th>\n      <td>2017-01-09</td>\n      <td>131.479996</td>\n      <td>131.990005</td>\n      <td>129.889999</td>\n      <td>130.949997</td>\n      <td>130.949997</td>\n      <td>5766900</td>\n      <td>Q1</td>\n    </tr>\n    <tr>\n      <th>5</th>\n      <td>2017-01-10</td>\n      <td>131.270004</td>\n      <td>132.220001</td>\n      <td>129.289993</td>\n      <td>129.889999</td>\n      <td>129.889999</td>\n      <td>5985800</td>\n      <td>Q1</td>\n    </tr>\n    <tr>\n      <th>6</th>\n      <td>2017-01-11</td>\n      <td>130.910004</td>\n      <td>131.500000</td>\n      <td>129.250000</td>\n      <td>130.500000</td>\n      <td>130.500000</td>\n      <td>5615100</td>\n      <td>Q1</td>\n    </tr>\n    <tr>\n      <th>7</th>\n      <td>2017-01-12</td>\n      <td>130.630005</td>\n      <td>130.850006</td>\n      <td>128.500000</td>\n      <td>129.179993</td>\n      <td>129.179993</td>\n      <td>5388900</td>\n      <td>Q1</td>\n    </tr>\n    <tr>\n      <th>8</th>\n      <td>2017-01-13</td>\n      <td>131.149994</td>\n      <td>133.929993</td>\n      <td>130.580002</td>\n      <td>133.699997</td>\n      <td>133.699997</td>\n      <td>10515000</td>\n      <td>Q1</td>\n    </tr>\n    <tr>\n      <th>9</th>\n      <td>2017-01-17</td>\n      <td>135.039993</td>\n      <td>135.399994</td>\n      <td>132.089996</td>\n      <td>132.889999</td>\n      <td>132.889999</td>\n      <td>12183200</td>\n      <td>Q1</td>\n    </tr>\n    <tr>\n      <th>10</th>\n      <td>2017-01-18</td>\n      <td>133.210007</td>\n      <td>133.649994</td>\n      <td>131.059998</td>\n      <td>133.259995</td>\n      <td>133.259995</td>\n      <td>16168600</td>\n      <td>Q1</td>\n    </tr>\n    <tr>\n      <th>11</th>\n      <td>2017-01-19</td>\n      <td>142.009995</td>\n      <td>143.460007</td>\n      <td>138.250000</td>\n      <td>138.410004</td>\n      <td>138.410004</td>\n      <td>23203400</td>\n      <td>Q1</td>\n    </tr>\n    <tr>\n      <th>12</th>\n      <td>2017-01-20</td>\n      <td>139.360001</td>\n      <td>140.789993</td>\n      <td>137.660004</td>\n      <td>138.600006</td>\n      <td>138.600006</td>\n      <td>9497400</td>\n      <td>Q1</td>\n    </tr>\n    <tr>\n      <th>13</th>\n      <td>2017-01-23</td>\n      <td>138.649994</td>\n      <td>139.490005</td>\n      <td>137.309998</td>\n      <td>137.389999</td>\n      <td>137.389999</td>\n      <td>7433900</td>\n      <td>Q1</td>\n    </tr>\n    <tr>\n      <th>14</th>\n      <td>2017-01-24</td>\n      <td>138.110001</td>\n      <td>140.929993</td>\n      <td>137.029999</td>\n      <td>140.110001</td>\n      <td>140.110001</td>\n      <td>7754700</td>\n      <td>Q1</td>\n    </tr>\n    <tr>\n      <th>15</th>\n      <td>2017-01-25</td>\n      <td>140.800003</td>\n      <td>141.389999</td>\n      <td>139.050003</td>\n      <td>139.520004</td>\n      <td>139.520004</td>\n      <td>7238100</td>\n      <td>Q1</td>\n    </tr>\n    <tr>\n      <th>16</th>\n      <td>2017-01-26</td>\n      <td>140.449997</td>\n      <td>141.210007</td>\n      <td>138.509995</td>\n      <td>138.960007</td>\n      <td>138.960007</td>\n      <td>6038300</td>\n      <td>Q1</td>\n    </tr>\n    <tr>\n      <th>17</th>\n      <td>2017-01-27</td>\n      <td>139.460007</td>\n      <td>142.490005</td>\n      <td>139.000000</td>\n      <td>142.449997</td>\n      <td>142.449997</td>\n      <td>8323900</td>\n      <td>Q1</td>\n    </tr>\n    <tr>\n      <th>18</th>\n      <td>2017-01-30</td>\n      <td>141.770004</td>\n      <td>141.970001</td>\n      <td>138.800003</td>\n      <td>141.220001</td>\n      <td>141.220001</td>\n      <td>8122500</td>\n      <td>Q1</td>\n    </tr>\n    <tr>\n      <th>19</th>\n      <td>2017-01-31</td>\n      <td>140.550003</td>\n      <td>141.830002</td>\n      <td>139.699997</td>\n      <td>140.710007</td>\n      <td>140.710007</td>\n      <td>4411600</td>\n      <td>Q1</td>\n    </tr>\n  </tbody>\n</table>\n</div>"
     },
     "execution_count": 9,
     "metadata": {},
     "output_type": "execute_result"
    }
   ],
   "source": [
    "netflix_stocks_quarterly = pd.read_csv(\"NFLX_daily_by_quarter.csv\")\n",
    "netflix_stocks_quarterly.head(20)"
   ]
  },
  {
   "cell_type": "markdown",
   "metadata": {
    "pycharm": {
     "name": "#%% md\n"
    }
   },
   "source": [
    "## Step 3"
   ]
  },
  {
   "cell_type": "markdown",
   "metadata": {
    "pycharm": {
     "name": "#%% md\n"
    }
   },
   "source": [
    "Let's learn more about our data. The datasets are large and it may be easier to view the entire dataset locally on your computer. Open the CSV files directly from the folder you downloaded for this project.\n",
    " - `NFLX` is the stock ticker symbol for Netflix and `^DJI` is the stock ticker symbol for the Dow Jones industrial Average, which is why the CSV files are named accordingly\n",
    " - In the Yahoo Data, `Adj Close` is documented as adjusted close price adjusted for both dividends and splits.\n",
    " - You can learn more about why the Dow Jones Industrial Average is a industry reflection of the larger stock market [here](https://www.investopedia.com/terms/d/djia.asp). \n",
    " \n",
    "Answer the following questions by inspecting the data in the **NFLX.csv**,**DJI.csv**, and **NFLX_daily_by_quarter.csv** in your computer."
   ]
  },
  {
   "cell_type": "markdown",
   "metadata": {
    "pycharm": {
     "name": "#%% md\n"
    }
   },
   "source": [
    "What year is represented in the data? Look out for the latest and earliest date."
   ]
  },
  {
   "cell_type": "code",
   "execution_count": null,
   "metadata": {
    "pycharm": {
     "name": "#%%\n"
    }
   },
   "outputs": [],
   "source": [
    "2017"
   ]
  },
  {
   "cell_type": "markdown",
   "metadata": {
    "pycharm": {
     "name": "#%% md\n"
    }
   },
   "source": [
    "+ Is the data represented by days, weeks, or months? \n",
    "+ In which ways are the files different? \n",
    "+ What's different about the columns for `netflix_stocks` versus `netflix_stocks_quarterly`?"
   ]
  },
  {
   "cell_type": "code",
   "execution_count": null,
   "metadata": {
    "pycharm": {
     "name": "#%%\n"
    }
   },
   "outputs": [],
   "source": []
  },
  {
   "cell_type": "markdown",
   "metadata": {
    "pycharm": {
     "name": "#%% md\n"
    }
   },
   "source": [
    "## Step 4\n",
    "\n",
    "Great! Now that we have spent sometime looking at the data, let's look at the column names of the DataFrame `netflix_stocks` using `.head()`. "
   ]
  },
  {
   "cell_type": "code",
   "execution_count": 10,
   "metadata": {
    "pycharm": {
     "name": "#%%\n"
    }
   },
   "outputs": [
    {
     "data": {
      "text/plain": "         Date        Open        High         Low       Close   Adj Close  \\\n0  2017-01-01  124.959999  143.460007  124.309998  140.710007  140.710007   \n1  2017-02-01  141.199997  145.949997  139.050003  142.130005  142.130005   \n2  2017-03-01  142.839996  148.289993  138.259995  147.809998  147.809998   \n3  2017-04-01  146.699997  153.520004  138.660004  152.199997  152.199997   \n4  2017-05-01  151.910004  164.750000  151.610001  163.070007  163.070007   \n\n      Volume  \n0  181772200  \n1   91432000  \n2  110692700  \n3  149769200  \n4  116795800  ",
      "text/html": "<div>\n<style scoped>\n    .dataframe tbody tr th:only-of-type {\n        vertical-align: middle;\n    }\n\n    .dataframe tbody tr th {\n        vertical-align: top;\n    }\n\n    .dataframe thead th {\n        text-align: right;\n    }\n</style>\n<table border=\"1\" class=\"dataframe\">\n  <thead>\n    <tr style=\"text-align: right;\">\n      <th></th>\n      <th>Date</th>\n      <th>Open</th>\n      <th>High</th>\n      <th>Low</th>\n      <th>Close</th>\n      <th>Adj Close</th>\n      <th>Volume</th>\n    </tr>\n  </thead>\n  <tbody>\n    <tr>\n      <th>0</th>\n      <td>2017-01-01</td>\n      <td>124.959999</td>\n      <td>143.460007</td>\n      <td>124.309998</td>\n      <td>140.710007</td>\n      <td>140.710007</td>\n      <td>181772200</td>\n    </tr>\n    <tr>\n      <th>1</th>\n      <td>2017-02-01</td>\n      <td>141.199997</td>\n      <td>145.949997</td>\n      <td>139.050003</td>\n      <td>142.130005</td>\n      <td>142.130005</td>\n      <td>91432000</td>\n    </tr>\n    <tr>\n      <th>2</th>\n      <td>2017-03-01</td>\n      <td>142.839996</td>\n      <td>148.289993</td>\n      <td>138.259995</td>\n      <td>147.809998</td>\n      <td>147.809998</td>\n      <td>110692700</td>\n    </tr>\n    <tr>\n      <th>3</th>\n      <td>2017-04-01</td>\n      <td>146.699997</td>\n      <td>153.520004</td>\n      <td>138.660004</td>\n      <td>152.199997</td>\n      <td>152.199997</td>\n      <td>149769200</td>\n    </tr>\n    <tr>\n      <th>4</th>\n      <td>2017-05-01</td>\n      <td>151.910004</td>\n      <td>164.750000</td>\n      <td>151.610001</td>\n      <td>163.070007</td>\n      <td>163.070007</td>\n      <td>116795800</td>\n    </tr>\n  </tbody>\n</table>\n</div>"
     },
     "execution_count": 10,
     "metadata": {},
     "output_type": "execute_result"
    }
   ],
   "source": [
    "netflix_stocks.head()"
   ]
  },
  {
   "cell_type": "markdown",
   "metadata": {
    "pycharm": {
     "name": "#%% md\n"
    }
   },
   "source": [
    "What do you notice? The first two column names are one word each, and the only one that is not is `Adj Close`! \n",
    "\n",
    "The term `Adj Close` is a confusing term if you don't read the Yahoo Documentation. In Yahoo, `Adj Close` is documented as adjusted close price adjusted for both dividends and splits.\n",
    "\n",
    "This means this is the column with the true closing price, so these data are very important.\n",
    "\n",
    "Use Pandas to change the name of of the column to `Adj Close` to `Price` so that it is easier to work with the data. Remember to use `inplace=True`.\n",
    "\n",
    "Do this for the Dow Jones and Netflix Quarterly pandas dataframes as well.\n",
    "Hint: Use [`.rename()`](https://pandas.pydata.org/pandas-docs/stable/generated/pandas.DataFrame.rename.html)).\n"
   ]
  },
  {
   "cell_type": "code",
   "execution_count": 11,
   "metadata": {
    "pycharm": {
     "name": "#%%\n"
    }
   },
   "outputs": [],
   "source": [
    "netflix_stocks.rename(columns={\"Adj Close\" : \"Price\"}, inplace=True)\n",
    "dowjones_stocks.rename(columns={\"Adj Close\" : \"Price\"}, inplace=True)\n",
    "netflix_stocks_quarterly.rename(columns={\"Adj Close\" : \"Price\"}, inplace=True)"
   ]
  },
  {
   "cell_type": "markdown",
   "metadata": {
    "pycharm": {
     "name": "#%% md\n"
    }
   },
   "source": [
    "Run `netflix_stocks.head()` again to check your column name has changed."
   ]
  },
  {
   "cell_type": "code",
   "execution_count": 12,
   "metadata": {
    "pycharm": {
     "name": "#%%\n"
    }
   },
   "outputs": [
    {
     "data": {
      "text/plain": "         Date        Open        High         Low       Close       Price  \\\n0  2017-01-01  124.959999  143.460007  124.309998  140.710007  140.710007   \n1  2017-02-01  141.199997  145.949997  139.050003  142.130005  142.130005   \n2  2017-03-01  142.839996  148.289993  138.259995  147.809998  147.809998   \n3  2017-04-01  146.699997  153.520004  138.660004  152.199997  152.199997   \n4  2017-05-01  151.910004  164.750000  151.610001  163.070007  163.070007   \n\n      Volume  \n0  181772200  \n1   91432000  \n2  110692700  \n3  149769200  \n4  116795800  ",
      "text/html": "<div>\n<style scoped>\n    .dataframe tbody tr th:only-of-type {\n        vertical-align: middle;\n    }\n\n    .dataframe tbody tr th {\n        vertical-align: top;\n    }\n\n    .dataframe thead th {\n        text-align: right;\n    }\n</style>\n<table border=\"1\" class=\"dataframe\">\n  <thead>\n    <tr style=\"text-align: right;\">\n      <th></th>\n      <th>Date</th>\n      <th>Open</th>\n      <th>High</th>\n      <th>Low</th>\n      <th>Close</th>\n      <th>Price</th>\n      <th>Volume</th>\n    </tr>\n  </thead>\n  <tbody>\n    <tr>\n      <th>0</th>\n      <td>2017-01-01</td>\n      <td>124.959999</td>\n      <td>143.460007</td>\n      <td>124.309998</td>\n      <td>140.710007</td>\n      <td>140.710007</td>\n      <td>181772200</td>\n    </tr>\n    <tr>\n      <th>1</th>\n      <td>2017-02-01</td>\n      <td>141.199997</td>\n      <td>145.949997</td>\n      <td>139.050003</td>\n      <td>142.130005</td>\n      <td>142.130005</td>\n      <td>91432000</td>\n    </tr>\n    <tr>\n      <th>2</th>\n      <td>2017-03-01</td>\n      <td>142.839996</td>\n      <td>148.289993</td>\n      <td>138.259995</td>\n      <td>147.809998</td>\n      <td>147.809998</td>\n      <td>110692700</td>\n    </tr>\n    <tr>\n      <th>3</th>\n      <td>2017-04-01</td>\n      <td>146.699997</td>\n      <td>153.520004</td>\n      <td>138.660004</td>\n      <td>152.199997</td>\n      <td>152.199997</td>\n      <td>149769200</td>\n    </tr>\n    <tr>\n      <th>4</th>\n      <td>2017-05-01</td>\n      <td>151.910004</td>\n      <td>164.750000</td>\n      <td>151.610001</td>\n      <td>163.070007</td>\n      <td>163.070007</td>\n      <td>116795800</td>\n    </tr>\n  </tbody>\n</table>\n</div>"
     },
     "execution_count": 12,
     "metadata": {},
     "output_type": "execute_result"
    }
   ],
   "source": [
    "netflix_stocks.head()"
   ]
  },
  {
   "cell_type": "code",
   "execution_count": null,
   "metadata": {
    "pycharm": {
     "name": "#%%\n"
    }
   },
   "outputs": [],
   "source": []
  },
  {
   "cell_type": "markdown",
   "metadata": {
    "pycharm": {
     "name": "#%% md\n"
    }
   },
   "source": [
    "## Step 5\n",
    "\n",
    "In this step, we will be visualizing the Netflix quarterly data! \n",
    "\n",
    "We want to get an understanding of the distribution of the Netflix quarterly stock prices for 2017. Specifically, we want to see in which quarter stock prices flucutated the most. We can accomplish this using a violin plot with four violins, one for each business quarter!\n",
    "\n",
    "\n",
    "1. Start by creating a variable `ax` and setting it equal to `sns.violinplot()`. This will instantiate a figure and give us access to the axes through the variable name `ax`.\n",
    "2. Use `sns.violinplot()` and pass in the following arguments:\n",
    "+ The `Quarter` column as the `x` values\n",
    "+ The `Price` column as your `y` values\n",
    "+ The `netflix_stocks_quarterly` dataframe as your `data`\n",
    "3. Improve the readability of the chart by adding a title of the plot. Add `\"Distribution of 2017 Netflix Stock Prices by Quarter\"` by using `ax.set_title()`\n",
    "4. Change your `ylabel` to \"Closing Stock Price\"\n",
    "5. Change your `xlabel` to \"Business Quarters in 2017\"\n",
    "6. Be sure to show your plot!\n"
   ]
  },
  {
   "cell_type": "code",
   "execution_count": 13,
   "metadata": {
    "scrolled": true,
    "pycharm": {
     "name": "#%%\n"
    }
   },
   "outputs": [
    {
     "data": {
      "text/plain": "<Figure size 432x288 with 1 Axes>",
      "image/png": "[encoded data removed]"
     },
     "metadata": {},
     "output_type": "display_data"
    }
   ],
   "source": [
    "ax = sns.violinplot(data=netflix_stocks_quarterly, x=\"Quarter\", y=\"Price\")\n",
    "ax.set_title(\"Distribution od 2017 Netflix Stock Prices by Quarter\")\n",
    "plt.ylabel(\"Closing Stock Price\")\n",
    "plt.xlabel(\"Business Quarters in 2017\")\n",
    "plt.show()"
   ]
  },
  {
   "cell_type": "markdown",
   "metadata": {
    "pycharm": {
     "name": "#%% md\n"
    }
   },
   "source": [
    "## Graph Literacy\n",
    "- What are your first impressions looking at the visualized data?\n",
    "\n",
    "- In what range(s) did most of the prices fall throughout the year?\n",
    "\n",
    "- What were the highest and lowest prices? "
   ]
  },
  {
   "cell_type": "markdown",
   "metadata": {
    "pycharm": {
     "name": "#%% md\n"
    }
   },
   "source": [
    " "
   ]
  },
  {
   "cell_type": "markdown",
   "metadata": {
    "pycharm": {
     "name": "#%% md\n"
    }
   },
   "source": [
    " "
   ]
  },
  {
   "cell_type": "markdown",
   "metadata": {
    "pycharm": {
     "name": "#%% md\n"
    }
   },
   "source": [
    "## Step 6\n",
    "\n",
    "Next, we will chart the performance of the earnings per share (EPS) by graphing the estimate Yahoo projected for the Quarter compared to the actual earnings for that quarters. We will accomplish this using a scatter chart. \n",
    "\n",
    "1. Plot the actual EPS by using `x_positions` and `earnings_actual` with the `plt.scatter()` function. Assign `red` as the color.\n",
    "2. Plot the actual EPS by using `x_positions` and `earnings_estimate` with the `plt.scatter()` function. Assign `blue` as the color\n",
    "\n",
    "3. Often, estimates and actual EPS are the same. To account for this, be sure to set your transparency  `alpha=0.5` to allow for visibility pf overlapping datapoint.\n",
    "4. Add a legend by using `plt.legend()` and passing in a list with two strings `[\"Actual\", \"Estimate\"]`\n",
    "\n",
    "5. Change the `x_ticks` label to reflect each quarter by using `plt.xticks(x_positions, chart_labels)`\n",
    "6. Assing \"`\"Earnings Per Share in Cents\"` as the title of your plot.\n"
   ]
  },
  {
   "cell_type": "code",
   "execution_count": 14,
   "metadata": {
    "pycharm": {
     "name": "#%%\n"
    }
   },
   "outputs": [
    {
     "data": {
      "text/plain": "<Figure size 432x288 with 1 Axes>",
      "image/png": "[encoded data removed]"
     },
     "metadata": {},
     "output_type": "display_data"
    }
   ],
   "source": [
    "x_positions = [1, 2, 3, 4]\n",
    "chart_labels = [\"1Q2017\",\"2Q2017\",\"3Q2017\",\"4Q2017\"]\n",
    "earnings_actual =[.4, .15,.29,.41]\n",
    "earnings_estimate = [.37,.15,.32,.41 ]\n",
    "plt.scatter(x_positions, earnings_actual, color = \"red\", alpha=0.5)\n",
    "plt.scatter(x_positions, earnings_estimate, color = \"blue\", alpha=0.5)\n",
    "plt.legend([\"Actual\", \"Estimate\"])\n",
    "plt.xticks(x_positions, chart_labels)\n",
    "plt.title(\"Earing Per Share in Cents\")\n",
    "plt.show()"
   ]
  },
  {
   "cell_type": "markdown",
   "metadata": {
    "collapsed": true,
    "pycharm": {
     "name": "#%% md\n"
    }
   },
   "source": [
    "## Graph Literacy\n",
    "\n",
    "+ What do the purple dots tell us about the actual and estimate earnings per share in this graph? Hint: In color theory red and blue mix to make purple.\n"
   ]
  },
  {
   "cell_type": "markdown",
   "metadata": {
    "pycharm": {
     "name": "#%% md\n"
    }
   },
   "source": [
    " "
   ]
  },
  {
   "cell_type": "markdown",
   "metadata": {
    "pycharm": {
     "name": "#%% md\n"
    }
   },
   "source": [
    " "
   ]
  },
  {
   "cell_type": "markdown",
   "metadata": {
    "pycharm": {
     "name": "#%% md\n"
    }
   },
   "source": [
    "## Step 7"
   ]
  },
  {
   "cell_type": "markdown",
   "metadata": {
    "pycharm": {
     "name": "#%% md\n"
    }
   },
   "source": [
    "Next, we will visualize the earnings and revenue reported by Netflix by mapping two bars side-by-side. We have visualized a similar chart in the second Matplotlib lesson [Exercise 4](https://www.codecademy.com/courses/learn-matplotlib/lessons/matplotlib-ii/exercises/side-by-side-bars).\n",
    "\n",
    "As you may recall, plotting side-by-side bars in Matplotlib requires computing the width of each bar before hand. We have pasted the starter code for that exercise below. \n",
    "\n",
    "1. Fill in the `n`, `t`, `d`, `w` values for the revenue bars\n",
    "2. Plot the revenue bars by calling `plt.bar()` with the newly computed `x_values` and the `revenue_by_quarter` data\n",
    "3. Fill in the `n`, `t`, `d`, `w` values for the earnings bars\n",
    "4. Plot the revenue bars by calling `plt.bar()` with the newly computed `x_values` and the `earnings_by_quarter` data\n",
    "5. Create a legend for your bar chart with the `labels` provided\n",
    "6. Add a descriptive title for your chart with `plt.title()`\n",
    "7. Add labels to each quarter by assigning the position of the ticks through the code provided. Hint:  `plt.xticks(middle_x, quarter_labels)`\n",
    "8. Be sure to show your plot!\n"
   ]
  },
  {
   "cell_type": "code",
   "execution_count": 17,
   "metadata": {
    "pycharm": {
     "name": "#%%\n"
    }
   },
   "outputs": [
    {
     "data": {
      "text/plain": "<Figure size 432x288 with 1 Axes>",
      "image/png": "[encoded data removed]"
     },
     "metadata": {},
     "output_type": "display_data"
    }
   ],
   "source": [
    "# The metrics below are in billions of dollars\n",
    "revenue_by_quarter = [2.79, 2.98,3.29,3.7]\n",
    "earnings_by_quarter = [.0656,.12959,.18552,.29012]\n",
    "quarter_labels = [\"2Q2017\",\"3Q2017\",\"4Q2017\", \"1Q2018\"]\n",
    "\n",
    "# Revenue\n",
    "n = 1  # This is our first dataset (out of 2)\n",
    "t = 2 # Number of dataset\n",
    "d = 4 # Number of sets of bars\n",
    "w = 0.8 # Width of each bar\n",
    "bars1_x = [t*element + w*n for element\n",
    "             in range(d)]\n",
    "\n",
    "\n",
    "\n",
    "# Earnings\n",
    "n = 2  # This is our second dataset (out of 2)\n",
    "t = 2 # Number of dataset\n",
    "d = 4 # Number of sets of bars\n",
    "w = 0.8 # Width of each bar\n",
    "bars2_x = [t*element + w*n for element\n",
    "             in range(d)]\n",
    "\n",
    "\n",
    "plt.bar(bars1_x, revenue_by_quarter)\n",
    "plt.bar(bars2_x, earnings_by_quarter)\n",
    "\n",
    "\n",
    "middle_x = [ (a + b) / 2.0 for a, b in zip(bars1_x, bars2_x)]\n",
    "labels = [\"Revenue\", \"Earnings\"]\n",
    "plt.xticks(middle_x, quarter_labels)\n",
    "plt.title(\"Earings and revenue\")\n",
    "plt.show()"
   ]
  },
  {
   "cell_type": "markdown",
   "metadata": {
    "pycharm": {
     "name": "#%% md\n"
    }
   },
   "source": [
    "## Graph Literacy\n",
    "What are your first impressions looking at the visualized data?\n",
    "\n",
    "- Does Revenue follow a trend?\n",
    "- Do Earnings follow a trend?\n",
    "- Roughly, what percentage of the revenue constitutes earnings?"
   ]
  },
  {
   "cell_type": "code",
   "execution_count": null,
   "metadata": {
    "pycharm": {
     "name": "#%%\n"
    }
   },
   "outputs": [],
   "source": []
  },
  {
   "cell_type": "markdown",
   "metadata": {
    "pycharm": {
     "name": "#%% md\n"
    }
   },
   "source": [
    "## Step 8\n",
    "\n",
    "In this last step, we will compare Netflix stock to the Dow Jones Industrial Average in 2017. We will accomplish this by plotting two line charts side by side in one figure. \n",
    "\n",
    "Since `Price` which is the most relevant data is in the Y axis, let's map our subplots to align vertically side by side.\n",
    "- We have set up the code for you on line 1 in the cell below. Complete the figure by passing the following arguments to `plt.subplots()` for the first plot, and tweaking the third argument for the second plot\n",
    "    - `1`-- the number of rows for the subplots\n",
    "    - `2` -- the number of columns for the subplots\n",
    "    - `1` -- the subplot you are modifying\n",
    "\n",
    "- Chart the Netflix Stock Prices in the left-hand subplot. Using your data frame, access the `Date` and `Price` charts as the x and y axes respectively. Hint: (`netflix_stocks['Date'], netflix_stocks['Price']`)\n",
    "- Assign \"Netflix\" as a title to this subplot. Hint: `ax1.set_title()`\n",
    "- For each subplot, `set_xlabel` to `\"Date\"` and `set_ylabel` to `\"Stock Price\"`\n",
    "- Chart the Dow Jones Stock Prices in the left-hand subplot. Using your data frame, access the `Date` and `Price` charts as the x and y axes respectively. Hint: (`dowjones_stocks['Date'], dowjones_stocks['Price']`)\n",
    "- Assign \"Dow Jones\" as a title to this subplot. Hint: `plt.set_title()`\n",
    "- There is some crowding in the Y axis labels, add some space by calling `plt.subplots_adjust(wspace=.5)`\n",
    "- Be sure to `.show()` your plots.\n"
   ]
  },
  {
   "cell_type": "code",
   "execution_count": 19,
   "metadata": {
    "pycharm": {
     "name": "#%%\n"
    }
   },
   "outputs": [
    {
     "data": {
      "text/plain": "<Figure size 432x288 with 2 Axes>",
      "image/png": "[encoded data removed]"
     },
     "metadata": {},
     "output_type": "display_data"
    }
   ],
   "source": [
    "# Left plot Netflix\n",
    "# ax1 = plt.subplot(total number rows, total number columns, index of subplot to modify)\n",
    "ax1 = plt.subplot(1,2,1)\n",
    "plt.plot(netflix_stocks[\"Date\"], netflix_stocks[\"Price\"])\n",
    "ax1.set_title(\"Netflix\")\n",
    "ax1.set_xlabel(\"Date\")\n",
    "ax1.set_ylabel(\"Stock Price\")\n",
    "\n",
    "\n",
    "\n",
    "\n",
    "\n",
    "# Right plot Dow Jones\n",
    "# ax2 = plt.subplot(total number rows, total number columns, index of subplot to modify)\n",
    "ax2 = plt.subplot(1,2,2)\n",
    "plt.plot(dowjones_stocks[\"Date\"], dowjones_stocks[\"Price\"])\n",
    "ax2.set_title(\"Dow Jones\")\n",
    "ax2.set_xlabel(\"Date\")\n",
    "ax2.set_ylabel(\"Stock Price\")\n",
    "\n",
    "plt.subplots_adjust(wspace=0.5)\n",
    "plt.show()\n"
   ]
  },
  {
   "cell_type": "markdown",
   "metadata": {
    "pycharm": {
     "name": "#%% md\n"
    }
   },
   "source": [
    "- How did Netflix perform relative to Dow Jones Industrial Average in 2017?\n",
    "- Which was more volatile?\n",
    "- How do the prices of the stocks compare?"
   ]
  },
  {
   "cell_type": "markdown",
   "metadata": {
    "pycharm": {
     "name": "#%% md\n"
    }
   },
   "source": [
    " "
   ]
  },
  {
   "cell_type": "markdown",
   "metadata": {
    "pycharm": {
     "name": "#%% md\n"
    }
   },
   "source": [
    "# Step 9\n",
    "\n",
    "It's time to make your presentation! Save each of your visualizations as a png file with `plt.savefig(\"filename.png\")`.\n",
    "\n",
    "As you prepare your slides, think about the answers to the graph literacy questions. Embed your observations in the narrative of your slideshow!\n",
    "\n",
    "Remember that your slideshow must include:\n",
    "- A title slide\n",
    "- A list of your visualizations and your role in their creation for the \"Stock Profile\" team\n",
    "- A visualization of the distribution of the stock prices for Netflix in 2017\n",
    "- A visualization and a summary of Netflix stock and revenue for the past four quarters and a summary\n",
    "- A visualization and a brief summary of their earned versus actual earnings per share\n",
    "- A visualization of Netflix stock against the Dow Jones stock (to get a sense of the market) in 2017\n"
   ]
  },
  {
   "cell_type": "code",
   "execution_count": null,
   "metadata": {
    "pycharm": {
     "name": "#%%\n"
    }
   },
   "outputs": [],
   "source": []
  }
 ],
 "metadata": {
  "kernelspec": {
   "display_name": "Python 3",
   "language": "python",
   "name": "python3"
  },
  "language_info": {
   "codemirror_mode": {
    "name": "ipython",
    "version": 3
   },
   "file_extension": ".py",
   "mimetype": "text/x-python",
   "name": "python",
   "nbconvert_exporter": "python",
   "pygments_lexer": "ipython3",
   "version": "3.6.4"
  }
 },
 "nbformat": 4,
 "nbformat_minor": 2
}