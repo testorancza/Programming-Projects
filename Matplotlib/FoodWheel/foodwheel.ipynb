{
 "cells": [
  {
   "cell_type": "code",
   "execution_count": 7,
   "metadata": {
    "collapsed": true,
    "pycharm": {
     "name": "#%%\n"
    }
   },
   "outputs": [
    {
     "data": {
      "text/plain": "   id                name neighborhood  cuisine\n0   1          Jongro BBQ      Midtown   Korean\n1   2            Pocha 32      Midtown   Korean\n2   3  Nom Wah Tea Parlor    Chinatown  Chinese\n3   4           Roberta’s     Brooklyn    Pizza\n4   5        Speedy Romeo     Brooklyn    Pizza",
      "text/html": "<div>\n<style scoped>\n    .dataframe tbody tr th:only-of-type {\n        vertical-align: middle;\n    }\n\n    .dataframe tbody tr th {\n        vertical-align: top;\n    }\n\n    .dataframe thead th {\n        text-align: right;\n    }\n</style>\n<table border=\"1\" class=\"dataframe\">\n  <thead>\n    <tr style=\"text-align: right;\">\n      <th></th>\n      <th>id</th>\n      <th>name</th>\n      <th>neighborhood</th>\n      <th>cuisine</th>\n    </tr>\n  </thead>\n  <tbody>\n    <tr>\n      <th>0</th>\n      <td>1</td>\n      <td>Jongro BBQ</td>\n      <td>Midtown</td>\n      <td>Korean</td>\n    </tr>\n    <tr>\n      <th>1</th>\n      <td>2</td>\n      <td>Pocha 32</td>\n      <td>Midtown</td>\n      <td>Korean</td>\n    </tr>\n    <tr>\n      <th>2</th>\n      <td>3</td>\n      <td>Nom Wah Tea Parlor</td>\n      <td>Chinatown</td>\n      <td>Chinese</td>\n    </tr>\n    <tr>\n      <th>3</th>\n      <td>4</td>\n      <td>Roberta’s</td>\n      <td>Brooklyn</td>\n      <td>Pizza</td>\n    </tr>\n    <tr>\n      <th>4</th>\n      <td>5</td>\n      <td>Speedy Romeo</td>\n      <td>Brooklyn</td>\n      <td>Pizza</td>\n    </tr>\n  </tbody>\n</table>\n</div>"
     },
     "execution_count": 7,
     "metadata": {},
     "output_type": "execute_result"
    }
   ],
   "source": [
    "import pandas as pd\n",
    "from matplotlib import pyplot as plt\n",
    "import numpy as np\n",
    "\n",
    "restaurants = pd.read_csv(\"restaurants.csv\")\n",
    "\n",
    "restaurants.head()"
   ]
  },
  {
   "cell_type": "code",
   "execution_count": 6,
   "outputs": [
    {
     "data": {
      "text/plain": "      cuisine  id\n0    American  10\n1     Chinese  11\n2     Italian   8\n3    Japanese   4\n4      Korean   3\n5       Pizza   4\n6  Vegetarian   4",
      "text/html": "<div>\n<style scoped>\n    .dataframe tbody tr th:only-of-type {\n        vertical-align: middle;\n    }\n\n    .dataframe tbody tr th {\n        vertical-align: top;\n    }\n\n    .dataframe thead th {\n        text-align: right;\n    }\n</style>\n<table border=\"1\" class=\"dataframe\">\n  <thead>\n    <tr style=\"text-align: right;\">\n      <th></th>\n      <th>cuisine</th>\n      <th>id</th>\n    </tr>\n  </thead>\n  <tbody>\n    <tr>\n      <th>0</th>\n      <td>American</td>\n      <td>10</td>\n    </tr>\n    <tr>\n      <th>1</th>\n      <td>Chinese</td>\n      <td>11</td>\n    </tr>\n    <tr>\n      <th>2</th>\n      <td>Italian</td>\n      <td>8</td>\n    </tr>\n    <tr>\n      <th>3</th>\n      <td>Japanese</td>\n      <td>4</td>\n    </tr>\n    <tr>\n      <th>4</th>\n      <td>Korean</td>\n      <td>3</td>\n    </tr>\n    <tr>\n      <th>5</th>\n      <td>Pizza</td>\n      <td>4</td>\n    </tr>\n    <tr>\n      <th>6</th>\n      <td>Vegetarian</td>\n      <td>4</td>\n    </tr>\n  </tbody>\n</table>\n</div>"
     },
     "execution_count": 6,
     "metadata": {},
     "output_type": "execute_result"
    }
   ],
   "source": [
    "cuisine_options_count = restaurants.cuisine.nunique()\n",
    "\n",
    "cuisine_counts = restaurants.groupby(\"cuisine\").id.count().reset_index()\n",
    "\n",
    "cuisine_counts"
   ],
   "metadata": {
    "collapsed": false,
    "pycharm": {
     "name": "#%%\n"
    }
   }
  },
  {
   "cell_type": "code",
   "execution_count": 3,
   "outputs": [
    {
     "data": {
      "text/plain": "<Figure size 432x288 with 1 Axes>",
      "image/png": "[encoded data removed]"
     },
     "metadata": {},
     "output_type": "display_data"
    }
   ],
   "source": [
    "cuisines = [\"American\", \"Chinese\", \"Italian\", \"Japanese\", \"Korean\", \"Pizza\", \"Vegetarian\"]\n",
    "counts = [10, 11, 8, 4, 3, 4, 4]\n",
    "\n",
    "plt.pie(counts, labels = cuisines, autopct='%d%%')\n",
    "plt.title(\"Cuisines in FoodWheel\")\n",
    "plt.axis(\"equal\")\n",
    "plt.show()"
   ],
   "metadata": {
    "collapsed": false,
    "pycharm": {
     "name": "#%%\n"
    }
   }
  },
  {
   "cell_type": "code",
   "execution_count": 5,
   "outputs": [
    {
     "data": {
      "text/plain": "   id  customer_id       date  price\n0   1           61  6-18-2017   13.0\n1   2          210   5-8-2017   21.0\n2   3            0   9-7-2017   33.0\n3   4           66   7-7-2017   19.0\n4   5           65  4-26-2017   13.0",
      "text/html": "<div>\n<style scoped>\n    .dataframe tbody tr th:only-of-type {\n        vertical-align: middle;\n    }\n\n    .dataframe tbody tr th {\n        vertical-align: top;\n    }\n\n    .dataframe thead th {\n        text-align: right;\n    }\n</style>\n<table border=\"1\" class=\"dataframe\">\n  <thead>\n    <tr style=\"text-align: right;\">\n      <th></th>\n      <th>id</th>\n      <th>customer_id</th>\n      <th>date</th>\n      <th>price</th>\n    </tr>\n  </thead>\n  <tbody>\n    <tr>\n      <th>0</th>\n      <td>1</td>\n      <td>61</td>\n      <td>6-18-2017</td>\n      <td>13.0</td>\n    </tr>\n    <tr>\n      <th>1</th>\n      <td>2</td>\n      <td>210</td>\n      <td>5-8-2017</td>\n      <td>21.0</td>\n    </tr>\n    <tr>\n      <th>2</th>\n      <td>3</td>\n      <td>0</td>\n      <td>9-7-2017</td>\n      <td>33.0</td>\n    </tr>\n    <tr>\n      <th>3</th>\n      <td>4</td>\n      <td>66</td>\n      <td>7-7-2017</td>\n      <td>19.0</td>\n    </tr>\n    <tr>\n      <th>4</th>\n      <td>5</td>\n      <td>65</td>\n      <td>4-26-2017</td>\n      <td>13.0</td>\n    </tr>\n  </tbody>\n</table>\n</div>"
     },
     "execution_count": 5,
     "metadata": {},
     "output_type": "execute_result"
    }
   ],
   "source": [
    "orders = pd.read_csv(\"orders.csv\")\n",
    "orders.head()"
   ],
   "metadata": {
    "collapsed": false,
    "pycharm": {
     "name": "#%%\n"
    }
   }
  },
  {
   "cell_type": "code",
   "execution_count": 9,
   "outputs": [
    {
     "data": {
      "text/plain": "  month      price\n0     4   9.609195\n1     5  14.858824\n2     6  15.152174\n3     7  18.012821\n4     8  21.150685\n5     9  29.505882",
      "text/html": "<div>\n<style scoped>\n    .dataframe tbody tr th:only-of-type {\n        vertical-align: middle;\n    }\n\n    .dataframe tbody tr th {\n        vertical-align: top;\n    }\n\n    .dataframe thead th {\n        text-align: right;\n    }\n</style>\n<table border=\"1\" class=\"dataframe\">\n  <thead>\n    <tr style=\"text-align: right;\">\n      <th></th>\n      <th>month</th>\n      <th>price</th>\n    </tr>\n  </thead>\n  <tbody>\n    <tr>\n      <th>0</th>\n      <td>4</td>\n      <td>9.609195</td>\n    </tr>\n    <tr>\n      <th>1</th>\n      <td>5</td>\n      <td>14.858824</td>\n    </tr>\n    <tr>\n      <th>2</th>\n      <td>6</td>\n      <td>15.152174</td>\n    </tr>\n    <tr>\n      <th>3</th>\n      <td>7</td>\n      <td>18.012821</td>\n    </tr>\n    <tr>\n      <th>4</th>\n      <td>8</td>\n      <td>21.150685</td>\n    </tr>\n    <tr>\n      <th>5</th>\n      <td>9</td>\n      <td>29.505882</td>\n    </tr>\n  </tbody>\n</table>\n</div>"
     },
     "execution_count": 9,
     "metadata": {},
     "output_type": "execute_result"
    }
   ],
   "source": [
    "orders[\"month\"] = orders.apply(lambda row: row[\"date\"][0], axis = 1)\n",
    "avg_order = orders.groupby(\"month\").price.mean().reset_index()\n",
    "avg_order"
   ],
   "metadata": {
    "collapsed": false,
    "pycharm": {
     "name": "#%%\n"
    }
   }
  },
  {
   "cell_type": "code",
   "execution_count": 10,
   "outputs": [
    {
     "name": "stdout",
     "output_type": "stream",
     "text": [
      "  month     price\n",
      "0     4  2.562504\n",
      "1     5  3.395210\n",
      "2     6  2.835934\n",
      "3     7  2.848985\n",
      "4     8  4.455556\n",
      "5     9  4.518806\n"
     ]
    }
   ],
   "source": [
    "std_order = orders.groupby(\"month\").price.std().reset_index()\n",
    "print(std_order)"
   ],
   "metadata": {
    "collapsed": false,
    "pycharm": {
     "name": "#%%\n"
    }
   }
  },
  {
   "cell_type": "code",
   "execution_count": 11,
   "outputs": [
    {
     "data": {
      "text/plain": "<Figure size 432x288 with 1 Axes>",
      "image/png": "[encoded data removed]"
     },
     "metadata": {
      "needs_background": "light"
     },
     "output_type": "display_data"
    }
   ],
   "source": [
    "ax = plt.subplot()\n",
    "bar_heights = avg_order[\"price\"]\n",
    "bar_errors = std_order[\"price\"]\n",
    "plt.bar(range(6), bar_heights, yerr = bar_errors, capsize=5)\n",
    "ax.set_xticks(range(6))\n",
    "ax.set_xticklabels([\"April\", \"May\", \"June\", \"July\", \"August\", \"September\"])\n",
    "plt.ylabel(\"Average price of order\")\n",
    "plt.title(\"Orders over time\")\n",
    "plt.show()"
   ],
   "metadata": {
    "collapsed": false,
    "pycharm": {
     "name": "#%%\n"
    }
   }
  },
  {
   "cell_type": "code",
   "execution_count": 12,
   "outputs": [
    {
     "name": "stdout",
     "output_type": "stream",
     "text": [
      "   customer_id  price\n",
      "0            0   83.0\n",
      "1            2   11.0\n",
      "2            3   65.0\n",
      "3            4   32.0\n",
      "4            5  119.0\n"
     ]
    },
    {
     "data": {
      "text/plain": "<Figure size 432x288 with 1 Axes>",
      "image/png": "[encoded data removed]"
     },
     "metadata": {
      "needs_background": "light"
     },
     "output_type": "display_data"
    }
   ],
   "source": [
    "customer_amount = orders.groupby(\"customer_id\").price.sum().reset_index()\n",
    "print(customer_amount.head())\n",
    "plt.hist(customer_amount[\"price\"], range=(0,200),  bins=40)\n",
    "plt.xlabel(\"Total Spent\")\n",
    "plt.ylabel(\"Number of Customers\")\n",
    "plt.title(\"Customer Types\")\n",
    "plt.show()"
   ],
   "metadata": {
    "collapsed": false,
    "pycharm": {
     "name": "#%%\n"
    }
   }
  },
  {
   "cell_type": "code",
   "execution_count": null,
   "outputs": [],
   "source": [],
   "metadata": {
    "collapsed": false,
    "pycharm": {
     "name": "#%%\n"
    }
   }
  }
 ],
 "metadata": {
  "kernelspec": {
   "display_name": "Python 3",
   "language": "python",
   "name": "python3"
  },
  "language_info": {
   "codemirror_mode": {
    "name": "ipython",
    "version": 2
   },
   "file_extension": ".py",
   "mimetype": "text/x-python",
   "name": "python",
   "nbconvert_exporter": "python",
   "pygments_lexer": "ipython2",
   "version": "2.7.6"
  }
 },
 "nbformat": 4,
 "nbformat_minor": 0
}